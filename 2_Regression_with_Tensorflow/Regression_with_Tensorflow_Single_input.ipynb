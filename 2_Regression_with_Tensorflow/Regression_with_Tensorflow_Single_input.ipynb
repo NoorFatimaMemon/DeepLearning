{
 "cells": [
  {
   "cell_type": "markdown",
   "metadata": {},
   "source": [
    "# **Building a Deep Neural Network Regression Model using TensorFlow**"
   ]
  },
  {
   "cell_type": "markdown",
   "metadata": {},
   "source": [
    "### **Importing All Necessary Libraries**"
   ]
  },
  {
   "cell_type": "code",
   "execution_count": 14,
   "metadata": {},
   "outputs": [],
   "source": [
    "import pandas as pd\n",
    "import tensorflow as tf\n",
    "from sklearn.model_selection import train_test_split\n",
    "from sklearn.preprocessing import StandardScaler\n",
    "import matplotlib.pyplot as plt"
   ]
  },
  {
   "cell_type": "markdown",
   "metadata": {},
   "source": [
    "### **Load the Dataset**"
   ]
  },
  {
   "cell_type": "code",
   "execution_count": 15,
   "metadata": {},
   "outputs": [
    {
     "data": {
      "text/html": [
       "<div>\n",
       "<style scoped>\n",
       "    .dataframe tbody tr th:only-of-type {\n",
       "        vertical-align: middle;\n",
       "    }\n",
       "\n",
       "    .dataframe tbody tr th {\n",
       "        vertical-align: top;\n",
       "    }\n",
       "\n",
       "    .dataframe thead th {\n",
       "        text-align: right;\n",
       "    }\n",
       "</style>\n",
       "<table border=\"1\" class=\"dataframe\">\n",
       "  <thead>\n",
       "    <tr style=\"text-align: right;\">\n",
       "      <th></th>\n",
       "      <th>Rank</th>\n",
       "      <th>Country</th>\n",
       "      <th>Overall Life</th>\n",
       "      <th>Male Life</th>\n",
       "      <th>Female Life</th>\n",
       "      <th>Continent</th>\n",
       "    </tr>\n",
       "  </thead>\n",
       "  <tbody>\n",
       "    <tr>\n",
       "      <th>0</th>\n",
       "      <td>1</td>\n",
       "      <td>Monaco</td>\n",
       "      <td>89.5</td>\n",
       "      <td>85.6</td>\n",
       "      <td>93.5</td>\n",
       "      <td>Europe</td>\n",
       "    </tr>\n",
       "    <tr>\n",
       "      <th>1</th>\n",
       "      <td>2</td>\n",
       "      <td>Japan</td>\n",
       "      <td>85.0</td>\n",
       "      <td>81.7</td>\n",
       "      <td>88.5</td>\n",
       "      <td>Asia</td>\n",
       "    </tr>\n",
       "    <tr>\n",
       "      <th>2</th>\n",
       "      <td>3</td>\n",
       "      <td>Singapore</td>\n",
       "      <td>85.0</td>\n",
       "      <td>82.3</td>\n",
       "      <td>87.8</td>\n",
       "      <td>Asia</td>\n",
       "    </tr>\n",
       "    <tr>\n",
       "      <th>3</th>\n",
       "      <td>4</td>\n",
       "      <td>Macau; China</td>\n",
       "      <td>84.5</td>\n",
       "      <td>81.6</td>\n",
       "      <td>87.6</td>\n",
       "      <td>Asia</td>\n",
       "    </tr>\n",
       "    <tr>\n",
       "      <th>4</th>\n",
       "      <td>5</td>\n",
       "      <td>San Marino</td>\n",
       "      <td>83.3</td>\n",
       "      <td>80.7</td>\n",
       "      <td>86.1</td>\n",
       "      <td>Europe</td>\n",
       "    </tr>\n",
       "  </tbody>\n",
       "</table>\n",
       "</div>"
      ],
      "text/plain": [
       "   Rank       Country  Overall Life  Male Life  Female Life Continent\n",
       "0     1        Monaco          89.5       85.6         93.5    Europe\n",
       "1     2         Japan          85.0       81.7         88.5      Asia\n",
       "2     3     Singapore          85.0       82.3         87.8      Asia\n",
       "3     4  Macau; China          84.5       81.6         87.6      Asia\n",
       "4     5    San Marino          83.3       80.7         86.1    Europe"
      ]
     },
     "execution_count": 15,
     "metadata": {},
     "output_type": "execute_result"
    }
   ],
   "source": [
    "df = pd.read_csv('Life_expectancy_dataset.csv', encoding='ISO-8859-1')\n",
    "df.head()"
   ]
  },
  {
   "cell_type": "markdown",
   "metadata": {},
   "source": [
    "### **Selecting the feature and target variable**\n",
    "\n",
    "X: Feature (Male Life expectancy), \n",
    "y: Target (Overall Life expectancy)"
   ]
  },
  {
   "cell_type": "code",
   "execution_count": 16,
   "metadata": {},
   "outputs": [],
   "source": [
    "X = df[['Male Life']].values\n",
    "y = df['Overall Life'].values"
   ]
  },
  {
   "cell_type": "markdown",
   "metadata": {},
   "source": [
    "### **Splitting the Dataset**\n",
    "\n",
    "Split the data into training (80%) and testing (20%) sets."
   ]
  },
  {
   "cell_type": "code",
   "execution_count": 17,
   "metadata": {},
   "outputs": [],
   "source": [
    "X_train, X_test, y_train, y_test = train_test_split(X, y, test_size=0.2, random_state=42)"
   ]
  },
  {
   "cell_type": "markdown",
   "metadata": {},
   "source": [
    "### **Standardizing the Data**\n",
    "\n",
    "Standardize the feature data to have a mean of 0 and variance of 1."
   ]
  },
  {
   "cell_type": "code",
   "execution_count": 18,
   "metadata": {},
   "outputs": [],
   "source": [
    "scaler = StandardScaler()\n",
    "X_train = scaler.fit_transform(X_train)\n",
    "X_test = scaler.transform(X_test)"
   ]
  },
  {
   "cell_type": "markdown",
   "metadata": {},
   "source": [
    "### **Defining the Model**\n",
    "\n",
    "since simple Sequential model with one Dense layer containing 1 unit gave more loss so added more Layers. The model now has three hidden layers with 64, 32, and 16 units respectively.\n",
    "\n",
    "Each hidden layer uses the ReLU (Rectified Linear Unit) activation function to introduce non-linearity.\n",
    "The output layer remains a single unit with no activation function, suitable for regression tasks."
   ]
  },
  {
   "cell_type": "code",
   "execution_count": 19,
   "metadata": {},
   "outputs": [],
   "source": [
    "# Define the model\n",
    "# A simple Sequential model with one Dense layer\n",
    "\"\"\"model = tf.keras.Sequential([\n",
    "    tf.keras.layers.Dense(units=1, input_shape=[1])  # Dense layer with 1 unit and input shape of 1\n",
    "])\"\"\"\n",
    "\n",
    "model = tf.keras.Sequential([\n",
    "    tf.keras.layers.Dense(units=64, activation='relu', input_shape=[1]),\n",
    "    tf.keras.layers.Dense(units=32, activation='relu'),\n",
    "    tf.keras.layers.Dense(units=16, activation='relu'),\n",
    "    tf.keras.layers.Dense(units=1)\n",
    "])"
   ]
  },
  {
   "cell_type": "markdown",
   "metadata": {},
   "source": [
    "### **Compiling the Model**\n",
    "\n",
    "Compiling the model using the Adam optimizer, mean squared error loss function, and mean absolute error as an additional metric."
   ]
  },
  {
   "cell_type": "code",
   "execution_count": 20,
   "metadata": {},
   "outputs": [],
   "source": [
    "model.compile(optimizer='adam', loss='mean_squared_error', metrics=['mean_absolute_error'])"
   ]
  },
  {
   "cell_type": "markdown",
   "metadata": {},
   "source": [
    "### **Training the Model**\n",
    "\n",
    "Train the model on the training data for 100 epochs.\n",
    "Use 20% of the training data for validation."
   ]
  },
  {
   "cell_type": "code",
   "execution_count": 21,
   "metadata": {},
   "outputs": [
    {
     "name": "stdout",
     "output_type": "stream",
     "text": [
      "Epoch 1/100\n",
      "5/5 [==============================] - 1s 37ms/step - loss: 5380.9316 - mean_absolute_error: 72.8611 - val_loss: 5197.1895 - val_mean_absolute_error: 71.5402\n",
      "Epoch 2/100\n",
      "5/5 [==============================] - 0s 9ms/step - loss: 5366.2256 - mean_absolute_error: 72.7597 - val_loss: 5183.0610 - val_mean_absolute_error: 71.4419\n",
      "Epoch 3/100\n",
      "5/5 [==============================] - 0s 8ms/step - loss: 5351.6406 - mean_absolute_error: 72.6615 - val_loss: 5169.4556 - val_mean_absolute_error: 71.3464\n",
      "Epoch 4/100\n",
      "5/5 [==============================] - 0s 8ms/step - loss: 5337.6885 - mean_absolute_error: 72.5656 - val_loss: 5154.9111 - val_mean_absolute_error: 71.2437\n",
      "Epoch 5/100\n",
      "5/5 [==============================] - 0s 9ms/step - loss: 5321.4507 - mean_absolute_error: 72.4543 - val_loss: 5138.1011 - val_mean_absolute_error: 71.1234\n",
      "Epoch 6/100\n",
      "5/5 [==============================] - 0s 8ms/step - loss: 5302.9067 - mean_absolute_error: 72.3245 - val_loss: 5117.1880 - val_mean_absolute_error: 70.9729\n",
      "Epoch 7/100\n",
      "5/5 [==============================] - 0s 8ms/step - loss: 5279.8677 - mean_absolute_error: 72.1630 - val_loss: 5090.2466 - val_mean_absolute_error: 70.7786\n",
      "Epoch 8/100\n",
      "5/5 [==============================] - 0s 8ms/step - loss: 5249.9443 - mean_absolute_error: 71.9534 - val_loss: 5055.2715 - val_mean_absolute_error: 70.5270\n",
      "Epoch 9/100\n",
      "5/5 [==============================] - 0s 9ms/step - loss: 5211.4971 - mean_absolute_error: 71.6841 - val_loss: 5011.7266 - val_mean_absolute_error: 70.2127\n",
      "Epoch 10/100\n",
      "5/5 [==============================] - 0s 8ms/step - loss: 5162.7993 - mean_absolute_error: 71.3453 - val_loss: 4958.2656 - val_mean_absolute_error: 69.8240\n",
      "Epoch 11/100\n",
      "5/5 [==============================] - 0s 9ms/step - loss: 5103.7124 - mean_absolute_error: 70.9237 - val_loss: 4891.9980 - val_mean_absolute_error: 69.3368\n",
      "Epoch 12/100\n",
      "5/5 [==============================] - 0s 8ms/step - loss: 5031.5088 - mean_absolute_error: 70.4046 - val_loss: 4811.4106 - val_mean_absolute_error: 68.7391\n",
      "Epoch 13/100\n",
      "5/5 [==============================] - 0s 9ms/step - loss: 4943.4023 - mean_absolute_error: 69.7768 - val_loss: 4714.6768 - val_mean_absolute_error: 68.0140\n",
      "Epoch 14/100\n",
      "5/5 [==============================] - 0s 9ms/step - loss: 4837.3154 - mean_absolute_error: 69.0020 - val_loss: 4598.6450 - val_mean_absolute_error: 67.1332\n",
      "Epoch 15/100\n",
      "5/5 [==============================] - 0s 8ms/step - loss: 4710.4985 - mean_absolute_error: 68.0559 - val_loss: 4460.4707 - val_mean_absolute_error: 66.0687\n",
      "Epoch 16/100\n",
      "5/5 [==============================] - 0s 8ms/step - loss: 4559.5469 - mean_absolute_error: 66.9343 - val_loss: 4297.6704 - val_mean_absolute_error: 64.7894\n",
      "Epoch 17/100\n",
      "5/5 [==============================] - 0s 8ms/step - loss: 4381.8750 - mean_absolute_error: 65.5596 - val_loss: 4108.8125 - val_mean_absolute_error: 63.2741\n",
      "Epoch 18/100\n",
      "5/5 [==============================] - 0s 8ms/step - loss: 4177.6328 - mean_absolute_error: 63.9579 - val_loss: 3891.5520 - val_mean_absolute_error: 61.4825\n",
      "Epoch 19/100\n",
      "5/5 [==============================] - 0s 9ms/step - loss: 3943.4841 - mean_absolute_error: 62.0804 - val_loss: 3646.1162 - val_mean_absolute_error: 59.3899\n",
      "Epoch 20/100\n",
      "5/5 [==============================] - 0s 8ms/step - loss: 3678.6147 - mean_absolute_error: 59.8715 - val_loss: 3372.9902 - val_mean_absolute_error: 56.9686\n",
      "Epoch 21/100\n",
      "5/5 [==============================] - 0s 8ms/step - loss: 3387.4656 - mean_absolute_error: 57.3304 - val_loss: 3074.0366 - val_mean_absolute_error: 54.1924\n",
      "Epoch 22/100\n",
      "5/5 [==============================] - 0s 9ms/step - loss: 3067.9561 - mean_absolute_error: 54.4176 - val_loss: 2753.4023 - val_mean_absolute_error: 51.0306\n",
      "Epoch 23/100\n",
      "5/5 [==============================] - 0s 8ms/step - loss: 2728.4661 - mean_absolute_error: 51.0891 - val_loss: 2416.9795 - val_mean_absolute_error: 47.4775\n",
      "Epoch 24/100\n",
      "5/5 [==============================] - 0s 9ms/step - loss: 2373.9902 - mean_absolute_error: 47.3483 - val_loss: 2072.5229 - val_mean_absolute_error: 43.5279\n",
      "Epoch 25/100\n",
      "5/5 [==============================] - 0s 8ms/step - loss: 2013.6338 - mean_absolute_error: 43.2829 - val_loss: 1731.0670 - val_mean_absolute_error: 39.4280\n",
      "Epoch 26/100\n",
      "5/5 [==============================] - 0s 8ms/step - loss: 1661.2695 - mean_absolute_error: 38.9330 - val_loss: 1404.4169 - val_mean_absolute_error: 35.3972\n",
      "Epoch 27/100\n",
      "5/5 [==============================] - 0s 8ms/step - loss: 1327.4485 - mean_absolute_error: 34.7690 - val_loss: 1106.4324 - val_mean_absolute_error: 31.2460\n",
      "Epoch 28/100\n",
      "5/5 [==============================] - 0s 9ms/step - loss: 1023.8801 - mean_absolute_error: 30.4299 - val_loss: 849.4617 - val_mean_absolute_error: 27.5268\n",
      "Epoch 29/100\n",
      "5/5 [==============================] - 0s 9ms/step - loss: 767.4209 - mean_absolute_error: 26.1561 - val_loss: 641.1625 - val_mean_absolute_error: 23.7285\n",
      "Epoch 30/100\n",
      "5/5 [==============================] - 0s 8ms/step - loss: 568.7652 - mean_absolute_error: 22.0592 - val_loss: 485.9948 - val_mean_absolute_error: 20.2751\n",
      "Epoch 31/100\n",
      "5/5 [==============================] - 0s 8ms/step - loss: 422.5446 - mean_absolute_error: 18.4932 - val_loss: 382.1185 - val_mean_absolute_error: 17.4436\n",
      "Epoch 32/100\n",
      "5/5 [==============================] - 0s 9ms/step - loss: 326.9940 - mean_absolute_error: 15.8717 - val_loss: 318.2672 - val_mean_absolute_error: 15.4825\n",
      "Epoch 33/100\n",
      "5/5 [==============================] - 0s 9ms/step - loss: 277.8975 - mean_absolute_error: 14.2627 - val_loss: 284.0406 - val_mean_absolute_error: 14.1332\n",
      "Epoch 34/100\n",
      "5/5 [==============================] - 0s 9ms/step - loss: 252.7727 - mean_absolute_error: 13.4178 - val_loss: 265.9405 - val_mean_absolute_error: 13.1160\n",
      "Epoch 35/100\n",
      "5/5 [==============================] - 0s 9ms/step - loss: 240.9159 - mean_absolute_error: 12.8446 - val_loss: 252.0140 - val_mean_absolute_error: 12.4744\n",
      "Epoch 36/100\n",
      "5/5 [==============================] - 0s 8ms/step - loss: 232.3823 - mean_absolute_error: 12.5626 - val_loss: 237.7887 - val_mean_absolute_error: 12.0070\n",
      "Epoch 37/100\n",
      "5/5 [==============================] - 0s 9ms/step - loss: 221.6432 - mean_absolute_error: 12.2777 - val_loss: 223.4550 - val_mean_absolute_error: 11.7002\n",
      "Epoch 38/100\n",
      "5/5 [==============================] - 0s 7ms/step - loss: 211.7414 - mean_absolute_error: 12.0299 - val_loss: 208.9608 - val_mean_absolute_error: 11.5373\n",
      "Epoch 39/100\n",
      "5/5 [==============================] - 0s 9ms/step - loss: 199.6920 - mean_absolute_error: 11.7569 - val_loss: 197.4694 - val_mean_absolute_error: 11.3683\n",
      "Epoch 40/100\n",
      "5/5 [==============================] - 0s 9ms/step - loss: 189.2924 - mean_absolute_error: 11.4866 - val_loss: 188.3426 - val_mean_absolute_error: 11.1706\n",
      "Epoch 41/100\n",
      "5/5 [==============================] - 0s 9ms/step - loss: 180.8447 - mean_absolute_error: 11.2290 - val_loss: 179.4606 - val_mean_absolute_error: 10.9905\n",
      "Epoch 42/100\n",
      "5/5 [==============================] - 0s 8ms/step - loss: 172.7909 - mean_absolute_error: 10.9710 - val_loss: 172.0273 - val_mean_absolute_error: 10.7647\n",
      "Epoch 43/100\n",
      "5/5 [==============================] - 0s 9ms/step - loss: 165.2903 - mean_absolute_error: 10.7150 - val_loss: 165.1806 - val_mean_absolute_error: 10.5544\n",
      "Epoch 44/100\n",
      "5/5 [==============================] - 0s 9ms/step - loss: 158.5289 - mean_absolute_error: 10.4739 - val_loss: 158.5328 - val_mean_absolute_error: 10.3097\n",
      "Epoch 45/100\n",
      "5/5 [==============================] - 0s 8ms/step - loss: 151.1936 - mean_absolute_error: 10.1833 - val_loss: 152.4608 - val_mean_absolute_error: 10.0240\n",
      "Epoch 46/100\n",
      "5/5 [==============================] - 0s 9ms/step - loss: 144.4056 - mean_absolute_error: 9.8914 - val_loss: 146.9487 - val_mean_absolute_error: 9.7400\n",
      "Epoch 47/100\n",
      "5/5 [==============================] - 0s 8ms/step - loss: 138.8948 - mean_absolute_error: 9.6224 - val_loss: 142.5558 - val_mean_absolute_error: 9.4905\n",
      "Epoch 48/100\n",
      "5/5 [==============================] - 0s 9ms/step - loss: 132.6827 - mean_absolute_error: 9.3446 - val_loss: 137.0883 - val_mean_absolute_error: 9.2557\n",
      "Epoch 49/100\n",
      "5/5 [==============================] - 0s 8ms/step - loss: 127.0525 - mean_absolute_error: 9.1089 - val_loss: 131.3414 - val_mean_absolute_error: 9.0213\n",
      "Epoch 50/100\n",
      "5/5 [==============================] - 0s 8ms/step - loss: 121.8986 - mean_absolute_error: 8.8885 - val_loss: 126.3741 - val_mean_absolute_error: 8.7950\n",
      "Epoch 51/100\n",
      "5/5 [==============================] - 0s 8ms/step - loss: 117.1285 - mean_absolute_error: 8.6995 - val_loss: 120.5961 - val_mean_absolute_error: 8.6386\n",
      "Epoch 52/100\n",
      "5/5 [==============================] - 0s 8ms/step - loss: 112.0893 - mean_absolute_error: 8.5116 - val_loss: 115.8377 - val_mean_absolute_error: 8.4386\n",
      "Epoch 53/100\n",
      "5/5 [==============================] - 0s 9ms/step - loss: 107.5073 - mean_absolute_error: 8.3039 - val_loss: 111.9297 - val_mean_absolute_error: 8.2172\n",
      "Epoch 54/100\n",
      "5/5 [==============================] - 0s 9ms/step - loss: 103.3442 - mean_absolute_error: 8.0882 - val_loss: 107.8246 - val_mean_absolute_error: 7.9779\n",
      "Epoch 55/100\n",
      "5/5 [==============================] - 0s 8ms/step - loss: 99.2020 - mean_absolute_error: 7.8789 - val_loss: 104.2189 - val_mean_absolute_error: 7.7555\n",
      "Epoch 56/100\n",
      "5/5 [==============================] - 0s 9ms/step - loss: 95.3745 - mean_absolute_error: 7.6868 - val_loss: 100.3137 - val_mean_absolute_error: 7.5538\n",
      "Epoch 57/100\n",
      "5/5 [==============================] - 0s 19ms/step - loss: 91.6724 - mean_absolute_error: 7.5129 - val_loss: 96.5741 - val_mean_absolute_error: 7.3521\n",
      "Epoch 58/100\n",
      "5/5 [==============================] - 0s 10ms/step - loss: 88.0951 - mean_absolute_error: 7.3334 - val_loss: 93.5687 - val_mean_absolute_error: 7.1700\n",
      "Epoch 59/100\n",
      "5/5 [==============================] - 0s 9ms/step - loss: 84.7692 - mean_absolute_error: 7.1462 - val_loss: 90.7290 - val_mean_absolute_error: 6.9995\n",
      "Epoch 60/100\n",
      "5/5 [==============================] - 0s 9ms/step - loss: 81.3878 - mean_absolute_error: 6.9898 - val_loss: 86.7409 - val_mean_absolute_error: 6.8766\n",
      "Epoch 61/100\n",
      "5/5 [==============================] - 0s 9ms/step - loss: 78.3221 - mean_absolute_error: 6.8726 - val_loss: 83.2450 - val_mean_absolute_error: 6.7496\n",
      "Epoch 62/100\n",
      "5/5 [==============================] - 0s 9ms/step - loss: 75.0421 - mean_absolute_error: 6.7240 - val_loss: 80.6068 - val_mean_absolute_error: 6.6324\n",
      "Epoch 63/100\n",
      "5/5 [==============================] - 0s 9ms/step - loss: 72.3113 - mean_absolute_error: 6.5747 - val_loss: 77.7586 - val_mean_absolute_error: 6.5310\n",
      "Epoch 64/100\n",
      "5/5 [==============================] - 0s 9ms/step - loss: 69.5208 - mean_absolute_error: 6.4358 - val_loss: 74.7416 - val_mean_absolute_error: 6.3885\n",
      "Epoch 65/100\n",
      "5/5 [==============================] - 0s 9ms/step - loss: 66.8760 - mean_absolute_error: 6.3099 - val_loss: 71.9999 - val_mean_absolute_error: 6.2561\n",
      "Epoch 66/100\n",
      "5/5 [==============================] - 0s 9ms/step - loss: 64.2352 - mean_absolute_error: 6.1695 - val_loss: 69.7402 - val_mean_absolute_error: 6.0937\n",
      "Epoch 67/100\n",
      "5/5 [==============================] - 0s 9ms/step - loss: 61.8715 - mean_absolute_error: 6.0252 - val_loss: 67.5788 - val_mean_absolute_error: 5.9263\n",
      "Epoch 68/100\n",
      "5/5 [==============================] - 0s 8ms/step - loss: 59.7218 - mean_absolute_error: 5.8878 - val_loss: 65.6530 - val_mean_absolute_error: 5.7727\n",
      "Epoch 69/100\n",
      "5/5 [==============================] - 0s 9ms/step - loss: 57.5455 - mean_absolute_error: 5.7472 - val_loss: 63.3467 - val_mean_absolute_error: 5.6640\n",
      "Epoch 70/100\n",
      "5/5 [==============================] - 0s 9ms/step - loss: 55.3273 - mean_absolute_error: 5.6346 - val_loss: 61.0016 - val_mean_absolute_error: 5.5745\n",
      "Epoch 71/100\n",
      "5/5 [==============================] - 0s 9ms/step - loss: 53.4898 - mean_absolute_error: 5.5494 - val_loss: 58.7410 - val_mean_absolute_error: 5.5096\n",
      "Epoch 72/100\n",
      "5/5 [==============================] - 0s 9ms/step - loss: 51.4223 - mean_absolute_error: 5.4350 - val_loss: 56.8299 - val_mean_absolute_error: 5.4170\n",
      "Epoch 73/100\n",
      "5/5 [==============================] - 0s 9ms/step - loss: 49.5104 - mean_absolute_error: 5.3152 - val_loss: 54.9155 - val_mean_absolute_error: 5.2949\n",
      "Epoch 74/100\n",
      "5/5 [==============================] - 0s 9ms/step - loss: 47.6406 - mean_absolute_error: 5.2027 - val_loss: 53.1535 - val_mean_absolute_error: 5.1777\n",
      "Epoch 75/100\n",
      "5/5 [==============================] - 0s 9ms/step - loss: 45.9014 - mean_absolute_error: 5.0969 - val_loss: 51.3078 - val_mean_absolute_error: 5.0677\n",
      "Epoch 76/100\n",
      "5/5 [==============================] - 0s 9ms/step - loss: 44.3601 - mean_absolute_error: 4.9796 - val_loss: 49.9504 - val_mean_absolute_error: 4.9429\n",
      "Epoch 77/100\n",
      "5/5 [==============================] - 0s 9ms/step - loss: 42.7448 - mean_absolute_error: 4.8723 - val_loss: 48.1166 - val_mean_absolute_error: 4.8599\n",
      "Epoch 78/100\n",
      "5/5 [==============================] - 0s 9ms/step - loss: 41.1536 - mean_absolute_error: 4.7739 - val_loss: 46.6038 - val_mean_absolute_error: 4.7635\n",
      "Epoch 79/100\n",
      "5/5 [==============================] - 0s 9ms/step - loss: 39.8156 - mean_absolute_error: 4.6680 - val_loss: 45.4126 - val_mean_absolute_error: 4.6612\n",
      "Epoch 80/100\n",
      "5/5 [==============================] - 0s 9ms/step - loss: 38.6377 - mean_absolute_error: 4.5844 - val_loss: 43.7137 - val_mean_absolute_error: 4.5871\n",
      "Epoch 81/100\n",
      "5/5 [==============================] - 0s 9ms/step - loss: 37.1008 - mean_absolute_error: 4.4878 - val_loss: 42.5663 - val_mean_absolute_error: 4.4968\n",
      "Epoch 82/100\n",
      "5/5 [==============================] - 0s 9ms/step - loss: 35.9544 - mean_absolute_error: 4.4001 - val_loss: 41.1860 - val_mean_absolute_error: 4.4175\n",
      "Epoch 83/100\n",
      "5/5 [==============================] - 0s 9ms/step - loss: 34.6256 - mean_absolute_error: 4.3052 - val_loss: 40.0795 - val_mean_absolute_error: 4.3412\n",
      "Epoch 84/100\n",
      "5/5 [==============================] - 0s 9ms/step - loss: 33.4032 - mean_absolute_error: 4.2260 - val_loss: 38.5819 - val_mean_absolute_error: 4.2751\n",
      "Epoch 85/100\n",
      "5/5 [==============================] - 0s 9ms/step - loss: 32.3344 - mean_absolute_error: 4.1706 - val_loss: 37.0438 - val_mean_absolute_error: 4.2097\n",
      "Epoch 86/100\n",
      "5/5 [==============================] - 0s 9ms/step - loss: 31.4954 - mean_absolute_error: 4.1274 - val_loss: 35.6172 - val_mean_absolute_error: 4.1576\n",
      "Epoch 87/100\n",
      "5/5 [==============================] - 0s 9ms/step - loss: 30.0980 - mean_absolute_error: 4.0327 - val_loss: 34.6821 - val_mean_absolute_error: 4.0641\n",
      "Epoch 88/100\n",
      "5/5 [==============================] - 0s 9ms/step - loss: 29.1027 - mean_absolute_error: 3.9328 - val_loss: 33.8066 - val_mean_absolute_error: 3.9731\n",
      "Epoch 89/100\n",
      "5/5 [==============================] - 0s 9ms/step - loss: 28.1241 - mean_absolute_error: 3.8453 - val_loss: 32.7703 - val_mean_absolute_error: 3.9065\n",
      "Epoch 90/100\n",
      "5/5 [==============================] - 0s 9ms/step - loss: 27.2613 - mean_absolute_error: 3.7733 - val_loss: 31.7089 - val_mean_absolute_error: 3.8376\n",
      "Epoch 91/100\n",
      "5/5 [==============================] - 0s 9ms/step - loss: 26.3327 - mean_absolute_error: 3.7078 - val_loss: 30.6202 - val_mean_absolute_error: 3.7772\n",
      "Epoch 92/100\n",
      "5/5 [==============================] - 0s 9ms/step - loss: 25.5688 - mean_absolute_error: 3.6546 - val_loss: 29.5562 - val_mean_absolute_error: 3.7193\n",
      "Epoch 93/100\n",
      "5/5 [==============================] - 0s 9ms/step - loss: 24.6487 - mean_absolute_error: 3.5873 - val_loss: 28.7403 - val_mean_absolute_error: 3.6505\n",
      "Epoch 94/100\n",
      "5/5 [==============================] - 0s 9ms/step - loss: 23.8628 - mean_absolute_error: 3.5105 - val_loss: 27.8770 - val_mean_absolute_error: 3.5840\n",
      "Epoch 95/100\n",
      "5/5 [==============================] - 0s 9ms/step - loss: 23.0690 - mean_absolute_error: 3.4332 - val_loss: 27.1339 - val_mean_absolute_error: 3.5139\n",
      "Epoch 96/100\n",
      "5/5 [==============================] - 0s 9ms/step - loss: 22.3300 - mean_absolute_error: 3.3679 - val_loss: 26.0190 - val_mean_absolute_error: 3.4586\n",
      "Epoch 97/100\n",
      "5/5 [==============================] - 0s 9ms/step - loss: 21.4831 - mean_absolute_error: 3.3211 - val_loss: 25.0032 - val_mean_absolute_error: 3.4053\n",
      "Epoch 98/100\n",
      "5/5 [==============================] - 0s 9ms/step - loss: 20.7613 - mean_absolute_error: 3.2596 - val_loss: 24.2327 - val_mean_absolute_error: 3.3406\n",
      "Epoch 99/100\n",
      "5/5 [==============================] - 0s 9ms/step - loss: 20.0483 - mean_absolute_error: 3.1948 - val_loss: 23.4454 - val_mean_absolute_error: 3.2819\n",
      "Epoch 100/100\n",
      "5/5 [==============================] - 0s 9ms/step - loss: 19.3938 - mean_absolute_error: 3.1312 - val_loss: 22.7501 - val_mean_absolute_error: 3.2188\n"
     ]
    }
   ],
   "source": [
    "history = model.fit(X_train, y_train, epochs=100, validation_split=0.2)"
   ]
  },
  {
   "cell_type": "markdown",
   "metadata": {},
   "source": [
    "### **Evaluating the Model**\n",
    "\n",
    "Evaluate the model on the test data and print the loss and mean absolute error."
   ]
  },
  {
   "cell_type": "code",
   "execution_count": 22,
   "metadata": {},
   "outputs": [
    {
     "name": "stdout",
     "output_type": "stream",
     "text": [
      "2/2 [==============================] - 0s 4ms/step - loss: 16.7437 - mean_absolute_error: 3.0825\n",
      "Test Loss: 16.743663787841797, Test MAE: 3.0825443267822266\n"
     ]
    }
   ],
   "source": [
    "test_loss, test_mae = model.evaluate(X_test, y_test)\n",
    "print(f'Test Loss: {test_loss}, Test MAE: {test_mae}')"
   ]
  },
  {
   "cell_type": "markdown",
   "metadata": {},
   "source": [
    "### **Making Predictions**\n",
    "\n",
    "Make predictions on the test data and print the predicted values."
   ]
  },
  {
   "cell_type": "code",
   "execution_count": 23,
   "metadata": {},
   "outputs": [
    {
     "name": "stdout",
     "output_type": "stream",
     "text": [
      "2/2 [==============================] - 0s 2ms/step\n",
      "[[84.829575]\n",
      " [76.77142 ]\n",
      " [72.376076]\n",
      " [70.74195 ]\n",
      " [65.545044]\n",
      " [73.98769 ]\n",
      " [75.745834]\n",
      " [75.15979 ]\n",
      " [59.365555]\n",
      " [58.8789  ]\n",
      " [78.96909 ]\n",
      " [85.30324 ]\n",
      " [59.677135]\n",
      " [83.80398 ]\n",
      " [81.89934 ]\n",
      " [80.58073 ]\n",
      " [60.06805 ]\n",
      " [75.745834]\n",
      " [62.3702  ]\n",
      " [75.15979 ]\n",
      " [74.72026 ]\n",
      " [84.536545]\n",
      " [75.745834]\n",
      " [69.48435 ]\n",
      " [65.06983 ]\n",
      " [70.291695]\n",
      " [59.460003]\n",
      " [79.555145]\n",
      " [78.96909 ]\n",
      " [74.1342  ]\n",
      " [60.874256]\n",
      " [77.35747 ]\n",
      " [83.80398 ]\n",
      " [58.934753]\n",
      " [68.747894]\n",
      " [72.376076]\n",
      " [63.78812 ]\n",
      " [69.48435 ]\n",
      " [75.45281 ]\n",
      " [58.8715  ]\n",
      " [65.43604 ]\n",
      " [61.15665 ]\n",
      " [58.86086 ]\n",
      " [70.14161 ]\n",
      " [62.689518]]\n"
     ]
    }
   ],
   "source": [
    "predictions = model.predict(X_test)\n",
    "print(predictions)"
   ]
  },
  {
   "cell_type": "markdown",
   "metadata": {},
   "source": [
    "### **Plotting the Results**\n",
    "\n",
    "Plot the training and validation loss as well as the mean absolute error over the epochs."
   ]
  },
  {
   "cell_type": "code",
   "execution_count": 24,
   "metadata": {},
   "outputs": [
    {
     "data": {
      "image/png": "[encoded data removed]",
      "text/plain": [
       "<Figure size 1200x400 with 2 Axes>"
      ]
     },
     "metadata": {},
     "output_type": "display_data"
    }
   ],
   "source": [
    "# Plotting training & validation loss values\n",
    "plt.figure(figsize=(12, 4))\n",
    "\n",
    "plt.subplot(1, 2, 1)\n",
    "plt.plot(history.history['loss'], label='Train Loss')\n",
    "plt.plot(history.history['val_loss'], label='Validation Loss')\n",
    "plt.title('Model Loss')\n",
    "plt.xlabel('Epoch')\n",
    "plt.ylabel('Loss')\n",
    "plt.legend(loc='upper right')\n",
    "plt.grid()\n",
    "\n",
    "# Plotting training & validation mean absolute error values\n",
    "plt.subplot(1, 2, 2)\n",
    "plt.plot(history.history['mean_absolute_error'], label='Train MAE')\n",
    "plt.plot(history.history['val_mean_absolute_error'], label='Validation MAE')\n",
    "plt.title('Model Mean Absolute Error')\n",
    "plt.xlabel('Epoch')\n",
    "plt.ylabel('MAE')\n",
    "plt.legend(loc='upper right')\n",
    "plt.grid()\n",
    "plt.show()"
   ]
  }
 ],
 "metadata": {
  "kernelspec": {
   "display_name": "Python 3",
   "language": "python",
   "name": "python3"
  },
  "language_info": {
   "codemirror_mode": {
    "name": "ipython",
    "version": 3
   },
   "file_extension": ".py",
   "mimetype": "text/x-python",
   "name": "python",
   "nbconvert_exporter": "python",
   "pygments_lexer": "ipython3",
   "version": "3.11.9"
  }
 },
 "nbformat": 4,
 "nbformat_minor": 2
}
