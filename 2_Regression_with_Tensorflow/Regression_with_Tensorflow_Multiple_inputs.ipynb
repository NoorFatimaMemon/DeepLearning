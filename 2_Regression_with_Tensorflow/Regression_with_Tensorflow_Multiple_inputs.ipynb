{
 "cells": [
  {
   "cell_type": "markdown",
   "metadata": {},
   "source": [
    "# **Building a Deep Neural Network Regression Model using TensorFlow**"
   ]
  },
  {
   "cell_type": "markdown",
   "metadata": {},
   "source": [
    "### **Load and Explore the Dataset**"
   ]
  },
  {
   "cell_type": "code",
   "execution_count": 14,
   "metadata": {},
   "outputs": [
    {
     "name": "stdout",
     "output_type": "stream",
     "text": [
      "   Rank       Country  Overall Life  Male Life  Female Life Continent\n",
      "0     1        Monaco          89.5       85.6         93.5    Europe\n",
      "1     2         Japan          85.0       81.7         88.5      Asia\n",
      "2     3     Singapore          85.0       82.3         87.8      Asia\n",
      "3     4  Macau; China          84.5       81.6         87.6      Asia\n",
      "4     5    San Marino          83.3       80.7         86.1    Europe\n",
      "<class 'pandas.core.frame.DataFrame'>\n",
      "RangeIndex: 223 entries, 0 to 222\n",
      "Data columns (total 6 columns):\n",
      " #   Column        Non-Null Count  Dtype  \n",
      "---  ------        --------------  -----  \n",
      " 0   Rank          223 non-null    int64  \n",
      " 1   Country       223 non-null    object \n",
      " 2   Overall Life  223 non-null    float64\n",
      " 3   Male Life     223 non-null    float64\n",
      " 4   Female Life   223 non-null    float64\n",
      " 5   Continent     223 non-null    object \n",
      "dtypes: float64(3), int64(1), object(2)\n",
      "memory usage: 10.6+ KB\n",
      "None\n"
     ]
    }
   ],
   "source": [
    "import pandas as pd\n",
    "\n",
    "data = pd.read_csv('Life_expectancy_dataset.csv', encoding='ISO-8859-1')\n",
    "print(data.head())\n",
    "# Display basic information about the dataset\n",
    "print(data.info())"
   ]
  },
  {
   "cell_type": "markdown",
   "metadata": {},
   "source": [
    "### **Preprocessing**"
   ]
  },
  {
   "cell_type": "code",
   "execution_count": 15,
   "metadata": {},
   "outputs": [
    {
     "name": "stdout",
     "output_type": "stream",
     "text": [
      "Non-numeric columns: Index(['Country', 'Continent'], dtype='object')\n"
     ]
    }
   ],
   "source": [
    "from sklearn.model_selection import train_test_split\n",
    "from sklearn.preprocessing import StandardScaler\n",
    "\n",
    "# Identify non-numeric columns\n",
    "non_numeric_columns = data.select_dtypes(include=['object']).columns\n",
    "print(f\"Non-numeric columns: {non_numeric_columns}\")\n",
    "\n",
    "# Handle non-numeric columns (For simplicity, we drop them in this example)\n",
    "data = data.drop(columns=non_numeric_columns)\n",
    "\n",
    "# Handle missing values by filling them with the mean of the column\n",
    "data = data.fillna(data.mean())"
   ]
  },
  {
   "cell_type": "markdown",
   "metadata": {},
   "source": [
    "### **Selecting the feature and target variable**\n",
    "\n",
    "X: All columns except Overall Life, \n",
    "y: Target (Overall Life expectancy)"
   ]
  },
  {
   "cell_type": "code",
   "execution_count": 16,
   "metadata": {},
   "outputs": [],
   "source": [
    "# Separate features and target variable\n",
    "X = data.drop(columns=['Overall Life'])\n",
    "y = data['Overall Life']"
   ]
  },
  {
   "cell_type": "markdown",
   "metadata": {},
   "source": [
    "### **Splitting the Dataset**\n",
    "\n",
    "Split the data into training (80%) and testing (20%) sets."
   ]
  },
  {
   "cell_type": "code",
   "execution_count": 17,
   "metadata": {},
   "outputs": [],
   "source": [
    "X_train, X_test, y_train, y_test = train_test_split(X, y, test_size=0.2, random_state=42)"
   ]
  },
  {
   "cell_type": "markdown",
   "metadata": {},
   "source": [
    "### **Standardizing the Data**\n",
    "\n",
    "Standardize the feature data to have a mean of 0 and variance of 1."
   ]
  },
  {
   "cell_type": "code",
   "execution_count": 18,
   "metadata": {},
   "outputs": [],
   "source": [
    "scaler = StandardScaler()\n",
    "X_train = scaler.fit_transform(X_train)\n",
    "X_test = scaler.transform(X_test)"
   ]
  },
  {
   "cell_type": "markdown",
   "metadata": {},
   "source": [
    "### **Defining the Model**"
   ]
  },
  {
   "cell_type": "code",
   "execution_count": 19,
   "metadata": {},
   "outputs": [],
   "source": [
    "import tensorflow as tf\n",
    "from tensorflow.keras.models import Sequential\n",
    "from tensorflow.keras.layers import Dense\n",
    "\n",
    "model = Sequential([\n",
    "    Dense(128, activation='relu', input_shape=(X_train.shape[1],)),\n",
    "    Dense(64, activation='relu'),\n",
    "    Dense(32, activation='relu'),\n",
    "    Dense(1)  # Single output for regression\n",
    "])"
   ]
  },
  {
   "cell_type": "markdown",
   "metadata": {},
   "source": [
    "### **Compiling the Model**\n",
    "\n",
    "Compiling the model using the Adam optimizer, mean squared error loss function, and mean absolute error as an additional metric."
   ]
  },
  {
   "cell_type": "code",
   "execution_count": 20,
   "metadata": {},
   "outputs": [],
   "source": [
    "model.compile(optimizer='adam', loss='mean_squared_error', metrics=['mae'])"
   ]
  },
  {
   "cell_type": "markdown",
   "metadata": {},
   "source": [
    "### **Training the Model**\n",
    "\n",
    "Train the model on the training data for 100 epochs.\n",
    "Use 20% of the training data for validation."
   ]
  },
  {
   "cell_type": "code",
   "execution_count": 21,
   "metadata": {},
   "outputs": [
    {
     "name": "stdout",
     "output_type": "stream",
     "text": [
      "Epoch 1/100\n",
      "5/5 [==============================] - 1s 37ms/step - loss: 5373.0386 - mae: 72.8014 - val_loss: 5170.2197 - val_mae: 71.3368\n",
      "Epoch 2/100\n",
      "5/5 [==============================] - 0s 11ms/step - loss: 5327.7314 - mae: 72.4774 - val_loss: 5122.9282 - val_mae: 70.9855\n",
      "Epoch 3/100\n",
      "5/5 [==============================] - 0s 9ms/step - loss: 5275.1699 - mae: 72.0997 - val_loss: 5063.1074 - val_mae: 70.5396\n",
      "Epoch 4/100\n",
      "5/5 [==============================] - 0s 9ms/step - loss: 5207.8706 - mae: 71.6120 - val_loss: 4985.0776 - val_mae: 69.9539\n",
      "Epoch 5/100\n",
      "5/5 [==============================] - 0s 9ms/step - loss: 5119.3945 - mae: 70.9753 - val_loss: 4881.6167 - val_mae: 69.1690\n",
      "Epoch 6/100\n",
      "5/5 [==============================] - 0s 9ms/step - loss: 4999.3530 - mae: 70.0941 - val_loss: 4740.9854 - val_mae: 68.0877\n",
      "Epoch 7/100\n",
      "5/5 [==============================] - 0s 9ms/step - loss: 4835.1387 - mae: 68.8690 - val_loss: 4552.4185 - val_mae: 66.6063\n",
      "Epoch 8/100\n",
      "5/5 [==============================] - 0s 9ms/step - loss: 4619.1797 - mae: 67.2422 - val_loss: 4305.9834 - val_mae: 64.6058\n",
      "Epoch 9/100\n",
      "5/5 [==============================] - 0s 9ms/step - loss: 4336.4717 - mae: 64.9675 - val_loss: 3996.3074 - val_mae: 61.9828\n",
      "Epoch 10/100\n",
      "5/5 [==============================] - 0s 9ms/step - loss: 3979.9824 - mae: 62.0027 - val_loss: 3616.2979 - val_mae: 58.5519\n",
      "Epoch 11/100\n",
      "5/5 [==============================] - 0s 9ms/step - loss: 3555.8389 - mae: 58.2393 - val_loss: 3165.3650 - val_mae: 54.0888\n",
      "Epoch 12/100\n",
      "5/5 [==============================] - 0s 8ms/step - loss: 3055.1804 - mae: 53.3235 - val_loss: 2664.5850 - val_mae: 48.5211\n",
      "Epoch 13/100\n",
      "5/5 [==============================] - 0s 8ms/step - loss: 2487.9182 - mae: 47.2419 - val_loss: 2151.5073 - val_mae: 42.8551\n",
      "Epoch 14/100\n",
      "5/5 [==============================] - 0s 9ms/step - loss: 1952.8341 - mae: 41.1797 - val_loss: 1678.5750 - val_mae: 37.6621\n",
      "Epoch 15/100\n",
      "5/5 [==============================] - 0s 9ms/step - loss: 1461.4980 - mae: 34.9198 - val_loss: 1323.1302 - val_mae: 32.6790\n",
      "Epoch 16/100\n",
      "5/5 [==============================] - 0s 9ms/step - loss: 1104.7354 - mae: 29.0005 - val_loss: 1099.2848 - val_mae: 28.7881\n",
      "Epoch 17/100\n",
      "5/5 [==============================] - 0s 9ms/step - loss: 927.6623 - mae: 25.9586 - val_loss: 977.8749 - val_mae: 27.2331\n",
      "Epoch 18/100\n",
      "5/5 [==============================] - 0s 9ms/step - loss: 877.4594 - mae: 25.4422 - val_loss: 903.7592 - val_mae: 26.0715\n",
      "Epoch 19/100\n",
      "5/5 [==============================] - 0s 8ms/step - loss: 823.1449 - mae: 24.9201 - val_loss: 819.3222 - val_mae: 24.8002\n",
      "Epoch 20/100\n",
      "5/5 [==============================] - 0s 8ms/step - loss: 757.5540 - mae: 24.0131 - val_loss: 736.1548 - val_mae: 23.7815\n",
      "Epoch 21/100\n",
      "5/5 [==============================] - 0s 8ms/step - loss: 684.8885 - mae: 22.8794 - val_loss: 669.7836 - val_mae: 23.0392\n",
      "Epoch 22/100\n",
      "5/5 [==============================] - 0s 10ms/step - loss: 618.4283 - mae: 21.7557 - val_loss: 619.4084 - val_mae: 22.3240\n",
      "Epoch 23/100\n",
      "5/5 [==============================] - 0s 9ms/step - loss: 568.0972 - mae: 20.8029 - val_loss: 568.9083 - val_mae: 21.4714\n",
      "Epoch 24/100\n",
      "5/5 [==============================] - 0s 9ms/step - loss: 521.5162 - mae: 19.9528 - val_loss: 518.8951 - val_mae: 20.5308\n",
      "Epoch 25/100\n",
      "5/5 [==============================] - 0s 8ms/step - loss: 470.4280 - mae: 18.9876 - val_loss: 463.4966 - val_mae: 19.3732\n",
      "Epoch 26/100\n",
      "5/5 [==============================] - 0s 9ms/step - loss: 419.6031 - mae: 17.9725 - val_loss: 406.3004 - val_mae: 18.0568\n",
      "Epoch 27/100\n",
      "5/5 [==============================] - 0s 8ms/step - loss: 366.4684 - mae: 16.8405 - val_loss: 359.0343 - val_mae: 16.8967\n",
      "Epoch 28/100\n",
      "5/5 [==============================] - 0s 9ms/step - loss: 324.7628 - mae: 15.8303 - val_loss: 316.0143 - val_mae: 15.7360\n",
      "Epoch 29/100\n",
      "5/5 [==============================] - 0s 8ms/step - loss: 283.7266 - mae: 14.7710 - val_loss: 275.6287 - val_mae: 14.6788\n",
      "Epoch 30/100\n",
      "5/5 [==============================] - 0s 8ms/step - loss: 243.5174 - mae: 13.6775 - val_loss: 236.3085 - val_mae: 13.6006\n",
      "Epoch 31/100\n",
      "5/5 [==============================] - 0s 8ms/step - loss: 208.9016 - mae: 12.6598 - val_loss: 198.7280 - val_mae: 12.5241\n",
      "Epoch 32/100\n",
      "5/5 [==============================] - 0s 8ms/step - loss: 178.2252 - mae: 11.6614 - val_loss: 165.8110 - val_mae: 11.4634\n",
      "Epoch 33/100\n",
      "5/5 [==============================] - 0s 8ms/step - loss: 149.7189 - mae: 10.6867 - val_loss: 139.1548 - val_mae: 10.4837\n",
      "Epoch 34/100\n",
      "5/5 [==============================] - 0s 9ms/step - loss: 126.3052 - mae: 9.7808 - val_loss: 116.8069 - val_mae: 9.6467\n",
      "Epoch 35/100\n",
      "5/5 [==============================] - 0s 9ms/step - loss: 104.0730 - mae: 8.8386 - val_loss: 94.6471 - val_mae: 8.6151\n",
      "Epoch 36/100\n",
      "5/5 [==============================] - 0s 7ms/step - loss: 85.3020 - mae: 7.9014 - val_loss: 75.9263 - val_mae: 7.6603\n",
      "Epoch 37/100\n",
      "5/5 [==============================] - 0s 11ms/step - loss: 70.5457 - mae: 7.0631 - val_loss: 61.0951 - val_mae: 6.7909\n",
      "Epoch 38/100\n",
      "5/5 [==============================] - 0s 9ms/step - loss: 58.3927 - mae: 6.2788 - val_loss: 49.2544 - val_mae: 5.9999\n",
      "Epoch 39/100\n",
      "5/5 [==============================] - 0s 9ms/step - loss: 48.4379 - mae: 5.5569 - val_loss: 40.6055 - val_mae: 5.3029\n",
      "Epoch 40/100\n",
      "5/5 [==============================] - 0s 9ms/step - loss: 40.2684 - mae: 4.9151 - val_loss: 33.1101 - val_mae: 4.7423\n",
      "Epoch 41/100\n",
      "5/5 [==============================] - 0s 9ms/step - loss: 33.8904 - mae: 4.4104 - val_loss: 27.3166 - val_mae: 4.3511\n",
      "Epoch 42/100\n",
      "5/5 [==============================] - 0s 9ms/step - loss: 28.7686 - mae: 3.9753 - val_loss: 22.5008 - val_mae: 3.9390\n",
      "Epoch 43/100\n",
      "5/5 [==============================] - 0s 9ms/step - loss: 24.6707 - mae: 3.5489 - val_loss: 18.4916 - val_mae: 3.4448\n",
      "Epoch 44/100\n",
      "5/5 [==============================] - 0s 9ms/step - loss: 21.9118 - mae: 3.1701 - val_loss: 15.3523 - val_mae: 3.0548\n",
      "Epoch 45/100\n",
      "5/5 [==============================] - 0s 8ms/step - loss: 19.5281 - mae: 2.8367 - val_loss: 13.0962 - val_mae: 2.7217\n",
      "Epoch 46/100\n",
      "5/5 [==============================] - 0s 9ms/step - loss: 18.1080 - mae: 2.6813 - val_loss: 11.6779 - val_mae: 2.5188\n",
      "Epoch 47/100\n",
      "5/5 [==============================] - 0s 9ms/step - loss: 16.7245 - mae: 2.5949 - val_loss: 10.5774 - val_mae: 2.3835\n",
      "Epoch 48/100\n",
      "5/5 [==============================] - 0s 9ms/step - loss: 15.5861 - mae: 2.4926 - val_loss: 9.4629 - val_mae: 2.2246\n",
      "Epoch 49/100\n",
      "5/5 [==============================] - 0s 9ms/step - loss: 15.0172 - mae: 2.3740 - val_loss: 8.6627 - val_mae: 2.0805\n",
      "Epoch 50/100\n",
      "5/5 [==============================] - 0s 8ms/step - loss: 14.5129 - mae: 2.2994 - val_loss: 8.1443 - val_mae: 2.0235\n",
      "Epoch 51/100\n",
      "5/5 [==============================] - 0s 8ms/step - loss: 13.8922 - mae: 2.2722 - val_loss: 7.7511 - val_mae: 1.9735\n",
      "Epoch 52/100\n",
      "5/5 [==============================] - 0s 6ms/step - loss: 13.4636 - mae: 2.2639 - val_loss: 7.5018 - val_mae: 1.9574\n",
      "Epoch 53/100\n",
      "5/5 [==============================] - 0s 7ms/step - loss: 13.5785 - mae: 2.3365 - val_loss: 7.4504 - val_mae: 1.9816\n",
      "Epoch 54/100\n",
      "5/5 [==============================] - 0s 9ms/step - loss: 12.9971 - mae: 2.2987 - val_loss: 7.0475 - val_mae: 1.8945\n",
      "Epoch 55/100\n",
      "5/5 [==============================] - 0s 8ms/step - loss: 12.7202 - mae: 2.2069 - val_loss: 6.7303 - val_mae: 1.8155\n",
      "Epoch 56/100\n",
      "5/5 [==============================] - 0s 9ms/step - loss: 12.5790 - mae: 2.1368 - val_loss: 6.5073 - val_mae: 1.7460\n",
      "Epoch 57/100\n",
      "5/5 [==============================] - 0s 9ms/step - loss: 12.3290 - mae: 2.1000 - val_loss: 6.3451 - val_mae: 1.7358\n",
      "Epoch 58/100\n",
      "5/5 [==============================] - 0s 15ms/step - loss: 12.0091 - mae: 2.0798 - val_loss: 6.2057 - val_mae: 1.7115\n",
      "Epoch 59/100\n",
      "5/5 [==============================] - 0s 16ms/step - loss: 11.8535 - mae: 2.0830 - val_loss: 6.1209 - val_mae: 1.7122\n",
      "Epoch 60/100\n",
      "5/5 [==============================] - 0s 12ms/step - loss: 11.6846 - mae: 2.0621 - val_loss: 5.9538 - val_mae: 1.6607\n",
      "Epoch 61/100\n",
      "5/5 [==============================] - 0s 9ms/step - loss: 11.5286 - mae: 2.0586 - val_loss: 5.9247 - val_mae: 1.6999\n",
      "Epoch 62/100\n",
      "5/5 [==============================] - 0s 8ms/step - loss: 11.2951 - mae: 2.0429 - val_loss: 5.7659 - val_mae: 1.6566\n",
      "Epoch 63/100\n",
      "5/5 [==============================] - 0s 9ms/step - loss: 11.1055 - mae: 2.0476 - val_loss: 5.7517 - val_mae: 1.6955\n",
      "Epoch 64/100\n",
      "5/5 [==============================] - 0s 9ms/step - loss: 10.9809 - mae: 2.0574 - val_loss: 5.5491 - val_mae: 1.6531\n",
      "Epoch 65/100\n",
      "5/5 [==============================] - 0s 9ms/step - loss: 10.7400 - mae: 2.0025 - val_loss: 5.3665 - val_mae: 1.6066\n",
      "Epoch 66/100\n",
      "5/5 [==============================] - 0s 9ms/step - loss: 10.6613 - mae: 1.9425 - val_loss: 5.2138 - val_mae: 1.5532\n",
      "Epoch 67/100\n",
      "5/5 [==============================] - 0s 7ms/step - loss: 10.5356 - mae: 1.9114 - val_loss: 5.1283 - val_mae: 1.5167\n",
      "Epoch 68/100\n",
      "5/5 [==============================] - 0s 9ms/step - loss: 10.3618 - mae: 1.8835 - val_loss: 5.0462 - val_mae: 1.4870\n",
      "Epoch 69/100\n",
      "5/5 [==============================] - 0s 9ms/step - loss: 10.2163 - mae: 1.8582 - val_loss: 4.9899 - val_mae: 1.4855\n",
      "Epoch 70/100\n",
      "5/5 [==============================] - 0s 17ms/step - loss: 10.0784 - mae: 1.8756 - val_loss: 5.0047 - val_mae: 1.5362\n",
      "Epoch 71/100\n",
      "5/5 [==============================] - 0s 10ms/step - loss: 9.9227 - mae: 1.8873 - val_loss: 4.9210 - val_mae: 1.5283\n",
      "Epoch 72/100\n",
      "5/5 [==============================] - 0s 9ms/step - loss: 9.9134 - mae: 1.8581 - val_loss: 4.8152 - val_mae: 1.4825\n",
      "Epoch 73/100\n",
      "5/5 [==============================] - 0s 9ms/step - loss: 9.5711 - mae: 1.8487 - val_loss: 4.8942 - val_mae: 1.5772\n",
      "Epoch 74/100\n",
      "5/5 [==============================] - 0s 9ms/step - loss: 9.6807 - mae: 1.9371 - val_loss: 4.8788 - val_mae: 1.6246\n",
      "Epoch 75/100\n",
      "5/5 [==============================] - 0s 9ms/step - loss: 9.5738 - mae: 1.8970 - val_loss: 4.5405 - val_mae: 1.4701\n",
      "Epoch 76/100\n",
      "5/5 [==============================] - 0s 8ms/step - loss: 9.2851 - mae: 1.7883 - val_loss: 4.4322 - val_mae: 1.4177\n",
      "Epoch 77/100\n",
      "5/5 [==============================] - 0s 8ms/step - loss: 9.2339 - mae: 1.7880 - val_loss: 4.4274 - val_mae: 1.4135\n",
      "Epoch 78/100\n",
      "5/5 [==============================] - 0s 9ms/step - loss: 9.0458 - mae: 1.7837 - val_loss: 4.3423 - val_mae: 1.3822\n",
      "Epoch 79/100\n",
      "5/5 [==============================] - 0s 9ms/step - loss: 8.9268 - mae: 1.7461 - val_loss: 4.2562 - val_mae: 1.3638\n",
      "Epoch 80/100\n",
      "5/5 [==============================] - 0s 9ms/step - loss: 8.7335 - mae: 1.7276 - val_loss: 4.2170 - val_mae: 1.4129\n",
      "Epoch 81/100\n",
      "5/5 [==============================] - 0s 8ms/step - loss: 8.7357 - mae: 1.7752 - val_loss: 4.2746 - val_mae: 1.5049\n",
      "Epoch 82/100\n",
      "5/5 [==============================] - 0s 9ms/step - loss: 8.6188 - mae: 1.8136 - val_loss: 4.1582 - val_mae: 1.4421\n",
      "Epoch 83/100\n",
      "5/5 [==============================] - 0s 9ms/step - loss: 8.4545 - mae: 1.7266 - val_loss: 3.9998 - val_mae: 1.3248\n",
      "Epoch 84/100\n",
      "5/5 [==============================] - 0s 9ms/step - loss: 8.3381 - mae: 1.6944 - val_loss: 3.9374 - val_mae: 1.3199\n",
      "Epoch 85/100\n",
      "5/5 [==============================] - 0s 9ms/step - loss: 8.2369 - mae: 1.6580 - val_loss: 3.8649 - val_mae: 1.2983\n",
      "Epoch 86/100\n",
      "5/5 [==============================] - 0s 9ms/step - loss: 8.2048 - mae: 1.6211 - val_loss: 3.8182 - val_mae: 1.2936\n",
      "Epoch 87/100\n",
      "5/5 [==============================] - 0s 9ms/step - loss: 7.9779 - mae: 1.6149 - val_loss: 3.7989 - val_mae: 1.3391\n",
      "Epoch 88/100\n",
      "5/5 [==============================] - 0s 9ms/step - loss: 8.2564 - mae: 1.7611 - val_loss: 4.1086 - val_mae: 1.5660\n",
      "Epoch 89/100\n",
      "5/5 [==============================] - 0s 8ms/step - loss: 8.0596 - mae: 1.7888 - val_loss: 3.8156 - val_mae: 1.4090\n",
      "Epoch 90/100\n",
      "5/5 [==============================] - 0s 9ms/step - loss: 7.9668 - mae: 1.7590 - val_loss: 3.8102 - val_mae: 1.4291\n",
      "Epoch 91/100\n",
      "5/5 [==============================] - 0s 9ms/step - loss: 7.6612 - mae: 1.7044 - val_loss: 3.5855 - val_mae: 1.2876\n",
      "Epoch 92/100\n",
      "5/5 [==============================] - 0s 9ms/step - loss: 7.4750 - mae: 1.6216 - val_loss: 3.4952 - val_mae: 1.2325\n",
      "Epoch 93/100\n",
      "5/5 [==============================] - 0s 9ms/step - loss: 7.4438 - mae: 1.5602 - val_loss: 3.4533 - val_mae: 1.2194\n",
      "Epoch 94/100\n",
      "5/5 [==============================] - 0s 9ms/step - loss: 7.3739 - mae: 1.5343 - val_loss: 3.4050 - val_mae: 1.2349\n",
      "Epoch 95/100\n",
      "5/5 [==============================] - 0s 8ms/step - loss: 7.3195 - mae: 1.5714 - val_loss: 3.4177 - val_mae: 1.2745\n",
      "Epoch 96/100\n",
      "5/5 [==============================] - 0s 7ms/step - loss: 7.1666 - mae: 1.5906 - val_loss: 3.3768 - val_mae: 1.2624\n",
      "Epoch 97/100\n",
      "5/5 [==============================] - 0s 9ms/step - loss: 7.1027 - mae: 1.5511 - val_loss: 3.3077 - val_mae: 1.2245\n",
      "Epoch 98/100\n",
      "5/5 [==============================] - 0s 9ms/step - loss: 7.0809 - mae: 1.5784 - val_loss: 3.4156 - val_mae: 1.3492\n",
      "Epoch 99/100\n",
      "5/5 [==============================] - 0s 9ms/step - loss: 6.9274 - mae: 1.6093 - val_loss: 3.2872 - val_mae: 1.2692\n",
      "Epoch 100/100\n",
      "5/5 [==============================] - 0s 9ms/step - loss: 6.8615 - mae: 1.5317 - val_loss: 3.1500 - val_mae: 1.1732\n"
     ]
    }
   ],
   "source": [
    "history = model.fit(X_train, y_train, epochs=100, validation_split=0.2)"
   ]
  },
  {
   "cell_type": "markdown",
   "metadata": {},
   "source": [
    "### **Evaluating the Model**\n",
    "\n",
    "Evaluate the model on the test data and print the loss and mean absolute error."
   ]
  },
  {
   "cell_type": "code",
   "execution_count": 22,
   "metadata": {},
   "outputs": [
    {
     "name": "stdout",
     "output_type": "stream",
     "text": [
      "2/2 [==============================] - 0s 4ms/step - loss: 7.6463 - mae: 1.5926\n",
      "Test MAE: 1.592597484588623\n"
     ]
    }
   ],
   "source": [
    "test_loss, test_mae = model.evaluate(X_test, y_test)\n",
    "print(f'Test MAE: {test_mae}')"
   ]
  },
  {
   "cell_type": "markdown",
   "metadata": {},
   "source": [
    "### **Making Predictions**\n",
    "\n",
    "Make predictions on the test data and print the predicted values."
   ]
  },
  {
   "cell_type": "code",
   "execution_count": 23,
   "metadata": {},
   "outputs": [
    {
     "name": "stdout",
     "output_type": "stream",
     "text": [
      "2/2 [==============================] - 0s 3ms/step\n",
      "[[82.9452  ]\n",
      " [75.120094]\n",
      " [77.362404]\n",
      " [74.3123  ]\n",
      " [52.397182]\n",
      " [76.3668  ]\n",
      " [75.55248 ]\n",
      " [75.60737 ]\n",
      " [63.091072]\n",
      " [63.92248 ]\n",
      " [76.38226 ]\n",
      " [82.17715 ]\n",
      " [60.434948]\n",
      " [81.22571 ]\n",
      " [80.41126 ]\n",
      " [77.634605]\n",
      " [65.23303 ]\n",
      " [75.634026]\n",
      " [55.275036]\n",
      " [74.77972 ]\n",
      " [74.660286]\n",
      " [82.92811 ]\n",
      " [74.497   ]\n",
      " [74.82429 ]\n",
      " [74.499115]\n",
      " [74.314255]\n",
      " [60.681286]\n",
      " [74.767586]\n",
      " [75.64094 ]\n",
      " [75.55904 ]\n",
      " [54.065273]\n",
      " [74.84286 ]\n",
      " [81.24293 ]\n",
      " [63.747807]\n",
      " [69.21673 ]\n",
      " [75.98098 ]\n",
      " [68.20081 ]\n",
      " [76.357124]\n",
      " [75.18483 ]\n",
      " [62.818066]\n",
      " [57.216366]\n",
      " [57.49011 ]\n",
      " [63.85909 ]\n",
      " [77.12499 ]\n",
      " [66.113976]]\n"
     ]
    }
   ],
   "source": [
    "predictions = model.predict(X_test)\n",
    "print(predictions)"
   ]
  },
  {
   "cell_type": "markdown",
   "metadata": {},
   "source": [
    "### **Plotting the Results**\n",
    "\n",
    "Plot the training and validation loss as well as the mean absolute error over the epochs."
   ]
  },
  {
   "cell_type": "code",
   "execution_count": 24,
   "metadata": {},
   "outputs": [
    {
     "data": {
      "image/png": "[encoded data removed]",
      "text/plain": [
       "<Figure size 1200x400 with 1 Axes>"
      ]
     },
     "metadata": {},
     "output_type": "display_data"
    }
   ],
   "source": [
    "import matplotlib.pyplot as plt\n",
    "\n",
    "plt.figure(figsize=(12, 4))\n",
    "\n",
    "plt.subplot(1, 2, 1)\n",
    "plt.plot(history.history['loss'], label='Train Loss')\n",
    "plt.plot(history.history['val_loss'], label='Validation Loss')\n",
    "plt.title('Model Loss')\n",
    "plt.xlabel('Epoch')\n",
    "plt.ylabel('Loss')\n",
    "plt.legend(loc='upper right')\n",
    "plt.grid()\n",
    "plt.show()"
   ]
  }
 ],
 "metadata": {
  "kernelspec": {
   "display_name": "Python 3",
   "language": "python",
   "name": "python3"
  },
  "language_info": {
   "codemirror_mode": {
    "name": "ipython",
    "version": 3
   },
   "file_extension": ".py",
   "mimetype": "text/x-python",
   "name": "python",
   "nbconvert_exporter": "python",
   "pygments_lexer": "ipython3",
   "version": "3.11.9"
  }
 },
 "nbformat": 4,
 "nbformat_minor": 2
}
