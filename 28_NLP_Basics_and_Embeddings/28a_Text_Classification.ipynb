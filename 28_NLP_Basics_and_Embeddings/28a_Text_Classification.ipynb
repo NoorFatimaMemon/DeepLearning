{
  "nbformat": 4,
  "nbformat_minor": 0,
  "metadata": {
    "colab": {
      "provenance": [],
      "gpuType": "T4",
      "include_colab_link": true
    },
    "kernelspec": {
      "display_name": "Python 3",
      "name": "python3"
    },
    "language_info": {
      "codemirror_mode": {
        "name": "ipython",
        "version": 3
      },
      "file_extension": ".py",
      "mimetype": "text/x-python",
      "name": "python",
      "nbconvert_exporter": "python",
      "pygments_lexer": "ipython3",
      "version": "3.6.9"
    },
    "accelerator": "GPU"
  },
  "cells": [
    {
      "cell_type": "markdown",
      "metadata": {
        "id": "view-in-github",
        "colab_type": "text"
      },
      "source": [
        "<a href=\"https://colab.research.google.com/github/NoorFatimaMemon/DeepLearning/blob/main/28_NLP_Basics_and_Embeddings/28_Text_Classification.ipynb\" target=\"_parent\"><img src=\"https://colab.research.google.com/assets/colab-badge.svg\" alt=\"Open In Colab\"/></a>"
      ]
    },
    {
      "cell_type": "markdown",
      "source": [
        "# **Text Classification with TensorFlow (SMS Spam)**\n",
        "## Dataset: UCI SMS Spam Collection\n",
        "## Task: classify SMS messages as ham (0) or spam (1)"
      ],
      "metadata": {
        "id": "PQJb9r91yFkl"
      }
    },
    {
      "cell_type": "markdown",
      "source": [
        "## Imports"
      ],
      "metadata": {
        "id": "InVz2MwqytX0"
      }
    },
    {
      "cell_type": "code",
      "source": [
        "import os\n",
        "import io\n",
        "import zipfile\n",
        "import urllib.request\n",
        "import numpy as np\n",
        "import tensorflow as tf\n",
        "import tensorflow_hub as hub\n",
        "import matplotlib.pyplot as plt\n",
        "plt.rcParams['figure.figsize'] = (7, 4)\n",
        "\n",
        "# --- Versions / environment info (helpful for debugging) ---\n",
        "print(\"TF version: \", tf.__version__)\n",
        "print(\"Eager mode: \", tf.executing_eagerly())\n",
        "print(\"TF-Hub version: \", hub.__version__)\n",
        "print(\"GPU is\", \"available\" if tf.config.list_physical_devices('GPU') else \"NOT AVAILABLE\")"
      ],
      "metadata": {
        "colab": {
          "base_uri": "https://localhost:8080/"
        },
        "id": "XRVnh218x1jk",
        "outputId": "6d3cc63b-cfb4-488c-cb70-a99abd688ab2"
      },
      "execution_count": 2,
      "outputs": [
        {
          "output_type": "stream",
          "name": "stdout",
          "text": [
            "TF version:  2.19.0\n",
            "Eager mode:  True\n",
            "TF-Hub version:  0.16.1\n",
            "GPU is NOT AVAILABLE\n"
          ]
        }
      ]
    },
    {
      "cell_type": "markdown",
      "metadata": {
        "id": "iAsKG535pHep"
      },
      "source": [
        "## Download the UCI SMS Spam dataset\n",
        "* URL: https://archive.ics.uci.edu/ml/datasets/SMS+Spam+Collection\n",
        "* We download a ZIP and read the file inside called \"SMSSpamCollection\"."
      ]
    },
    {
      "cell_type": "code",
      "source": [
        "uci_url = \"https://archive.ics.uci.edu/ml/machine-learning-databases/00228/smsspamcollection.zip\"\n",
        "\n",
        "# Download into memory\n",
        "print(\"Downloading dataset...\")\n",
        "resp = urllib.request.urlopen(uci_url)\n",
        "zip_bytes = resp.read()\n",
        "print(\"Downloading Completed...\")"
      ],
      "metadata": {
        "colab": {
          "base_uri": "https://localhost:8080/"
        },
        "id": "HetyEy5TzH6-",
        "outputId": "1db55727-53d4-4a66-d18b-282ca0526604"
      },
      "execution_count": 3,
      "outputs": [
        {
          "output_type": "stream",
          "name": "stdout",
          "text": [
            "Downloading dataset...\n",
            "Downloading Completed...\n"
          ]
        }
      ]
    },
    {
      "cell_type": "code",
      "source": [
        "# Open the zip from memory and extract the data file\n",
        "with zipfile.ZipFile(io.BytesIO(zip_bytes)) as zf:\n",
        "    with zf.open(\"SMSSpamCollection\") as f:\n",
        "        raw = f.read().decode(\"utf-8\")"
      ],
      "metadata": {
        "id": "zbqTlar1zPr6"
      },
      "execution_count": 4,
      "outputs": []
    },
    {
      "cell_type": "code",
      "source": [
        "# Each line is: \"<label>\\t<message>\"\n",
        "lines = raw.strip().split(\"\\n\")\n",
        "labels, texts = [], []\n",
        "for line in lines:\n",
        "    label, text = line.split(\"\\t\", 1)  # split only on the first tab\n",
        "    labels.append(1 if label == \"spam\" else 0)  # spam->1, ham->0\n",
        "    texts.append(text)\n",
        "\n",
        "# Convert to NumPy arrays\n",
        "texts = np.array(texts, dtype=object)\n",
        "labels = np.array(labels, dtype=np.int32)\n",
        "\n",
        "print(\"Total messages:\", len(texts))\n",
        "print(\"Spam %: {:.2f}%\".format(100.0 * labels.mean()))"
      ],
      "metadata": {
        "colab": {
          "base_uri": "https://localhost:8080/"
        },
        "id": "r6gpeCigyqmj",
        "outputId": "e8f2d9ba-8231-4869-cc07-253e8d839fc4"
      },
      "execution_count": 5,
      "outputs": [
        {
          "output_type": "stream",
          "name": "stdout",
          "text": [
            "Total messages: 5574\n",
            "Spam %: 13.40%\n"
          ]
        }
      ]
    },
    {
      "cell_type": "markdown",
      "source": [
        "# Create train / test split\n",
        "* (The UCI file has no official split, so we make one.)\n",
        "* We'll do an 80/20 split after shuffling."
      ],
      "metadata": {
        "id": "sOSzQEb5zlBS"
      }
    },
    {
      "cell_type": "code",
      "source": [
        "rng = np.random.default_rng(seed=42)   # fixed seed for reproducibility\n",
        "indices = np.arange(len(texts))\n",
        "rng.shuffle(indices)\n",
        "\n",
        "texts, labels = texts[indices], labels[indices]\n",
        "split = int(0.8 * len(texts))          # 80% train, 20% test\n",
        "train_examples, train_labels = texts[:split], labels[:split]\n",
        "test_examples, test_labels = texts[split:], labels[split:]\n",
        "print(f\"Training entries: {len(train_examples)}, test entries: {len(test_examples)}\")"
      ],
      "metadata": {
        "colab": {
          "base_uri": "https://localhost:8080/"
        },
        "id": "A6Oat8Hnz8H7",
        "outputId": "832355ef-f1e8-48d1-e0ef-1e405ca96e01"
      },
      "execution_count": 6,
      "outputs": [
        {
          "output_type": "stream",
          "name": "stdout",
          "text": [
            "Training entries: 4459, test entries: 1115\n"
          ]
        }
      ]
    },
    {
      "cell_type": "code",
      "source": [
        "print(train_examples[:5])"
      ],
      "metadata": {
        "colab": {
          "base_uri": "https://localhost:8080/"
        },
        "id": "QhBzjK_2zfBr",
        "outputId": "d22ddfa8-7c1b-4c45-e0bf-75dbcecdfcad"
      },
      "execution_count": 7,
      "outputs": [
        {
          "output_type": "stream",
          "name": "stdout",
          "text": [
            "['sports fans - get the latest sports news str* 2 ur mobile 1 wk FREE PLUS a FREE TONE Txt SPORT ON to 8007 www.getzed.co.uk 0870141701216+ norm 4txt/120p '\n",
            " \"It's justbeen overa week since we broke up and already our brains are going to mush!\"\n",
            " 'Not directly behind... Abt 4 rows behind ü...'\n",
            " 'Haha, my legs and neck are killing me and my amigos are hoping to end the night with a burn, think I could swing by in like an hour?'\n",
            " 'Me too baby! I promise to treat you well! I bet you will take good care of me...']\n"
          ]
        }
      ]
    },
    {
      "cell_type": "code",
      "source": [
        "print(train_labels[:5])"
      ],
      "metadata": {
        "colab": {
          "base_uri": "https://localhost:8080/"
        },
        "id": "KKD4WS72zfLH",
        "outputId": "5687cf1c-a9b8-4d32-d2df-eb017d306405"
      },
      "execution_count": 8,
      "outputs": [
        {
          "output_type": "stream",
          "name": "stdout",
          "text": [
            "[1 0 0 0 0]\n"
          ]
        }
      ]
    },
    {
      "cell_type": "markdown",
      "metadata": {
        "id": "l50X3GfjpU4r"
      },
      "source": [
        "# Build & Compile (loss/optimizer/metrics) the model\n",
        "* We use BinaryCrossentropy with from_logits=True because the model outputs raw scores (logits) instead of probabilities."
      ]
    },
    {
      "cell_type": "code",
      "source": [
        "# hub_url = \"https://tfhub.dev/google/nnlm-en-dim50/2\"\n",
        "\"\"\"hub_url = \"https://tfhub.dev/google/nnlm-en-dim128-with-normalization/2\"\n",
        "hub_layer = hub.KerasLayer(hub_url, dtype=tf.string, trainable=True)\n",
        "\n",
        "inputs = tf.keras.Input(shape=(), dtype=tf.string)\n",
        "x = tf.keras.layers.Lambda(lambda text: hub_layer(text), output_shape=(50,))(inputs)\n",
        "x = tf.keras.layers.Dense(16, activation='relu')(x)\n",
        "outputs = tf.keras.layers.Dense(1)(x)\n",
        "model = tf.keras.Model(inputs, outputs)\"\"\""
      ],
      "metadata": {
        "id": "VXuCCJQPdskT",
        "colab": {
          "base_uri": "https://localhost:8080/",
          "height": 70
        },
        "outputId": "47fdb636-135f-4f8a-f9c5-5e0dada867e8"
      },
      "execution_count": 9,
      "outputs": [
        {
          "output_type": "execute_result",
          "data": {
            "text/plain": [
              "'hub_url = \"https://tfhub.dev/google/nnlm-en-dim128-with-normalization/2\"\\nhub_layer = hub.KerasLayer(hub_url, dtype=tf.string, trainable=True)\\n\\ninputs = tf.keras.Input(shape=(), dtype=tf.string)\\nx = tf.keras.layers.Lambda(lambda text: hub_layer(text), output_shape=(50,))(inputs)\\nx = tf.keras.layers.Dense(16, activation=\\'relu\\')(x)\\noutputs = tf.keras.layers.Dense(1)(x)\\nmodel = tf.keras.Model(inputs, outputs)'"
            ],
            "application/vnd.google.colaboratory.intrinsic+json": {
              "type": "string"
            }
          },
          "metadata": {},
          "execution_count": 9
        }
      ]
    },
    {
      "cell_type": "code",
      "source": [
        "hub_url = \"https://tfhub.dev/google/nnlm-en-dim128-with-normalization/2\"\n",
        "\n",
        "# Create a custom Keras Layer to wrap the hub_layer\n",
        "class HubLayerWrapper(tf.keras.layers.Layer):\n",
        "    def __init__(self, hub_url, **kwargs):\n",
        "        super(HubLayerWrapper, self).__init__(**kwargs)\n",
        "        self.hub_layer = hub.KerasLayer(hub_url, dtype=tf.string, trainable=True)\n",
        "\n",
        "    def call(self, inputs):\n",
        "        # Explicitly place the hub_layer call on the CPU\n",
        "        with tf.device('/CPU:0'):\n",
        "            return self.hub_layer(inputs)\n",
        "\n",
        "# Instantiate the custom layer\n",
        "wrapped_hub_layer = HubLayerWrapper(hub_url)\n",
        "\n",
        "inputs = tf.keras.Input(shape=(), dtype=tf.string)\n",
        "x = wrapped_hub_layer(inputs) # Use the wrapped layer\n",
        "x = tf.keras.layers.Dense(16, activation='relu')(x)\n",
        "outputs = tf.keras.layers.Dense(1)(x)\n",
        "model = tf.keras.Model(inputs, outputs)\n",
        "model.compile(optimizer='adam', loss=tf.losses.BinaryCrossentropy(from_logits=True),\n",
        "              metrics=[tf.metrics.BinaryAccuracy(threshold=0.0, name='accuracy')])\n",
        "model.summary()"
      ],
      "metadata": {
        "colab": {
          "base_uri": "https://localhost:8080/",
          "height": 289
        },
        "id": "pGVk4X9c0rME",
        "outputId": "e8c12ec1-af05-4919-f430-fa355c908bf8"
      },
      "execution_count": 10,
      "outputs": [
        {
          "output_type": "display_data",
          "data": {
            "text/plain": [
              "\u001b[1mModel: \"functional\"\u001b[0m\n"
            ],
            "text/html": [
              "<pre style=\"white-space:pre;overflow-x:auto;line-height:normal;font-family:Menlo,'DejaVu Sans Mono',consolas,'Courier New',monospace\"><span style=\"font-weight: bold\">Model: \"functional\"</span>\n",
              "</pre>\n"
            ]
          },
          "metadata": {}
        },
        {
          "output_type": "display_data",
          "data": {
            "text/plain": [
              "┏━━━━━━━━━━━━━━━━━━━━━━━━━━━━━━━━━┳━━━━━━━━━━━━━━━━━━━━━━━━┳━━━━━━━━━━━━━━━┓\n",
              "┃\u001b[1m \u001b[0m\u001b[1mLayer (type)                   \u001b[0m\u001b[1m \u001b[0m┃\u001b[1m \u001b[0m\u001b[1mOutput Shape          \u001b[0m\u001b[1m \u001b[0m┃\u001b[1m \u001b[0m\u001b[1m      Param #\u001b[0m\u001b[1m \u001b[0m┃\n",
              "┡━━━━━━━━━━━━━━━━━━━━━━━━━━━━━━━━━╇━━━━━━━━━━━━━━━━━━━━━━━━╇━━━━━━━━━━━━━━━┩\n",
              "│ input_layer (\u001b[38;5;33mInputLayer\u001b[0m)        │ (\u001b[38;5;45mNone\u001b[0m)                 │             \u001b[38;5;34m0\u001b[0m │\n",
              "├─────────────────────────────────┼────────────────────────┼───────────────┤\n",
              "│ hub_layer_wrapper               │ (\u001b[38;5;45mNone\u001b[0m, \u001b[38;5;34m128\u001b[0m)            │             \u001b[38;5;34m0\u001b[0m │\n",
              "│ (\u001b[38;5;33mHubLayerWrapper\u001b[0m)               │                        │               │\n",
              "├─────────────────────────────────┼────────────────────────┼───────────────┤\n",
              "│ dense (\u001b[38;5;33mDense\u001b[0m)                   │ (\u001b[38;5;45mNone\u001b[0m, \u001b[38;5;34m16\u001b[0m)             │         \u001b[38;5;34m2,064\u001b[0m │\n",
              "├─────────────────────────────────┼────────────────────────┼───────────────┤\n",
              "│ dense_1 (\u001b[38;5;33mDense\u001b[0m)                 │ (\u001b[38;5;45mNone\u001b[0m, \u001b[38;5;34m1\u001b[0m)              │            \u001b[38;5;34m17\u001b[0m │\n",
              "└─────────────────────────────────┴────────────────────────┴───────────────┘\n"
            ],
            "text/html": [
              "<pre style=\"white-space:pre;overflow-x:auto;line-height:normal;font-family:Menlo,'DejaVu Sans Mono',consolas,'Courier New',monospace\">┏━━━━━━━━━━━━━━━━━━━━━━━━━━━━━━━━━┳━━━━━━━━━━━━━━━━━━━━━━━━┳━━━━━━━━━━━━━━━┓\n",
              "┃<span style=\"font-weight: bold\"> Layer (type)                    </span>┃<span style=\"font-weight: bold\"> Output Shape           </span>┃<span style=\"font-weight: bold\">       Param # </span>┃\n",
              "┡━━━━━━━━━━━━━━━━━━━━━━━━━━━━━━━━━╇━━━━━━━━━━━━━━━━━━━━━━━━╇━━━━━━━━━━━━━━━┩\n",
              "│ input_layer (<span style=\"color: #0087ff; text-decoration-color: #0087ff\">InputLayer</span>)        │ (<span style=\"color: #00d7ff; text-decoration-color: #00d7ff\">None</span>)                 │             <span style=\"color: #00af00; text-decoration-color: #00af00\">0</span> │\n",
              "├─────────────────────────────────┼────────────────────────┼───────────────┤\n",
              "│ hub_layer_wrapper               │ (<span style=\"color: #00d7ff; text-decoration-color: #00d7ff\">None</span>, <span style=\"color: #00af00; text-decoration-color: #00af00\">128</span>)            │             <span style=\"color: #00af00; text-decoration-color: #00af00\">0</span> │\n",
              "│ (<span style=\"color: #0087ff; text-decoration-color: #0087ff\">HubLayerWrapper</span>)               │                        │               │\n",
              "├─────────────────────────────────┼────────────────────────┼───────────────┤\n",
              "│ dense (<span style=\"color: #0087ff; text-decoration-color: #0087ff\">Dense</span>)                   │ (<span style=\"color: #00d7ff; text-decoration-color: #00d7ff\">None</span>, <span style=\"color: #00af00; text-decoration-color: #00af00\">16</span>)             │         <span style=\"color: #00af00; text-decoration-color: #00af00\">2,064</span> │\n",
              "├─────────────────────────────────┼────────────────────────┼───────────────┤\n",
              "│ dense_1 (<span style=\"color: #0087ff; text-decoration-color: #0087ff\">Dense</span>)                 │ (<span style=\"color: #00d7ff; text-decoration-color: #00d7ff\">None</span>, <span style=\"color: #00af00; text-decoration-color: #00af00\">1</span>)              │            <span style=\"color: #00af00; text-decoration-color: #00af00\">17</span> │\n",
              "└─────────────────────────────────┴────────────────────────┴───────────────┘\n",
              "</pre>\n"
            ]
          },
          "metadata": {}
        },
        {
          "output_type": "display_data",
          "data": {
            "text/plain": [
              "\u001b[1m Total params: \u001b[0m\u001b[38;5;34m2,081\u001b[0m (8.13 KB)\n"
            ],
            "text/html": [
              "<pre style=\"white-space:pre;overflow-x:auto;line-height:normal;font-family:Menlo,'DejaVu Sans Mono',consolas,'Courier New',monospace\"><span style=\"font-weight: bold\"> Total params: </span><span style=\"color: #00af00; text-decoration-color: #00af00\">2,081</span> (8.13 KB)\n",
              "</pre>\n"
            ]
          },
          "metadata": {}
        },
        {
          "output_type": "display_data",
          "data": {
            "text/plain": [
              "\u001b[1m Trainable params: \u001b[0m\u001b[38;5;34m2,081\u001b[0m (8.13 KB)\n"
            ],
            "text/html": [
              "<pre style=\"white-space:pre;overflow-x:auto;line-height:normal;font-family:Menlo,'DejaVu Sans Mono',consolas,'Courier New',monospace\"><span style=\"font-weight: bold\"> Trainable params: </span><span style=\"color: #00af00; text-decoration-color: #00af00\">2,081</span> (8.13 KB)\n",
              "</pre>\n"
            ]
          },
          "metadata": {}
        },
        {
          "output_type": "display_data",
          "data": {
            "text/plain": [
              "\u001b[1m Non-trainable params: \u001b[0m\u001b[38;5;34m0\u001b[0m (0.00 B)\n"
            ],
            "text/html": [
              "<pre style=\"white-space:pre;overflow-x:auto;line-height:normal;font-family:Menlo,'DejaVu Sans Mono',consolas,'Courier New',monospace\"><span style=\"font-weight: bold\"> Non-trainable params: </span><span style=\"color: #00af00; text-decoration-color: #00af00\">0</span> (0.00 B)\n",
              "</pre>\n"
            ]
          },
          "metadata": {}
        }
      ]
    },
    {
      "cell_type": "markdown",
      "metadata": {
        "id": "dfSbV6igl1EH"
      },
      "source": [
        "# Create a validation set from the training data\n",
        "* We'll hold out the first 1,000 examples for validation.\n",
        "* (Training and validation must come ONLY from the training split.)"
      ]
    },
    {
      "cell_type": "code",
      "source": [
        "val_size = 1000 if len(train_examples) > 1000 else max(1, len(train_examples)//5)\n",
        "\n",
        "x_val = train_examples[:val_size]\n",
        "partial_x_train = train_examples[val_size:]\n",
        "\n",
        "y_val = train_labels[:val_size]\n",
        "partial_y_train = train_labels[val_size:]\n",
        "\n",
        "print(f\"Train size (used for fitting): {len(partial_x_train)}\")\n",
        "print(f\"Validation size: {len(x_val)}\")\n",
        "print(f\"Test size: {len(test_examples)}\")"
      ],
      "metadata": {
        "colab": {
          "base_uri": "https://localhost:8080/"
        },
        "id": "jjQFWmaH1YQM",
        "outputId": "266fe441-e2be-4a2a-e70d-1a558c7601df"
      },
      "execution_count": 11,
      "outputs": [
        {
          "output_type": "stream",
          "name": "stdout",
          "text": [
            "Train size (used for fitting): 3459\n",
            "Validation size: 1000\n",
            "Test size: 1115\n"
          ]
        }
      ]
    },
    {
      "cell_type": "markdown",
      "metadata": {
        "id": "6PbKQ6mucuKL"
      },
      "source": [
        "# Train the model"
      ]
    },
    {
      "cell_type": "code",
      "source": [
        "# Explicitly train on the CPU\n",
        "with tf.device('/CPU:0'):\n",
        "    history = model.fit(partial_x_train, partial_y_train, epochs=40, batch_size=512, validation_data=(x_val, y_val), verbose=1)"
      ],
      "metadata": {
        "colab": {
          "base_uri": "https://localhost:8080/"
        },
        "id": "INmurFSK1hCd",
        "outputId": "c5b7e871-8a29-47f2-88d2-fd84c1334c15"
      },
      "execution_count": 12,
      "outputs": [
        {
          "output_type": "stream",
          "name": "stdout",
          "text": [
            "Epoch 1/40\n",
            "\u001b[1m7/7\u001b[0m \u001b[32m━━━━━━━━━━━━━━━━━━━━\u001b[0m\u001b[37m\u001b[0m \u001b[1m2s\u001b[0m 72ms/step - accuracy: 0.1926 - loss: 0.7479 - val_accuracy: 0.4320 - val_loss: 0.7030\n",
            "Epoch 2/40\n",
            "\u001b[1m7/7\u001b[0m \u001b[32m━━━━━━━━━━━━━━━━━━━━\u001b[0m\u001b[37m\u001b[0m \u001b[1m0s\u001b[0m 28ms/step - accuracy: 0.5685 - loss: 0.6867 - val_accuracy: 0.7930 - val_loss: 0.6474\n",
            "Epoch 3/40\n",
            "\u001b[1m7/7\u001b[0m \u001b[32m━━━━━━━━━━━━━━━━━━━━\u001b[0m\u001b[37m\u001b[0m \u001b[1m0s\u001b[0m 29ms/step - accuracy: 0.8283 - loss: 0.6343 - val_accuracy: 0.8640 - val_loss: 0.6012\n",
            "Epoch 4/40\n",
            "\u001b[1m7/7\u001b[0m \u001b[32m━━━━━━━━━━━━━━━━━━━━\u001b[0m\u001b[37m\u001b[0m \u001b[1m0s\u001b[0m 40ms/step - accuracy: 0.8673 - loss: 0.5898 - val_accuracy: 0.8760 - val_loss: 0.5620\n",
            "Epoch 5/40\n",
            "\u001b[1m7/7\u001b[0m \u001b[32m━━━━━━━━━━━━━━━━━━━━\u001b[0m\u001b[37m\u001b[0m \u001b[1m0s\u001b[0m 25ms/step - accuracy: 0.8718 - loss: 0.5562 - val_accuracy: 0.8770 - val_loss: 0.5275\n",
            "Epoch 6/40\n",
            "\u001b[1m7/7\u001b[0m \u001b[32m━━━━━━━━━━━━━━━━━━━━\u001b[0m\u001b[37m\u001b[0m \u001b[1m0s\u001b[0m 25ms/step - accuracy: 0.8736 - loss: 0.5213 - val_accuracy: 0.8780 - val_loss: 0.4966\n",
            "Epoch 7/40\n",
            "\u001b[1m7/7\u001b[0m \u001b[32m━━━━━━━━━━━━━━━━━━━━\u001b[0m\u001b[37m\u001b[0m \u001b[1m0s\u001b[0m 16ms/step - accuracy: 0.8700 - loss: 0.4950 - val_accuracy: 0.8790 - val_loss: 0.4689\n",
            "Epoch 8/40\n",
            "\u001b[1m7/7\u001b[0m \u001b[32m━━━━━━━━━━━━━━━━━━━━\u001b[0m\u001b[37m\u001b[0m \u001b[1m0s\u001b[0m 16ms/step - accuracy: 0.8653 - loss: 0.4715 - val_accuracy: 0.8810 - val_loss: 0.4439\n",
            "Epoch 9/40\n",
            "\u001b[1m7/7\u001b[0m \u001b[32m━━━━━━━━━━━━━━━━━━━━\u001b[0m\u001b[37m\u001b[0m \u001b[1m0s\u001b[0m 17ms/step - accuracy: 0.8740 - loss: 0.4435 - val_accuracy: 0.8840 - val_loss: 0.4209\n",
            "Epoch 10/40\n",
            "\u001b[1m7/7\u001b[0m \u001b[32m━━━━━━━━━━━━━━━━━━━━\u001b[0m\u001b[37m\u001b[0m \u001b[1m0s\u001b[0m 18ms/step - accuracy: 0.8669 - loss: 0.4282 - val_accuracy: 0.8850 - val_loss: 0.4001\n",
            "Epoch 11/40\n",
            "\u001b[1m7/7\u001b[0m \u001b[32m━━━━━━━━━━━━━━━━━━━━\u001b[0m\u001b[37m\u001b[0m \u001b[1m0s\u001b[0m 16ms/step - accuracy: 0.8850 - loss: 0.3982 - val_accuracy: 0.8880 - val_loss: 0.3805\n",
            "Epoch 12/40\n",
            "\u001b[1m7/7\u001b[0m \u001b[32m━━━━━━━━━━━━━━━━━━━━\u001b[0m\u001b[37m\u001b[0m \u001b[1m0s\u001b[0m 15ms/step - accuracy: 0.8897 - loss: 0.3759 - val_accuracy: 0.8930 - val_loss: 0.3617\n",
            "Epoch 13/40\n",
            "\u001b[1m7/7\u001b[0m \u001b[32m━━━━━━━━━━━━━━━━━━━━\u001b[0m\u001b[37m\u001b[0m \u001b[1m0s\u001b[0m 16ms/step - accuracy: 0.8924 - loss: 0.3614 - val_accuracy: 0.9030 - val_loss: 0.3438\n",
            "Epoch 14/40\n",
            "\u001b[1m7/7\u001b[0m \u001b[32m━━━━━━━━━━━━━━━━━━━━\u001b[0m\u001b[37m\u001b[0m \u001b[1m0s\u001b[0m 16ms/step - accuracy: 0.9009 - loss: 0.3408 - val_accuracy: 0.9070 - val_loss: 0.3270\n",
            "Epoch 15/40\n",
            "\u001b[1m7/7\u001b[0m \u001b[32m━━━━━━━━━━━━━━━━━━━━\u001b[0m\u001b[37m\u001b[0m \u001b[1m0s\u001b[0m 16ms/step - accuracy: 0.9034 - loss: 0.3261 - val_accuracy: 0.9130 - val_loss: 0.3111\n",
            "Epoch 16/40\n",
            "\u001b[1m7/7\u001b[0m \u001b[32m━━━━━━━━━━━━━━━━━━━━\u001b[0m\u001b[37m\u001b[0m \u001b[1m0s\u001b[0m 41ms/step - accuracy: 0.9066 - loss: 0.3093 - val_accuracy: 0.9190 - val_loss: 0.2965\n",
            "Epoch 17/40\n",
            "\u001b[1m7/7\u001b[0m \u001b[32m━━━━━━━━━━━━━━━━━━━━\u001b[0m\u001b[37m\u001b[0m \u001b[1m0s\u001b[0m 17ms/step - accuracy: 0.9188 - loss: 0.2929 - val_accuracy: 0.9260 - val_loss: 0.2829\n",
            "Epoch 18/40\n",
            "\u001b[1m7/7\u001b[0m \u001b[32m━━━━━━━━━━━━━━━━━━━━\u001b[0m\u001b[37m\u001b[0m \u001b[1m0s\u001b[0m 16ms/step - accuracy: 0.9200 - loss: 0.2835 - val_accuracy: 0.9270 - val_loss: 0.2704\n",
            "Epoch 19/40\n",
            "\u001b[1m7/7\u001b[0m \u001b[32m━━━━━━━━━━━━━━━━━━━━\u001b[0m\u001b[37m\u001b[0m \u001b[1m0s\u001b[0m 24ms/step - accuracy: 0.9284 - loss: 0.2654 - val_accuracy: 0.9310 - val_loss: 0.2590\n",
            "Epoch 20/40\n",
            "\u001b[1m7/7\u001b[0m \u001b[32m━━━━━━━━━━━━━━━━━━━━\u001b[0m\u001b[37m\u001b[0m \u001b[1m0s\u001b[0m 22ms/step - accuracy: 0.9360 - loss: 0.2476 - val_accuracy: 0.9350 - val_loss: 0.2484\n",
            "Epoch 21/40\n",
            "\u001b[1m7/7\u001b[0m \u001b[32m━━━━━━━━━━━━━━━━━━━━\u001b[0m\u001b[37m\u001b[0m \u001b[1m0s\u001b[0m 16ms/step - accuracy: 0.9331 - loss: 0.2445 - val_accuracy: 0.9410 - val_loss: 0.2386\n",
            "Epoch 22/40\n",
            "\u001b[1m7/7\u001b[0m \u001b[32m━━━━━━━━━━━━━━━━━━━━\u001b[0m\u001b[37m\u001b[0m \u001b[1m0s\u001b[0m 16ms/step - accuracy: 0.9371 - loss: 0.2331 - val_accuracy: 0.9460 - val_loss: 0.2296\n",
            "Epoch 23/40\n",
            "\u001b[1m7/7\u001b[0m \u001b[32m━━━━━━━━━━━━━━━━━━━━\u001b[0m\u001b[37m\u001b[0m \u001b[1m0s\u001b[0m 16ms/step - accuracy: 0.9440 - loss: 0.2188 - val_accuracy: 0.9480 - val_loss: 0.2211\n",
            "Epoch 24/40\n",
            "\u001b[1m7/7\u001b[0m \u001b[32m━━━━━━━━━━━━━━━━━━━━\u001b[0m\u001b[37m\u001b[0m \u001b[1m0s\u001b[0m 16ms/step - accuracy: 0.9477 - loss: 0.2106 - val_accuracy: 0.9480 - val_loss: 0.2134\n",
            "Epoch 25/40\n",
            "\u001b[1m7/7\u001b[0m \u001b[32m━━━━━━━━━━━━━━━━━━━━\u001b[0m\u001b[37m\u001b[0m \u001b[1m0s\u001b[0m 16ms/step - accuracy: 0.9477 - loss: 0.2025 - val_accuracy: 0.9490 - val_loss: 0.2062\n",
            "Epoch 26/40\n",
            "\u001b[1m7/7\u001b[0m \u001b[32m━━━━━━━━━━━━━━━━━━━━\u001b[0m\u001b[37m\u001b[0m \u001b[1m0s\u001b[0m 16ms/step - accuracy: 0.9524 - loss: 0.1928 - val_accuracy: 0.9460 - val_loss: 0.1997\n",
            "Epoch 27/40\n",
            "\u001b[1m7/7\u001b[0m \u001b[32m━━━━━━━━━━━━━━━━━━━━\u001b[0m\u001b[37m\u001b[0m \u001b[1m0s\u001b[0m 18ms/step - accuracy: 0.9488 - loss: 0.1933 - val_accuracy: 0.9480 - val_loss: 0.1938\n",
            "Epoch 28/40\n",
            "\u001b[1m7/7\u001b[0m \u001b[32m━━━━━━━━━━━━━━━━━━━━\u001b[0m\u001b[37m\u001b[0m \u001b[1m0s\u001b[0m 21ms/step - accuracy: 0.9517 - loss: 0.1835 - val_accuracy: 0.9490 - val_loss: 0.1883\n",
            "Epoch 29/40\n",
            "\u001b[1m7/7\u001b[0m \u001b[32m━━━━━━━━━━━━━━━━━━━━\u001b[0m\u001b[37m\u001b[0m \u001b[1m0s\u001b[0m 16ms/step - accuracy: 0.9530 - loss: 0.1810 - val_accuracy: 0.9520 - val_loss: 0.1832\n",
            "Epoch 30/40\n",
            "\u001b[1m7/7\u001b[0m \u001b[32m━━━━━━━━━━━━━━━━━━━━\u001b[0m\u001b[37m\u001b[0m \u001b[1m0s\u001b[0m 16ms/step - accuracy: 0.9580 - loss: 0.1643 - val_accuracy: 0.9520 - val_loss: 0.1780\n",
            "Epoch 31/40\n",
            "\u001b[1m7/7\u001b[0m \u001b[32m━━━━━━━━━━━━━━━━━━━━\u001b[0m\u001b[37m\u001b[0m \u001b[1m0s\u001b[0m 16ms/step - accuracy: 0.9544 - loss: 0.1651 - val_accuracy: 0.9520 - val_loss: 0.1736\n",
            "Epoch 32/40\n",
            "\u001b[1m7/7\u001b[0m \u001b[32m━━━━━━━━━━━━━━━━━━━━\u001b[0m\u001b[37m\u001b[0m \u001b[1m0s\u001b[0m 17ms/step - accuracy: 0.9586 - loss: 0.1561 - val_accuracy: 0.9510 - val_loss: 0.1695\n",
            "Epoch 33/40\n",
            "\u001b[1m7/7\u001b[0m \u001b[32m━━━━━━━━━━━━━━━━━━━━\u001b[0m\u001b[37m\u001b[0m \u001b[1m0s\u001b[0m 22ms/step - accuracy: 0.9568 - loss: 0.1532 - val_accuracy: 0.9520 - val_loss: 0.1658\n",
            "Epoch 34/40\n",
            "\u001b[1m7/7\u001b[0m \u001b[32m━━━━━━━━━━━━━━━━━━━━\u001b[0m\u001b[37m\u001b[0m \u001b[1m0s\u001b[0m 22ms/step - accuracy: 0.9616 - loss: 0.1466 - val_accuracy: 0.9520 - val_loss: 0.1624\n",
            "Epoch 35/40\n",
            "\u001b[1m7/7\u001b[0m \u001b[32m━━━━━━━━━━━━━━━━━━━━\u001b[0m\u001b[37m\u001b[0m \u001b[1m0s\u001b[0m 16ms/step - accuracy: 0.9610 - loss: 0.1407 - val_accuracy: 0.9520 - val_loss: 0.1592\n",
            "Epoch 36/40\n",
            "\u001b[1m7/7\u001b[0m \u001b[32m━━━━━━━━━━━━━━━━━━━━\u001b[0m\u001b[37m\u001b[0m \u001b[1m0s\u001b[0m 16ms/step - accuracy: 0.9635 - loss: 0.1363 - val_accuracy: 0.9520 - val_loss: 0.1564\n",
            "Epoch 37/40\n",
            "\u001b[1m7/7\u001b[0m \u001b[32m━━━━━━━━━━━━━━━━━━━━\u001b[0m\u001b[37m\u001b[0m \u001b[1m0s\u001b[0m 17ms/step - accuracy: 0.9658 - loss: 0.1316 - val_accuracy: 0.9520 - val_loss: 0.1537\n",
            "Epoch 38/40\n",
            "\u001b[1m7/7\u001b[0m \u001b[32m━━━━━━━━━━━━━━━━━━━━\u001b[0m\u001b[37m\u001b[0m \u001b[1m0s\u001b[0m 17ms/step - accuracy: 0.9647 - loss: 0.1315 - val_accuracy: 0.9540 - val_loss: 0.1512\n",
            "Epoch 39/40\n",
            "\u001b[1m7/7\u001b[0m \u001b[32m━━━━━━━━━━━━━━━━━━━━\u001b[0m\u001b[37m\u001b[0m \u001b[1m0s\u001b[0m 16ms/step - accuracy: 0.9630 - loss: 0.1288 - val_accuracy: 0.9550 - val_loss: 0.1489\n",
            "Epoch 40/40\n",
            "\u001b[1m7/7\u001b[0m \u001b[32m━━━━━━━━━━━━━━━━━━━━\u001b[0m\u001b[37m\u001b[0m \u001b[1m0s\u001b[0m 17ms/step - accuracy: 0.9669 - loss: 0.1282 - val_accuracy: 0.9550 - val_loss: 0.1468\n"
          ]
        }
      ]
    },
    {
      "cell_type": "markdown",
      "metadata": {
        "id": "0XMwnDOp-llH"
      },
      "source": [
        "# Evaluate on the test set"
      ]
    },
    {
      "cell_type": "code",
      "source": [
        "results = model.evaluate(test_examples, test_labels, verbose=0)\n",
        "print(\"Test Loss, Test Accuracy:\", results)"
      ],
      "metadata": {
        "id": "eHcJZBzP2Ulz",
        "colab": {
          "base_uri": "https://localhost:8080/"
        },
        "outputId": "25d19be6-fc9a-4a52-bfe1-211a8a593524"
      },
      "execution_count": 13,
      "outputs": [
        {
          "output_type": "stream",
          "name": "stdout",
          "text": [
            "Test Loss, Test Accuracy: [0.12903840839862823, 0.9623318314552307]\n"
          ]
        }
      ]
    },
    {
      "cell_type": "markdown",
      "source": [
        "# Plot training vs validation loss and accuracy"
      ],
      "metadata": {
        "id": "8k9vcc0i2jXb"
      }
    },
    {
      "cell_type": "code",
      "source": [
        "history_dict = history.history\n",
        "acc = history_dict['accuracy']\n",
        "val_acc = history_dict['val_accuracy']\n",
        "loss = history_dict['loss']\n",
        "val_loss = history_dict['val_loss']\n",
        "\n",
        "epochs = range(1, len(acc)+1)"
      ],
      "metadata": {
        "id": "Dc2YE8t52njb"
      },
      "execution_count": 14,
      "outputs": []
    },
    {
      "cell_type": "code",
      "source": [
        "# Plot Accuracy\n",
        "plt.plot(epochs, acc, 'bo', label='Training acc')     # blue dots\n",
        "plt.plot(epochs, val_acc, 'b', label='Validation acc')  # blue line\n",
        "plt.title('Training and validation accuracy')\n",
        "plt.xlabel('Epochs')\n",
        "plt.ylabel('Accuracy')\n",
        "plt.legend()\n",
        "plt.grid(True)\n",
        "plt.show()"
      ],
      "metadata": {
        "id": "z0jg-Bdo2jfM",
        "colab": {
          "base_uri": "https://localhost:8080/",
          "height": 410
        },
        "outputId": "4263bc62-6386-4a6c-abfd-ae32a59549db"
      },
      "execution_count": 17,
      "outputs": [
        {
          "output_type": "display_data",
          "data": {
            "text/plain": [
              "<Figure size 700x400 with 1 Axes>"
            ],
            "image/png": "[encoded data removed]"
          },
          "metadata": {}
        }
      ]
    },
    {
      "cell_type": "code",
      "source": [
        "# Plot Loss\n",
        "plt.plot(epochs, loss, 'bo', label='Training loss')   # blue dots\n",
        "plt.plot(epochs, val_loss, 'b', label='Validation loss')  # blue line\n",
        "plt.title('Training and validation loss')\n",
        "plt.xlabel('Epochs')\n",
        "plt.ylabel('Loss')\n",
        "plt.legend()\n",
        "plt.grid(True)\n",
        "plt.show()"
      ],
      "metadata": {
        "id": "51Gt4C0v2pNK",
        "colab": {
          "base_uri": "https://localhost:8080/",
          "height": 410
        },
        "outputId": "17b27ed0-133b-4cd9-f91f-4d84951a2a69"
      },
      "execution_count": 18,
      "outputs": [
        {
          "output_type": "display_data",
          "data": {
            "text/plain": [
              "<Figure size 700x400 with 1 Axes>"
            ],
            "image/png": "[encoded data removed]"
          },
          "metadata": {}
        }
      ]
    }
  ]
}