{
  "nbformat": 4,
  "nbformat_minor": 0,
  "metadata": {
    "accelerator": "GPU",
    "colab": {
      "provenance": [],
      "gpuType": "T4",
      "include_colab_link": true
    },
    "kernelspec": {
      "display_name": "Python 3",
      "name": "python3"
    },
    "language_info": {
      "codemirror_mode": {
        "name": "ipython",
        "version": 3
      },
      "file_extension": ".py",
      "mimetype": "text/x-python",
      "name": "python",
      "nbconvert_exporter": "python",
      "pygments_lexer": "ipython3",
      "version": "3.6.9"
    }
  },
  "cells": [
    {
      "cell_type": "markdown",
      "metadata": {
        "id": "view-in-github",
        "colab_type": "text"
      },
      "source": [
        "<a href=\"https://colab.research.google.com/github/NoorFatimaMemon/DeepLearning/blob/main/28_NLP_Basics_and_Embeddings/28_Word_Embeddings.ipynb\" target=\"_parent\"><img src=\"https://colab.research.google.com/assets/colab-badge.svg\" alt=\"Open In Colab\"/></a>"
      ]
    },
    {
      "cell_type": "markdown",
      "metadata": {
        "id": "7SN5USFEIIK3"
      },
      "source": [
        "# **Word embeddings**\n",
        "\n",
        "**What are Word Embeddings?**\n",
        "* Computers don’t understand words, only numbers.\n",
        "* One-hot encoding or assigning random numbers to words is not enough, because they don’t capture meaning.\n",
        "* Embeddings are special vectors of numbers (learned automatically) that capture word relationships.\n",
        "* Example:\n",
        "  * \"king\" and \"queen\" end up having similar embeddings.\n",
        "  * Words like \"spam\" and \"advertisement\" end up close together if trained on spam messages.\n",
        "* In short: Embeddings = word meaning stored as numbers."
      ]
    },
    {
      "cell_type": "markdown",
      "source": [
        "Text Classification with Word Embeddings (Pipeline)      \n",
        "\n",
        "\n",
        "                  ┌─────────────────────┐\n",
        "                  │   Raw Text Message   │\n",
        "                  │  (\"Free prize now!\") │\n",
        "                  └──────────┬──────────┘\n",
        "                             │\n",
        "                             ▼\n",
        "           ┌────────────────────────────────┐\n",
        "           │   TextVectorization Layer       │\n",
        "           │  - lowercase                    │\n",
        "           │  - remove punctuation           │\n",
        "           │  - split into words             │\n",
        "           │  - convert words → integers     │\n",
        "           └──────────┬─────────────────────┘\n",
        "                      │\n",
        "                      ▼\n",
        "       Example Output: [42, 178, 901, 57, 0, 0, ...]\n",
        "       (fixed length sequence of numbers)\n",
        "\n",
        "                      │\n",
        "                      ▼\n",
        "           ┌────────────────────────────────┐\n",
        "           │   Embedding Layer               │\n",
        "           │  Each number → vector of floats │\n",
        "           │  (learned meaning of the word)  │\n",
        "           └──────────┬─────────────────────┘\n",
        "                      │\n",
        "                      ▼\n",
        "       Example Output: [[0.2, -0.1, 0.7, ...],\n",
        "                        [-0.3, 0.9, 0.0, ...],\n",
        "                        [0.1, 0.4, -0.2, ...], ...]\n",
        "\n",
        "                      │\n",
        "                      ▼\n",
        "           ┌────────────────────────────────┐\n",
        "           │ GlobalAveragePooling1D          │\n",
        "           │ - Averages all word embeddings  │\n",
        "           │   → creates one vector per SMS  │\n",
        "           └──────────┬─────────────────────┘\n",
        "                      │\n",
        "                      ▼\n",
        "       Example Output: [0.05, 0.22, -0.11, 0.33, ...]\n",
        "\n",
        "                      │\n",
        "                      ▼\n",
        "           ┌────────────────────────────────┐\n",
        "           │ Dense Layer (hidden neurons)    │\n",
        "           │ - Learns patterns in messages   │\n",
        "           └──────────┬─────────────────────┘\n",
        "                      │\n",
        "                      ▼\n",
        "           ┌────────────────────────────────┐\n",
        "           │ Dense Output Layer              │\n",
        "           │ - Single value (logit)          │\n",
        "           │ - Predicts Spam (1) or Ham (0)  │\n",
        "           └────────────────────────────────┘"
      ],
      "metadata": {
        "id": "8FlCdG3yaaFL"
      }
    },
    {
      "cell_type": "markdown",
      "metadata": {
        "id": "SZUQErGewZxE"
      },
      "source": [
        "## **Import Libraries**"
      ]
    },
    {
      "cell_type": "code",
      "source": [
        "import os, io, re, string, shutil\n",
        "import tensorflow as tf\n",
        "from tensorflow.keras import layers\n",
        "import matplotlib.pyplot as plt\n",
        "from sklearn.utils import class_weight\n",
        "import numpy as np"
      ],
      "metadata": {
        "id": "Ql1fcEJ7VVUv"
      },
      "execution_count": 332,
      "outputs": []
    },
    {
      "cell_type": "markdown",
      "metadata": {
        "id": "SBFctV8-JZOc"
      },
      "source": [
        "## **Download and prepare dataset**\n",
        "* We use the SMS Spam Collection Dataset (from UCI).\n",
        "* It has short text messages labeled as:\n",
        "  * ham = not spam\n",
        "  * spam = junk message"
      ]
    },
    {
      "cell_type": "code",
      "source": [
        "url = \"https://archive.ics.uci.edu/ml/machine-learning-databases/00228/smsspamcollection.zip\"\n",
        "path_to_zip = tf.keras.utils.get_file(\"smsspam.zip\", origin=url, extract=True)\n",
        "path_to_zip"
      ],
      "metadata": {
        "colab": {
          "base_uri": "https://localhost:8080/",
          "height": 35
        },
        "id": "1XfaTiBAbX6r",
        "outputId": "8d1caa97-c31c-4f6c-f237-6ae410b7bb0e"
      },
      "execution_count": 333,
      "outputs": [
        {
          "output_type": "execute_result",
          "data": {
            "text/plain": [
              "'/root/.keras/datasets/smsspam_extracted'"
            ],
            "application/vnd.google.colaboratory.intrinsic+json": {
              "type": "string"
            }
          },
          "metadata": {},
          "execution_count": 333
        }
      ]
    },
    {
      "cell_type": "code",
      "source": [
        "data_file = os.path.join(path_to_zip, \"SMSSpamCollection\")\n",
        "data_file"
      ],
      "metadata": {
        "colab": {
          "base_uri": "https://localhost:8080/",
          "height": 35
        },
        "id": "8kCYLrabbuqb",
        "outputId": "4c0f1757-8d1c-496d-ee2c-a303f9c6f465"
      },
      "execution_count": 334,
      "outputs": [
        {
          "output_type": "execute_result",
          "data": {
            "text/plain": [
              "'/root/.keras/datasets/smsspam_extracted/SMSSpamCollection'"
            ],
            "application/vnd.google.colaboratory.intrinsic+json": {
              "type": "string"
            }
          },
          "metadata": {},
          "execution_count": 334
        }
      ]
    },
    {
      "cell_type": "code",
      "source": [
        "base_dir = \"sms_data\"\n",
        "if os.path.exists(base_dir):\n",
        "    shutil.rmtree(base_dir)\n",
        "\n",
        "os.makedirs(base_dir + \"/train/spam\")\n",
        "os.makedirs(base_dir + \"/train/ham\")"
      ],
      "metadata": {
        "id": "gWBot1NFcY_i"
      },
      "execution_count": 335,
      "outputs": []
    },
    {
      "cell_type": "code",
      "source": [
        "# Write SMS messages into txt files (for keras dataset loader)\n",
        "with open(data_file, \"r\", encoding=\"utf-8\") as f:\n",
        "    lines = f.readlines()\n",
        "\n",
        "for i, line in enumerate(lines):\n",
        "    parts = line.strip().split(\"\\t\", 1)\n",
        "    if len(parts) != 2:\n",
        "        continue\n",
        "    label, text = parts\n",
        "    folder = \"spam\" if label == \"spam\" else \"ham\"\n",
        "    with open(f\"{base_dir}/train/{folder}/{i}.txt\", \"w\", encoding=\"utf-8\") as out:\n",
        "        out.write(text)"
      ],
      "metadata": {
        "id": "AD2d5HSzchtv"
      },
      "execution_count": 336,
      "outputs": []
    },
    {
      "cell_type": "code",
      "source": [
        "# CHECK FILE COUNTS\n",
        "print(\"Ham samples:\", len(os.listdir(base_dir + \"/train/ham\")))\n",
        "print(\"Spam samples:\", len(os.listdir(base_dir + \"/train/spam\")))"
      ],
      "metadata": {
        "colab": {
          "base_uri": "https://localhost:8080/"
        },
        "id": "RzkrvETCy2gK",
        "outputId": "fdb8ee37-8c73-43f7-f036-02965a2833c3"
      },
      "execution_count": 337,
      "outputs": [
        {
          "output_type": "stream",
          "name": "stdout",
          "text": [
            "Ham samples: 4827\n",
            "Spam samples: 747\n"
          ]
        }
      ]
    },
    {
      "cell_type": "markdown",
      "metadata": {
        "id": "9O59BdioK8jY"
      },
      "source": [
        "## **Create Training and Validation Sets**\n",
        "* training = 80% of data → for learning.\n",
        "* validation = 20% → for testing performance.\n",
        "* Labels are created automatically from folder names (spam or ham)"
      ]
    },
    {
      "cell_type": "code",
      "metadata": {
        "execution": {
          "iopub.execute_input": "2021-01-13T04:09:27.326807Z",
          "iopub.status.busy": "2021-01-13T04:09:27.326131Z",
          "iopub.status.idle": "2021-01-13T04:09:28.221686Z",
          "shell.execute_reply": "2021-01-13T04:09:28.221008Z"
        },
        "id": "1_Vfi9oWMSh-",
        "colab": {
          "base_uri": "https://localhost:8080/"
        },
        "outputId": "32bda53d-e17a-4b61-9f4a-baa236fdc3c6"
      },
      "source": [
        "batch_size = 512\n",
        "seed = 42\n",
        "\n",
        "train_ds = tf.keras.preprocessing.text_dataset_from_directory(base_dir + \"/train\", batch_size=batch_size, validation_split=0.2,\n",
        "                                                              subset=\"training\", seed=seed)\n",
        "val_ds = tf.keras.preprocessing.text_dataset_from_directory(base_dir + \"/train\", batch_size=batch_size, validation_split=0.2,\n",
        "                                                            subset=\"validation\", seed=seed)"
      ],
      "execution_count": 338,
      "outputs": [
        {
          "output_type": "stream",
          "name": "stdout",
          "text": [
            "Found 5574 files belonging to 2 classes.\n",
            "Using 4460 files for training.\n",
            "Found 5574 files belonging to 2 classes.\n",
            "Using 1114 files for validation.\n"
          ]
        }
      ]
    },
    {
      "cell_type": "code",
      "source": [
        "for text, label in train_ds.take(3):\n",
        "    print(text.numpy()[0][:50], label.numpy())"
      ],
      "metadata": {
        "colab": {
          "base_uri": "https://localhost:8080/"
        },
        "id": "WaTqxVmHs9Ov",
        "outputId": "c125558d-622e-4af4-bf20-0598471b4031"
      },
      "execution_count": 339,
      "outputs": [
        {
          "output_type": "stream",
          "name": "stdout",
          "text": [
            "b'You are guaranteed the latest Nokia Phone, a 40GB ' [1 1 0 0 0 0 0 1 1 0 0 0 1 0 0 0 0 0 0 0 0 0 0 0 0 0 0 0 0 1 0 1 1 1 0 0 0\n",
            " 0 0 1 0 0 0 0 0 0 0 0 1 0 0 0 0 0 0 0 0 0 0 0 0 0 0 1 0 0 0 0 1 0 0 0 0 0\n",
            " 0 0 0 0 0 0 0 0 0 0 0 0 0 0 0 0 0 0 0 0 0 0 0 0 1 0 0 0 1 1 0 0 0 1 0 0 0\n",
            " 1 0 0 0 0 0 0 0 0 0 0 0 0 0 0 0 1 0 0 0 0 0 0 0 0 0 0 0 0 0 0 0 0 0 0 0 0\n",
            " 0 1 1 0 1 0 0 1 1 0 0 0 0 0 0 0 0 0 1 0 0 0 0 1 0 0 0 0 0 0 0 0 0 0 0 0 0\n",
            " 0 1 0 0 1 0 0 0 0 0 0 0 0 0 0 0 0 0 0 0 0 0 0 0 0 0 0 0 0 0 0 0 0 1 0 0 0\n",
            " 1 0 0 1 0 0 0 0 0 0 1 0 0 0 0 1 0 0 1 0 0 0 0 0 0 0 0 1 0 0 0 0 0 0 0 0 0\n",
            " 0 0 0 0 0 0 0 0 0 0 0 0 1 0 0 0 0 0 0 0 0 0 0 0 1 0 1 0 1 0 0 1 0 0 0 0 0\n",
            " 0 0 0 0 0 0 0 1 0 0 0 0 0 0 0 0 0 0 0 0 1 0 0 0 0 0 0 1 0 0 0 0 0 0 0 0 0\n",
            " 0 0 0 0 0 0 0 0 0 0 0 0 0 0 0 1 0 1 0 0 1 0 0 0 0 1 0 0 0 0 1 0 0 0 0 1 0\n",
            " 0 0 0 0 0 0 0 1 0 0 0 0 0 0 0 0 0 0 0 0 0 0 0 0 0 0 0 0 0 0 0 1 0 1 0 0 0\n",
            " 0 0 1 0 0 0 0 0 0 0 0 0 0 0 0 0 1 0 1 0 0 1 0 0 0 0 1 0 0 0 0 0 0 0 0 0 0\n",
            " 0 0 0 0 0 0 0 0 0 0 0 0 0 0 0 0 0 0 0 0 0 0 0 0 0 0 0 1 0 0 0 1 0 1 0 0 0\n",
            " 0 0 0 0 0 0 1 0 0 1 0 0 0 0 0 1 0 0 0 1 0 0 0 0 0 0 0 0 0 1 0]\n",
            "b\"Haha awesome, I've been to 4u a couple times. Who \" [0 0 0 0 1 0 0 0 0 0 0 0 0 0 0 0 0 0 0 0 0 0 0 0 0 0 1 1 0 1 0 0 0 0 0 0 0\n",
            " 0 1 0 1 0 0 0 0 0 0 0 0 1 0 0 0 0 0 0 0 0 0 0 0 1 0 0 0 1 0 0 0 0 0 0 0 0\n",
            " 0 0 0 1 0 0 0 0 0 0 0 0 0 0 0 0 0 0 0 0 0 0 0 0 0 0 0 1 1 0 0 0 1 0 0 0 0\n",
            " 0 0 1 0 0 0 0 0 1 0 0 1 0 0 1 0 0 0 0 0 0 0 0 0 0 0 0 0 0 0 0 0 1 1 0 1 0\n",
            " 0 0 0 1 0 0 0 0 0 0 0 1 0 0 0 0 1 0 0 0 0 0 0 0 0 0 0 0 0 0 0 0 0 0 0 0 0\n",
            " 0 0 0 0 0 0 0 0 0 0 0 0 0 0 0 1 0 0 0 0 0 0 0 0 0 0 0 1 0 0 0 0 1 1 0 1 0\n",
            " 0 0 0 0 0 0 0 0 0 0 0 0 0 0 0 0 0 0 0 0 0 1 0 0 0 0 0 0 0 0 0 0 0 0 0 0 0\n",
            " 0 0 1 0 0 0 0 0 0 0 0 0 0 0 0 0 0 0 0 0 1 0 0 0 0 0 0 0 0 1 0 0 0 0 0 0 0\n",
            " 0 0 0 0 0 0 0 0 0 1 0 0 1 1 0 1 1 0 0 0 0 0 0 0 0 1 0 0 0 0 0 0 0 0 0 0 0\n",
            " 1 0 0 0 1 0 1 0 1 0 0 0 0 1 0 0 0 0 0 0 0 0 0 0 0 0 0 0 0 1 0 0 0 0 0 0 0\n",
            " 0 0 0 0 0 0 0 0 0 0 0 0 0 1 0 1 1 0 0 0 1 0 0 0 0 0 0 0 0 0 0 0 0 0 0 0 0\n",
            " 0 0 0 0 0 0 0 0 0 1 0 0 0 0 1 0 0 0 0 0 0 0 0 0 0 0 0 1 0 0 0 0 0 0 0 0 0\n",
            " 0 1 0 0 0 0 1 0 0 0 0 0 0 0 0 0 0 0 0 0 0 0 0 0 0 0 0 0 0 0 0 1 1 0 1 0 0\n",
            " 0 0 0 0 0 0 0 0 0 0 0 0 1 0 0 0 0 0 0 0 0 0 0 1 0 1 0 0 0 0 1]\n",
            "b'see, i knew giving you a break a few times woul le' [0 0 1 0 0 0 0 0 0 0 0 0 1 0 0 0 0 0 0 0 0 0 0 0 0 0 0 0 0 0 0 0 0 0 0 0 0\n",
            " 0 0 0 0 0 0 0 1 0 0 0 0 1 0 0 1 0 0 0 0 0 0 0 0 0 0 0 1 0 0 0 0 0 0 0 0 1\n",
            " 0 0 0 0 0 0 0 0 0 0 0 0 0 0 0 0 0 1 0 0 0 0 1 0 1 0 0 0 0 0 0 0 0 0 0 0 0\n",
            " 0 0 0 0 1 0 0 1 0 0 1 0 0 0 0 0 0 1 0 0 1 0 0 1 1 0 0 0 0 0 0 0 0 0 0 0 1\n",
            " 1 0 0 0 0 0 0 0 0 0 1 1 0 1 1 0 0 0 0 0 0 0 0 0 0 0 0 0 0 0 1 0 0 1 0 0 0\n",
            " 1 0 0 0 0 0 0 0 0 0 1 0 0 0 0 0 0 0 0 0 0 0 0 0 0 0 0 0 0 0 0 1 0 0 0 0 0\n",
            " 1 0 0 0 0 0 1 0 0 1 0 0 0 0 0 0 0 0 0 0 0 0 0 0 0 0 0 1 0 1 0 0 0 0 0 0 0\n",
            " 1 1 0 0 0 0 0 0 0 0 0 0 0 0 0 0 0 0 0 0 0 0 0 0 0 0 0 0 0 0 1 0 0 0 0 0 0\n",
            " 0 0 0 0 0 0 0 0 0 0 0 0 0 0 0 0 0 0 0 0 0 1 1 0 1 0 1 0 0 0 0 0 0 0 1 0 0\n",
            " 0 0 1 0 0 0 1 0 0 1 0 0 0 0 0 0 1 0 0 0 1 0 0 0 1 0 0 0 0 0 1 0 1 0 0 0 0\n",
            " 0 0 0 1 0 0 0 0 0 0 0 1 0 0 0 1 0 0 0 0 0 0 0 0 0 0 0 0 0 1 0 0 0 0 0 0 0\n",
            " 0 0 0 0 1 0 0 0 0 0 0 0 0 0 0 0 0 0 0 0 0 0 0 0 1 0 0 0 0 0 1 0 1 0 0 0 0\n",
            " 0 0 0 0 0 0 0 0 0 0 0 0 0 0 0 0 0 0 0 0 1 0 0 0 0 0 0 0 1 0 0 0 0 0 1 1 0\n",
            " 0 0 1 1 0 0 0 0 0 1 0 0 1 1 0 0 0 0 1 0 0 0 0 1 0 0 0 0 0 0 1]\n"
          ]
        }
      ]
    },
    {
      "cell_type": "markdown",
      "metadata": {
        "id": "FHV2pchDhzDn"
      },
      "source": [
        "## **Cache for speed**"
      ]
    },
    {
      "cell_type": "code",
      "metadata": {
        "execution": {
          "iopub.execute_input": "2021-01-13T04:09:32.284161Z",
          "iopub.status.busy": "2021-01-13T04:09:32.283401Z",
          "iopub.status.idle": "2021-01-13T04:09:32.286803Z",
          "shell.execute_reply": "2021-01-13T04:09:32.287252Z"
        },
        "id": "Oz6k1IW7h1TO",
        "colab": {
          "base_uri": "https://localhost:8080/"
        },
        "outputId": "0bbe53e5-152e-4015-e42a-33d2f1d0f33d"
      },
      "source": [
        "# This makes reading and training faster (important for large data).\n",
        "AUTOTUNE = tf.data.AUTOTUNE\n",
        "train_ds = train_ds.cache().prefetch(buffer_size=AUTOTUNE)\n",
        "val_ds = val_ds.cache().prefetch(buffer_size=AUTOTUNE)\n",
        "AUTOTUNE"
      ],
      "execution_count": 340,
      "outputs": [
        {
          "output_type": "execute_result",
          "data": {
            "text/plain": [
              "-1"
            ]
          },
          "metadata": {},
          "execution_count": 340
        }
      ]
    },
    {
      "cell_type": "markdown",
      "metadata": {
        "id": "eqBazMiVQkj1"
      },
      "source": [
        "## **Text preprocessing**\n"
      ]
    },
    {
      "cell_type": "code",
      "metadata": {
        "execution": {
          "iopub.execute_input": "2021-01-13T04:09:32.291492Z",
          "iopub.status.busy": "2021-01-13T04:09:32.290814Z",
          "iopub.status.idle": "2021-01-13T04:09:32.301978Z",
          "shell.execute_reply": "2021-01-13T04:09:32.301448Z"
        },
        "id": "-OjxLVrMvWUE"
      },
      "source": [
        "def custom_standardization(input_text):\n",
        "    lowercase = tf.strings.lower(input_text)\n",
        "    stripped_html = tf.strings.regex_replace(lowercase, \"<br />\", \" \")\n",
        "    cleaned = tf.strings.regex_replace(stripped_html, '[%s]' % re.escape(string.punctuation), '')\n",
        "    return cleaned"
      ],
      "execution_count": 341,
      "outputs": []
    },
    {
      "cell_type": "code",
      "source": [
        "# vectorize (convert words to numbers)\n",
        "vocab_size, sequence_length = 10000, 100\n",
        "vectorize_layer = layers.TextVectorization(standardize=custom_standardization, max_tokens=vocab_size,\n",
        "                                           output_mode=\"int\", output_sequence_length=sequence_length)"
      ],
      "metadata": {
        "id": "1e3V1KNZYqwx"
      },
      "execution_count": 342,
      "outputs": []
    },
    {
      "cell_type": "markdown",
      "metadata": {
        "id": "WGQp2N92yOyB"
      },
      "source": [
        "*   Keeps the 10,000 most common words.\n",
        "*   Pads/cuts messages to length 100 words"
      ]
    },
    {
      "cell_type": "code",
      "source": [
        "# Adapt on training dataset\n",
        "text_ds = train_ds.map(lambda x, y: x)\n",
        "vectorize_layer.adapt(text_ds)"
      ],
      "metadata": {
        "id": "al4dLzYOok7u"
      },
      "execution_count": 343,
      "outputs": []
    },
    {
      "cell_type": "markdown",
      "metadata": {
        "id": "aGicgV5qT0wh"
      },
      "source": [
        "## **Build the Model**\n",
        "Think of it like this:\n",
        "\n",
        "Text  →  Vectorize  →  Embedding  →  Pooling  →  Dense Layers  →  Output"
      ]
    },
    {
      "cell_type": "code",
      "metadata": {
        "execution": {
          "iopub.execute_input": "2021-01-13T04:09:32.345692Z",
          "iopub.status.busy": "2021-01-13T04:09:32.342229Z",
          "iopub.status.idle": "2021-01-13T04:09:35.492916Z",
          "shell.execute_reply": "2021-01-13T04:09:35.493403Z"
        },
        "id": "2MlsXzo-ZlfK",
        "colab": {
          "base_uri": "https://localhost:8080/",
          "height": 323
        },
        "outputId": "225298ca-05df-4465-8760-7dea7736d702"
      },
      "source": [
        "embedding_dim = 64\n",
        "model = tf.keras.Sequential([vectorize_layer,   # Step 1: text → numbers\n",
        "                             layers.Embedding(vocab_size, embedding_dim),  # Step 2: numbers → embeddings\n",
        "                             # layers.GlobalAveragePooling1D(),  # Step 3: average embeddings\n",
        "                             layers.Bidirectional(layers.LSTM(64)),\n",
        "                             layers.Dense(64, activation=\"relu\"),  # Step 4: hidden layer\n",
        "                             layers.Dense(1, activation=\"sigmoid\")  # Step 5: output (spam or ham)\n",
        "                             ])\n",
        "\n",
        "model.build(input_shape=(None,))\n",
        "model.summary()"
      ],
      "execution_count": 344,
      "outputs": [
        {
          "output_type": "display_data",
          "data": {
            "text/plain": [
              "\u001b[1mModel: \"sequential_17\"\u001b[0m\n"
            ],
            "text/html": [
              "<pre style=\"white-space:pre;overflow-x:auto;line-height:normal;font-family:Menlo,'DejaVu Sans Mono',consolas,'Courier New',monospace\"><span style=\"font-weight: bold\">Model: \"sequential_17\"</span>\n",
              "</pre>\n"
            ]
          },
          "metadata": {}
        },
        {
          "output_type": "display_data",
          "data": {
            "text/plain": [
              "┏━━━━━━━━━━━━━━━━━━━━━━━━━━━━━━━━━┳━━━━━━━━━━━━━━━━━━━━━━━━┳━━━━━━━━━━━━━━━┓\n",
              "┃\u001b[1m \u001b[0m\u001b[1mLayer (type)                   \u001b[0m\u001b[1m \u001b[0m┃\u001b[1m \u001b[0m\u001b[1mOutput Shape          \u001b[0m\u001b[1m \u001b[0m┃\u001b[1m \u001b[0m\u001b[1m      Param #\u001b[0m\u001b[1m \u001b[0m┃\n",
              "┡━━━━━━━━━━━━━━━━━━━━━━━━━━━━━━━━━╇━━━━━━━━━━━━━━━━━━━━━━━━╇━━━━━━━━━━━━━━━┩\n",
              "│ text_vectorization_17           │ (\u001b[38;5;45mNone\u001b[0m, \u001b[38;5;34m100\u001b[0m)            │             \u001b[38;5;34m0\u001b[0m │\n",
              "│ (\u001b[38;5;33mTextVectorization\u001b[0m)             │                        │               │\n",
              "├─────────────────────────────────┼────────────────────────┼───────────────┤\n",
              "│ embedding_17 (\u001b[38;5;33mEmbedding\u001b[0m)        │ (\u001b[38;5;45mNone\u001b[0m, \u001b[38;5;34m100\u001b[0m, \u001b[38;5;34m64\u001b[0m)        │       \u001b[38;5;34m640,000\u001b[0m │\n",
              "├─────────────────────────────────┼────────────────────────┼───────────────┤\n",
              "│ bidirectional (\u001b[38;5;33mBidirectional\u001b[0m)   │ (\u001b[38;5;45mNone\u001b[0m, \u001b[38;5;34m128\u001b[0m)            │        \u001b[38;5;34m66,048\u001b[0m │\n",
              "├─────────────────────────────────┼────────────────────────┼───────────────┤\n",
              "│ dense_34 (\u001b[38;5;33mDense\u001b[0m)                │ (\u001b[38;5;45mNone\u001b[0m, \u001b[38;5;34m64\u001b[0m)             │         \u001b[38;5;34m8,256\u001b[0m │\n",
              "├─────────────────────────────────┼────────────────────────┼───────────────┤\n",
              "│ dense_35 (\u001b[38;5;33mDense\u001b[0m)                │ (\u001b[38;5;45mNone\u001b[0m, \u001b[38;5;34m1\u001b[0m)              │            \u001b[38;5;34m65\u001b[0m │\n",
              "└─────────────────────────────────┴────────────────────────┴───────────────┘\n"
            ],
            "text/html": [
              "<pre style=\"white-space:pre;overflow-x:auto;line-height:normal;font-family:Menlo,'DejaVu Sans Mono',consolas,'Courier New',monospace\">┏━━━━━━━━━━━━━━━━━━━━━━━━━━━━━━━━━┳━━━━━━━━━━━━━━━━━━━━━━━━┳━━━━━━━━━━━━━━━┓\n",
              "┃<span style=\"font-weight: bold\"> Layer (type)                    </span>┃<span style=\"font-weight: bold\"> Output Shape           </span>┃<span style=\"font-weight: bold\">       Param # </span>┃\n",
              "┡━━━━━━━━━━━━━━━━━━━━━━━━━━━━━━━━━╇━━━━━━━━━━━━━━━━━━━━━━━━╇━━━━━━━━━━━━━━━┩\n",
              "│ text_vectorization_17           │ (<span style=\"color: #00d7ff; text-decoration-color: #00d7ff\">None</span>, <span style=\"color: #00af00; text-decoration-color: #00af00\">100</span>)            │             <span style=\"color: #00af00; text-decoration-color: #00af00\">0</span> │\n",
              "│ (<span style=\"color: #0087ff; text-decoration-color: #0087ff\">TextVectorization</span>)             │                        │               │\n",
              "├─────────────────────────────────┼────────────────────────┼───────────────┤\n",
              "│ embedding_17 (<span style=\"color: #0087ff; text-decoration-color: #0087ff\">Embedding</span>)        │ (<span style=\"color: #00d7ff; text-decoration-color: #00d7ff\">None</span>, <span style=\"color: #00af00; text-decoration-color: #00af00\">100</span>, <span style=\"color: #00af00; text-decoration-color: #00af00\">64</span>)        │       <span style=\"color: #00af00; text-decoration-color: #00af00\">640,000</span> │\n",
              "├─────────────────────────────────┼────────────────────────┼───────────────┤\n",
              "│ bidirectional (<span style=\"color: #0087ff; text-decoration-color: #0087ff\">Bidirectional</span>)   │ (<span style=\"color: #00d7ff; text-decoration-color: #00d7ff\">None</span>, <span style=\"color: #00af00; text-decoration-color: #00af00\">128</span>)            │        <span style=\"color: #00af00; text-decoration-color: #00af00\">66,048</span> │\n",
              "├─────────────────────────────────┼────────────────────────┼───────────────┤\n",
              "│ dense_34 (<span style=\"color: #0087ff; text-decoration-color: #0087ff\">Dense</span>)                │ (<span style=\"color: #00d7ff; text-decoration-color: #00d7ff\">None</span>, <span style=\"color: #00af00; text-decoration-color: #00af00\">64</span>)             │         <span style=\"color: #00af00; text-decoration-color: #00af00\">8,256</span> │\n",
              "├─────────────────────────────────┼────────────────────────┼───────────────┤\n",
              "│ dense_35 (<span style=\"color: #0087ff; text-decoration-color: #0087ff\">Dense</span>)                │ (<span style=\"color: #00d7ff; text-decoration-color: #00d7ff\">None</span>, <span style=\"color: #00af00; text-decoration-color: #00af00\">1</span>)              │            <span style=\"color: #00af00; text-decoration-color: #00af00\">65</span> │\n",
              "└─────────────────────────────────┴────────────────────────┴───────────────┘\n",
              "</pre>\n"
            ]
          },
          "metadata": {}
        },
        {
          "output_type": "display_data",
          "data": {
            "text/plain": [
              "\u001b[1m Total params: \u001b[0m\u001b[38;5;34m714,369\u001b[0m (2.73 MB)\n"
            ],
            "text/html": [
              "<pre style=\"white-space:pre;overflow-x:auto;line-height:normal;font-family:Menlo,'DejaVu Sans Mono',consolas,'Courier New',monospace\"><span style=\"font-weight: bold\"> Total params: </span><span style=\"color: #00af00; text-decoration-color: #00af00\">714,369</span> (2.73 MB)\n",
              "</pre>\n"
            ]
          },
          "metadata": {}
        },
        {
          "output_type": "display_data",
          "data": {
            "text/plain": [
              "\u001b[1m Trainable params: \u001b[0m\u001b[38;5;34m714,369\u001b[0m (2.73 MB)\n"
            ],
            "text/html": [
              "<pre style=\"white-space:pre;overflow-x:auto;line-height:normal;font-family:Menlo,'DejaVu Sans Mono',consolas,'Courier New',monospace\"><span style=\"font-weight: bold\"> Trainable params: </span><span style=\"color: #00af00; text-decoration-color: #00af00\">714,369</span> (2.73 MB)\n",
              "</pre>\n"
            ]
          },
          "metadata": {}
        },
        {
          "output_type": "display_data",
          "data": {
            "text/plain": [
              "\u001b[1m Non-trainable params: \u001b[0m\u001b[38;5;34m0\u001b[0m (0.00 B)\n"
            ],
            "text/html": [
              "<pre style=\"white-space:pre;overflow-x:auto;line-height:normal;font-family:Menlo,'DejaVu Sans Mono',consolas,'Courier New',monospace\"><span style=\"font-weight: bold\"> Non-trainable params: </span><span style=\"color: #00af00; text-decoration-color: #00af00\">0</span> (0.00 B)\n",
              "</pre>\n"
            ]
          },
          "metadata": {}
        }
      ]
    },
    {
      "cell_type": "code",
      "metadata": {
        "execution": {
          "iopub.execute_input": "2021-01-13T04:09:35.520770Z",
          "iopub.status.busy": "2021-01-13T04:09:35.520091Z",
          "iopub.status.idle": "2021-01-13T04:09:35.522572Z",
          "shell.execute_reply": "2021-01-13T04:09:35.521972Z"
        },
        "id": "W4Hg3IHFt4Px"
      },
      "source": [
        "optimizer = tf.keras.optimizers.Adam(learning_rate=1e-3, clipnorm=1.0)\n",
        "#optimizer = tf.keras.optimizers.RMSprop(learning_rate=1e-5, clipvalue=1.0)\n",
        "model.compile(loss=tf.keras.losses.BinaryCrossentropy(from_logits=False),\n",
        "              optimizer=optimizer,metrics=[\"accuracy\"])"
      ],
      "execution_count": 345,
      "outputs": []
    },
    {
      "cell_type": "markdown",
      "metadata": {
        "id": "zI9_wLIiWO8Z"
      },
      "source": [
        "## **Train the Model**"
      ]
    },
    {
      "cell_type": "code",
      "source": [
        "# Extract labels from the dataset\n",
        "all_labels = []\n",
        "for _, labels in train_ds.unbatch():\n",
        "    all_labels.append(labels.numpy())\n",
        "all_labels = np.array(all_labels)\n",
        "\n",
        "class_weights = class_weight.compute_class_weight(class_weight='balanced', classes=np.unique(all_labels), y=all_labels)\n",
        "class_weights = dict(enumerate(class_weights))\n",
        "print(\"Class Weights:\", class_weights)"
      ],
      "metadata": {
        "colab": {
          "base_uri": "https://localhost:8080/"
        },
        "id": "tWdRlDbE4uX2",
        "outputId": "26f5bc54-b975-4355-8478-760aa540a9f2"
      },
      "execution_count": 346,
      "outputs": [
        {
          "output_type": "stream",
          "name": "stdout",
          "text": [
            "Class Weights: {0: np.float64(0.5753353973168215), 1: np.float64(3.8184931506849313)}\n"
          ]
        }
      ]
    },
    {
      "cell_type": "code",
      "source": [
        "callbacks = [tf.keras.callbacks.TensorBoard(log_dir=\"logs\")]\n",
        "history = model.fit(train_ds, validation_data=val_ds, epochs=150, class_weight=class_weights, callbacks=callbacks)"
      ],
      "metadata": {
        "colab": {
          "base_uri": "https://localhost:8080/"
        },
        "id": "euMBaPKN4mPj",
        "outputId": "28528ae0-d408-4911-e1f9-a8a75f071b26"
      },
      "execution_count": 347,
      "outputs": [
        {
          "output_type": "stream",
          "name": "stdout",
          "text": [
            "Epoch 1/150\n",
            "\u001b[1m9/9\u001b[0m \u001b[32m━━━━━━━━━━━━━━━━━━━━\u001b[0m\u001b[37m\u001b[0m \u001b[1m4s\u001b[0m 139ms/step - accuracy: 0.8678 - loss: 0.6698 - val_accuracy: 0.8851 - val_loss: 0.6102\n",
            "Epoch 2/150\n",
            "\u001b[1m9/9\u001b[0m \u001b[32m━━━━━━━━━━━━━━━━━━━━\u001b[0m\u001b[37m\u001b[0m \u001b[1m2s\u001b[0m 44ms/step - accuracy: 0.9036 - loss: 0.5521 - val_accuracy: 0.8052 - val_loss: 0.3815\n",
            "Epoch 3/150\n",
            "\u001b[1m9/9\u001b[0m \u001b[32m━━━━━━━━━━━━━━━━━━━━\u001b[0m\u001b[37m\u001b[0m \u001b[1m0s\u001b[0m 34ms/step - accuracy: 0.8461 - loss: 0.3251 - val_accuracy: 0.9390 - val_loss: 0.1622\n",
            "Epoch 4/150\n",
            "\u001b[1m9/9\u001b[0m \u001b[32m━━━━━━━━━━━━━━━━━━━━\u001b[0m\u001b[37m\u001b[0m \u001b[1m0s\u001b[0m 29ms/step - accuracy: 0.9570 - loss: 0.1700 - val_accuracy: 0.9803 - val_loss: 0.0881\n",
            "Epoch 5/150\n",
            "\u001b[1m9/9\u001b[0m \u001b[32m━━━━━━━━━━━━━━━━━━━━\u001b[0m\u001b[37m\u001b[0m \u001b[1m0s\u001b[0m 33ms/step - accuracy: 0.9864 - loss: 0.0863 - val_accuracy: 0.9838 - val_loss: 0.0628\n",
            "Epoch 6/150\n",
            "\u001b[1m9/9\u001b[0m \u001b[32m━━━━━━━━━━━━━━━━━━━━\u001b[0m\u001b[37m\u001b[0m \u001b[1m1s\u001b[0m 29ms/step - accuracy: 0.9917 - loss: 0.0580 - val_accuracy: 0.9677 - val_loss: 0.0889\n",
            "Epoch 7/150\n",
            "\u001b[1m9/9\u001b[0m \u001b[32m━━━━━━━━━━━━━━━━━━━━\u001b[0m\u001b[37m\u001b[0m \u001b[1m0s\u001b[0m 33ms/step - accuracy: 0.9949 - loss: 0.0419 - val_accuracy: 0.9605 - val_loss: 0.1046\n",
            "Epoch 8/150\n",
            "\u001b[1m9/9\u001b[0m \u001b[32m━━━━━━━━━━━━━━━━━━━━\u001b[0m\u001b[37m\u001b[0m \u001b[1m0s\u001b[0m 30ms/step - accuracy: 0.9906 - loss: 0.0294 - val_accuracy: 0.9838 - val_loss: 0.0665\n",
            "Epoch 9/150\n",
            "\u001b[1m9/9\u001b[0m \u001b[32m━━━━━━━━━━━━━━━━━━━━\u001b[0m\u001b[37m\u001b[0m \u001b[1m0s\u001b[0m 29ms/step - accuracy: 0.9980 - loss: 0.0170 - val_accuracy: 0.9740 - val_loss: 0.0938\n",
            "Epoch 10/150\n",
            "\u001b[1m9/9\u001b[0m \u001b[32m━━━━━━━━━━━━━━━━━━━━\u001b[0m\u001b[37m\u001b[0m \u001b[1m0s\u001b[0m 33ms/step - accuracy: 0.9955 - loss: 0.0131 - val_accuracy: 0.9847 - val_loss: 0.0717\n",
            "Epoch 11/150\n",
            "\u001b[1m9/9\u001b[0m \u001b[32m━━━━━━━━━━━━━━━━━━━━\u001b[0m\u001b[37m\u001b[0m \u001b[1m0s\u001b[0m 33ms/step - accuracy: 0.9988 - loss: 0.0097 - val_accuracy: 0.9811 - val_loss: 0.0801\n",
            "Epoch 12/150\n",
            "\u001b[1m9/9\u001b[0m \u001b[32m━━━━━━━━━━━━━━━━━━━━\u001b[0m\u001b[37m\u001b[0m \u001b[1m0s\u001b[0m 29ms/step - accuracy: 0.9992 - loss: 0.0056 - val_accuracy: 0.9820 - val_loss: 0.0848\n",
            "Epoch 13/150\n",
            "\u001b[1m9/9\u001b[0m \u001b[32m━━━━━━━━━━━━━━━━━━━━\u001b[0m\u001b[37m\u001b[0m \u001b[1m0s\u001b[0m 32ms/step - accuracy: 0.9991 - loss: 0.0043 - val_accuracy: 0.9838 - val_loss: 0.0874\n",
            "Epoch 14/150\n",
            "\u001b[1m9/9\u001b[0m \u001b[32m━━━━━━━━━━━━━━━━━━━━\u001b[0m\u001b[37m\u001b[0m \u001b[1m0s\u001b[0m 29ms/step - accuracy: 0.9996 - loss: 0.0033 - val_accuracy: 0.9820 - val_loss: 0.0908\n",
            "Epoch 15/150\n",
            "\u001b[1m9/9\u001b[0m \u001b[32m━━━━━━━━━━━━━━━━━━━━\u001b[0m\u001b[37m\u001b[0m \u001b[1m0s\u001b[0m 30ms/step - accuracy: 0.9996 - loss: 0.0027 - val_accuracy: 0.9838 - val_loss: 0.0912\n",
            "Epoch 16/150\n",
            "\u001b[1m9/9\u001b[0m \u001b[32m━━━━━━━━━━━━━━━━━━━━\u001b[0m\u001b[37m\u001b[0m \u001b[1m0s\u001b[0m 28ms/step - accuracy: 0.9996 - loss: 0.0023 - val_accuracy: 0.9829 - val_loss: 0.0940\n",
            "Epoch 17/150\n",
            "\u001b[1m9/9\u001b[0m \u001b[32m━━━━━━━━━━━━━━━━━━━━\u001b[0m\u001b[37m\u001b[0m \u001b[1m0s\u001b[0m 32ms/step - accuracy: 0.9996 - loss: 0.0019 - val_accuracy: 0.9838 - val_loss: 0.0955\n",
            "Epoch 18/150\n",
            "\u001b[1m9/9\u001b[0m \u001b[32m━━━━━━━━━━━━━━━━━━━━\u001b[0m\u001b[37m\u001b[0m \u001b[1m0s\u001b[0m 32ms/step - accuracy: 1.0000 - loss: 0.0016 - val_accuracy: 0.9838 - val_loss: 0.0972\n",
            "Epoch 19/150\n",
            "\u001b[1m9/9\u001b[0m \u001b[32m━━━━━━━━━━━━━━━━━━━━\u001b[0m\u001b[37m\u001b[0m \u001b[1m0s\u001b[0m 34ms/step - accuracy: 1.0000 - loss: 0.0014 - val_accuracy: 0.9820 - val_loss: 0.0988\n",
            "Epoch 20/150\n",
            "\u001b[1m9/9\u001b[0m \u001b[32m━━━━━━━━━━━━━━━━━━━━\u001b[0m\u001b[37m\u001b[0m \u001b[1m0s\u001b[0m 29ms/step - accuracy: 1.0000 - loss: 0.0012 - val_accuracy: 0.9820 - val_loss: 0.1001\n",
            "Epoch 21/150\n",
            "\u001b[1m9/9\u001b[0m \u001b[32m━━━━━━━━━━━━━━━━━━━━\u001b[0m\u001b[37m\u001b[0m \u001b[1m0s\u001b[0m 29ms/step - accuracy: 1.0000 - loss: 0.0010 - val_accuracy: 0.9820 - val_loss: 0.1015\n",
            "Epoch 22/150\n",
            "\u001b[1m9/9\u001b[0m \u001b[32m━━━━━━━━━━━━━━━━━━━━\u001b[0m\u001b[37m\u001b[0m \u001b[1m0s\u001b[0m 29ms/step - accuracy: 1.0000 - loss: 9.0859e-04 - val_accuracy: 0.9820 - val_loss: 0.1028\n",
            "Epoch 23/150\n",
            "\u001b[1m9/9\u001b[0m \u001b[32m━━━━━━━━━━━━━━━━━━━━\u001b[0m\u001b[37m\u001b[0m \u001b[1m0s\u001b[0m 32ms/step - accuracy: 1.0000 - loss: 8.0576e-04 - val_accuracy: 0.9829 - val_loss: 0.1039\n",
            "Epoch 24/150\n",
            "\u001b[1m9/9\u001b[0m \u001b[32m━━━━━━━━━━━━━━━━━━━━\u001b[0m\u001b[37m\u001b[0m \u001b[1m0s\u001b[0m 29ms/step - accuracy: 1.0000 - loss: 7.1881e-04 - val_accuracy: 0.9829 - val_loss: 0.1051\n",
            "Epoch 25/150\n",
            "\u001b[1m9/9\u001b[0m \u001b[32m━━━━━━━━━━━━━━━━━━━━\u001b[0m\u001b[37m\u001b[0m \u001b[1m0s\u001b[0m 29ms/step - accuracy: 1.0000 - loss: 6.4489e-04 - val_accuracy: 0.9829 - val_loss: 0.1061\n",
            "Epoch 26/150\n",
            "\u001b[1m9/9\u001b[0m \u001b[32m━━━━━━━━━━━━━━━━━━━━\u001b[0m\u001b[37m\u001b[0m \u001b[1m0s\u001b[0m 30ms/step - accuracy: 1.0000 - loss: 5.8212e-04 - val_accuracy: 0.9829 - val_loss: 0.1072\n",
            "Epoch 27/150\n",
            "\u001b[1m9/9\u001b[0m \u001b[32m━━━━━━━━━━━━━━━━━━━━\u001b[0m\u001b[37m\u001b[0m \u001b[1m0s\u001b[0m 32ms/step - accuracy: 1.0000 - loss: 5.2804e-04 - val_accuracy: 0.9829 - val_loss: 0.1081\n",
            "Epoch 28/150\n",
            "\u001b[1m9/9\u001b[0m \u001b[32m━━━━━━━━━━━━━━━━━━━━\u001b[0m\u001b[37m\u001b[0m \u001b[1m0s\u001b[0m 32ms/step - accuracy: 1.0000 - loss: 4.8116e-04 - val_accuracy: 0.9829 - val_loss: 0.1091\n",
            "Epoch 29/150\n",
            "\u001b[1m9/9\u001b[0m \u001b[32m━━━━━━━━━━━━━━━━━━━━\u001b[0m\u001b[37m\u001b[0m \u001b[1m0s\u001b[0m 28ms/step - accuracy: 1.0000 - loss: 4.4034e-04 - val_accuracy: 0.9829 - val_loss: 0.1099\n",
            "Epoch 30/150\n",
            "\u001b[1m9/9\u001b[0m \u001b[32m━━━━━━━━━━━━━━━━━━━━\u001b[0m\u001b[37m\u001b[0m \u001b[1m0s\u001b[0m 30ms/step - accuracy: 1.0000 - loss: 4.0452e-04 - val_accuracy: 0.9829 - val_loss: 0.1108\n",
            "Epoch 31/150\n",
            "\u001b[1m9/9\u001b[0m \u001b[32m━━━━━━━━━━━━━━━━━━━━\u001b[0m\u001b[37m\u001b[0m \u001b[1m0s\u001b[0m 29ms/step - accuracy: 1.0000 - loss: 3.7289e-04 - val_accuracy: 0.9829 - val_loss: 0.1116\n",
            "Epoch 32/150\n",
            "\u001b[1m9/9\u001b[0m \u001b[32m━━━━━━━━━━━━━━━━━━━━\u001b[0m\u001b[37m\u001b[0m \u001b[1m0s\u001b[0m 34ms/step - accuracy: 1.0000 - loss: 3.4485e-04 - val_accuracy: 0.9829 - val_loss: 0.1123\n",
            "Epoch 33/150\n",
            "\u001b[1m9/9\u001b[0m \u001b[32m━━━━━━━━━━━━━━━━━━━━\u001b[0m\u001b[37m\u001b[0m \u001b[1m0s\u001b[0m 33ms/step - accuracy: 1.0000 - loss: 3.1986e-04 - val_accuracy: 0.9829 - val_loss: 0.1131\n",
            "Epoch 34/150\n",
            "\u001b[1m9/9\u001b[0m \u001b[32m━━━━━━━━━━━━━━━━━━━━\u001b[0m\u001b[37m\u001b[0m \u001b[1m1s\u001b[0m 37ms/step - accuracy: 1.0000 - loss: 2.9747e-04 - val_accuracy: 0.9829 - val_loss: 0.1138\n",
            "Epoch 35/150\n",
            "\u001b[1m9/9\u001b[0m \u001b[32m━━━━━━━━━━━━━━━━━━━━\u001b[0m\u001b[37m\u001b[0m \u001b[1m1s\u001b[0m 36ms/step - accuracy: 1.0000 - loss: 2.7733e-04 - val_accuracy: 0.9829 - val_loss: 0.1144\n",
            "Epoch 36/150\n",
            "\u001b[1m9/9\u001b[0m \u001b[32m━━━━━━━━━━━━━━━━━━━━\u001b[0m\u001b[37m\u001b[0m \u001b[1m1s\u001b[0m 29ms/step - accuracy: 1.0000 - loss: 2.5914e-04 - val_accuracy: 0.9829 - val_loss: 0.1151\n",
            "Epoch 37/150\n",
            "\u001b[1m9/9\u001b[0m \u001b[32m━━━━━━━━━━━━━━━━━━━━\u001b[0m\u001b[37m\u001b[0m \u001b[1m0s\u001b[0m 29ms/step - accuracy: 1.0000 - loss: 2.4266e-04 - val_accuracy: 0.9829 - val_loss: 0.1157\n",
            "Epoch 38/150\n",
            "\u001b[1m9/9\u001b[0m \u001b[32m━━━━━━━━━━━━━━━━━━━━\u001b[0m\u001b[37m\u001b[0m \u001b[1m0s\u001b[0m 29ms/step - accuracy: 1.0000 - loss: 2.2767e-04 - val_accuracy: 0.9829 - val_loss: 0.1163\n",
            "Epoch 39/150\n",
            "\u001b[1m9/9\u001b[0m \u001b[32m━━━━━━━━━━━━━━━━━━━━\u001b[0m\u001b[37m\u001b[0m \u001b[1m0s\u001b[0m 29ms/step - accuracy: 1.0000 - loss: 2.1399e-04 - val_accuracy: 0.9829 - val_loss: 0.1169\n",
            "Epoch 40/150\n",
            "\u001b[1m9/9\u001b[0m \u001b[32m━━━━━━━━━━━━━━━━━━━━\u001b[0m\u001b[37m\u001b[0m \u001b[1m0s\u001b[0m 33ms/step - accuracy: 1.0000 - loss: 2.0149e-04 - val_accuracy: 0.9829 - val_loss: 0.1174\n",
            "Epoch 41/150\n",
            "\u001b[1m9/9\u001b[0m \u001b[32m━━━━━━━━━━━━━━━━━━━━\u001b[0m\u001b[37m\u001b[0m \u001b[1m0s\u001b[0m 30ms/step - accuracy: 1.0000 - loss: 1.9001e-04 - val_accuracy: 0.9829 - val_loss: 0.1180\n",
            "Epoch 42/150\n",
            "\u001b[1m9/9\u001b[0m \u001b[32m━━━━━━━━━━━━━━━━━━━━\u001b[0m\u001b[37m\u001b[0m \u001b[1m0s\u001b[0m 30ms/step - accuracy: 1.0000 - loss: 1.7946e-04 - val_accuracy: 0.9829 - val_loss: 0.1185\n",
            "Epoch 43/150\n",
            "\u001b[1m9/9\u001b[0m \u001b[32m━━━━━━━━━━━━━━━━━━━━\u001b[0m\u001b[37m\u001b[0m \u001b[1m0s\u001b[0m 29ms/step - accuracy: 1.0000 - loss: 1.6973e-04 - val_accuracy: 0.9829 - val_loss: 0.1190\n",
            "Epoch 44/150\n",
            "\u001b[1m9/9\u001b[0m \u001b[32m━━━━━━━━━━━━━━━━━━━━\u001b[0m\u001b[37m\u001b[0m \u001b[1m0s\u001b[0m 30ms/step - accuracy: 1.0000 - loss: 1.6075e-04 - val_accuracy: 0.9829 - val_loss: 0.1195\n",
            "Epoch 45/150\n",
            "\u001b[1m9/9\u001b[0m \u001b[32m━━━━━━━━━━━━━━━━━━━━\u001b[0m\u001b[37m\u001b[0m \u001b[1m0s\u001b[0m 29ms/step - accuracy: 1.0000 - loss: 1.5243e-04 - val_accuracy: 0.9829 - val_loss: 0.1199\n",
            "Epoch 46/150\n",
            "\u001b[1m9/9\u001b[0m \u001b[32m━━━━━━━━━━━━━━━━━━━━\u001b[0m\u001b[37m\u001b[0m \u001b[1m0s\u001b[0m 29ms/step - accuracy: 1.0000 - loss: 1.4472e-04 - val_accuracy: 0.9829 - val_loss: 0.1204\n",
            "Epoch 47/150\n",
            "\u001b[1m9/9\u001b[0m \u001b[32m━━━━━━━━━━━━━━━━━━━━\u001b[0m\u001b[37m\u001b[0m \u001b[1m0s\u001b[0m 29ms/step - accuracy: 1.0000 - loss: 1.3755e-04 - val_accuracy: 0.9829 - val_loss: 0.1209\n",
            "Epoch 48/150\n",
            "\u001b[1m9/9\u001b[0m \u001b[32m━━━━━━━━━━━━━━━━━━━━\u001b[0m\u001b[37m\u001b[0m \u001b[1m0s\u001b[0m 30ms/step - accuracy: 1.0000 - loss: 1.3089e-04 - val_accuracy: 0.9829 - val_loss: 0.1213\n",
            "Epoch 49/150\n",
            "\u001b[1m9/9\u001b[0m \u001b[32m━━━━━━━━━━━━━━━━━━━━\u001b[0m\u001b[37m\u001b[0m \u001b[1m0s\u001b[0m 29ms/step - accuracy: 1.0000 - loss: 1.2468e-04 - val_accuracy: 0.9829 - val_loss: 0.1218\n",
            "Epoch 50/150\n",
            "\u001b[1m9/9\u001b[0m \u001b[32m━━━━━━━━━━━━━━━━━━━━\u001b[0m\u001b[37m\u001b[0m \u001b[1m0s\u001b[0m 28ms/step - accuracy: 1.0000 - loss: 1.1888e-04 - val_accuracy: 0.9847 - val_loss: 0.1222\n",
            "Epoch 51/150\n",
            "\u001b[1m9/9\u001b[0m \u001b[32m━━━━━━━━━━━━━━━━━━━━\u001b[0m\u001b[37m\u001b[0m \u001b[1m0s\u001b[0m 29ms/step - accuracy: 1.0000 - loss: 1.1346e-04 - val_accuracy: 0.9847 - val_loss: 0.1227\n",
            "Epoch 52/150\n",
            "\u001b[1m9/9\u001b[0m \u001b[32m━━━━━━━━━━━━━━━━━━━━\u001b[0m\u001b[37m\u001b[0m \u001b[1m0s\u001b[0m 31ms/step - accuracy: 1.0000 - loss: 1.0838e-04 - val_accuracy: 0.9847 - val_loss: 0.1232\n",
            "Epoch 53/150\n",
            "\u001b[1m9/9\u001b[0m \u001b[32m━━━━━━━━━━━━━━━━━━━━\u001b[0m\u001b[37m\u001b[0m \u001b[1m0s\u001b[0m 32ms/step - accuracy: 1.0000 - loss: 1.0362e-04 - val_accuracy: 0.9847 - val_loss: 0.1236\n",
            "Epoch 54/150\n",
            "\u001b[1m9/9\u001b[0m \u001b[32m━━━━━━━━━━━━━━━━━━━━\u001b[0m\u001b[37m\u001b[0m \u001b[1m0s\u001b[0m 29ms/step - accuracy: 1.0000 - loss: 9.9150e-05 - val_accuracy: 0.9847 - val_loss: 0.1241\n",
            "Epoch 55/150\n",
            "\u001b[1m9/9\u001b[0m \u001b[32m━━━━━━━━━━━━━━━━━━━━\u001b[0m\u001b[37m\u001b[0m \u001b[1m0s\u001b[0m 34ms/step - accuracy: 1.0000 - loss: 9.4949e-05 - val_accuracy: 0.9838 - val_loss: 0.1245\n",
            "Epoch 56/150\n",
            "\u001b[1m9/9\u001b[0m \u001b[32m━━━━━━━━━━━━━━━━━━━━\u001b[0m\u001b[37m\u001b[0m \u001b[1m0s\u001b[0m 34ms/step - accuracy: 1.0000 - loss: 9.0997e-05 - val_accuracy: 0.9838 - val_loss: 0.1250\n",
            "Epoch 57/150\n",
            "\u001b[1m9/9\u001b[0m \u001b[32m━━━━━━━━━━━━━━━━━━━━\u001b[0m\u001b[37m\u001b[0m \u001b[1m1s\u001b[0m 33ms/step - accuracy: 1.0000 - loss: 8.7276e-05 - val_accuracy: 0.9838 - val_loss: 0.1254\n",
            "Epoch 58/150\n",
            "\u001b[1m9/9\u001b[0m \u001b[32m━━━━━━━━━━━━━━━━━━━━\u001b[0m\u001b[37m\u001b[0m \u001b[1m1s\u001b[0m 29ms/step - accuracy: 1.0000 - loss: 8.3766e-05 - val_accuracy: 0.9838 - val_loss: 0.1258\n",
            "Epoch 59/150\n",
            "\u001b[1m9/9\u001b[0m \u001b[32m━━━━━━━━━━━━━━━━━━━━\u001b[0m\u001b[37m\u001b[0m \u001b[1m0s\u001b[0m 33ms/step - accuracy: 1.0000 - loss: 8.0454e-05 - val_accuracy: 0.9838 - val_loss: 0.1263\n",
            "Epoch 60/150\n",
            "\u001b[1m9/9\u001b[0m \u001b[32m━━━━━━━━━━━━━━━━━━━━\u001b[0m\u001b[37m\u001b[0m \u001b[1m0s\u001b[0m 30ms/step - accuracy: 1.0000 - loss: 7.7325e-05 - val_accuracy: 0.9838 - val_loss: 0.1267\n",
            "Epoch 61/150\n",
            "\u001b[1m9/9\u001b[0m \u001b[32m━━━━━━━━━━━━━━━━━━━━\u001b[0m\u001b[37m\u001b[0m \u001b[1m0s\u001b[0m 28ms/step - accuracy: 1.0000 - loss: 7.4366e-05 - val_accuracy: 0.9838 - val_loss: 0.1271\n",
            "Epoch 62/150\n",
            "\u001b[1m9/9\u001b[0m \u001b[32m━━━━━━━━━━━━━━━━━━━━\u001b[0m\u001b[37m\u001b[0m \u001b[1m0s\u001b[0m 28ms/step - accuracy: 1.0000 - loss: 7.1566e-05 - val_accuracy: 0.9838 - val_loss: 0.1276\n",
            "Epoch 63/150\n",
            "\u001b[1m9/9\u001b[0m \u001b[32m━━━━━━━━━━━━━━━━━━━━\u001b[0m\u001b[37m\u001b[0m \u001b[1m0s\u001b[0m 33ms/step - accuracy: 1.0000 - loss: 6.8912e-05 - val_accuracy: 0.9838 - val_loss: 0.1280\n",
            "Epoch 64/150\n",
            "\u001b[1m9/9\u001b[0m \u001b[32m━━━━━━━━━━━━━━━━━━━━\u001b[0m\u001b[37m\u001b[0m \u001b[1m0s\u001b[0m 29ms/step - accuracy: 1.0000 - loss: 6.6397e-05 - val_accuracy: 0.9838 - val_loss: 0.1284\n",
            "Epoch 65/150\n",
            "\u001b[1m9/9\u001b[0m \u001b[32m━━━━━━━━━━━━━━━━━━━━\u001b[0m\u001b[37m\u001b[0m \u001b[1m0s\u001b[0m 32ms/step - accuracy: 1.0000 - loss: 6.4012e-05 - val_accuracy: 0.9838 - val_loss: 0.1288\n",
            "Epoch 66/150\n",
            "\u001b[1m9/9\u001b[0m \u001b[32m━━━━━━━━━━━━━━━━━━━━\u001b[0m\u001b[37m\u001b[0m \u001b[1m0s\u001b[0m 29ms/step - accuracy: 1.0000 - loss: 6.1747e-05 - val_accuracy: 0.9829 - val_loss: 0.1292\n",
            "Epoch 67/150\n",
            "\u001b[1m9/9\u001b[0m \u001b[32m━━━━━━━━━━━━━━━━━━━━\u001b[0m\u001b[37m\u001b[0m \u001b[1m0s\u001b[0m 31ms/step - accuracy: 1.0000 - loss: 5.9596e-05 - val_accuracy: 0.9829 - val_loss: 0.1296\n",
            "Epoch 68/150\n",
            "\u001b[1m9/9\u001b[0m \u001b[32m━━━━━━━━━━━━━━━━━━━━\u001b[0m\u001b[37m\u001b[0m \u001b[1m0s\u001b[0m 36ms/step - accuracy: 1.0000 - loss: 5.7552e-05 - val_accuracy: 0.9829 - val_loss: 0.1300\n",
            "Epoch 69/150\n",
            "\u001b[1m9/9\u001b[0m \u001b[32m━━━━━━━━━━━━━━━━━━━━\u001b[0m\u001b[37m\u001b[0m \u001b[1m0s\u001b[0m 37ms/step - accuracy: 1.0000 - loss: 5.5607e-05 - val_accuracy: 0.9829 - val_loss: 0.1304\n",
            "Epoch 70/150\n",
            "\u001b[1m9/9\u001b[0m \u001b[32m━━━━━━━━━━━━━━━━━━━━\u001b[0m\u001b[37m\u001b[0m \u001b[1m1s\u001b[0m 39ms/step - accuracy: 1.0000 - loss: 5.3755e-05 - val_accuracy: 0.9829 - val_loss: 0.1308\n",
            "Epoch 71/150\n",
            "\u001b[1m9/9\u001b[0m \u001b[32m━━━━━━━━━━━━━━━━━━━━\u001b[0m\u001b[37m\u001b[0m \u001b[1m0s\u001b[0m 39ms/step - accuracy: 1.0000 - loss: 5.1990e-05 - val_accuracy: 0.9829 - val_loss: 0.1311\n",
            "Epoch 72/150\n",
            "\u001b[1m9/9\u001b[0m \u001b[32m━━━━━━━━━━━━━━━━━━━━\u001b[0m\u001b[37m\u001b[0m \u001b[1m1s\u001b[0m 30ms/step - accuracy: 1.0000 - loss: 5.0308e-05 - val_accuracy: 0.9829 - val_loss: 0.1315\n",
            "Epoch 73/150\n",
            "\u001b[1m9/9\u001b[0m \u001b[32m━━━━━━━━━━━━━━━━━━━━\u001b[0m\u001b[37m\u001b[0m \u001b[1m0s\u001b[0m 33ms/step - accuracy: 1.0000 - loss: 4.8703e-05 - val_accuracy: 0.9829 - val_loss: 0.1319\n",
            "Epoch 74/150\n",
            "\u001b[1m9/9\u001b[0m \u001b[32m━━━━━━━━━━━━━━━━━━━━\u001b[0m\u001b[37m\u001b[0m \u001b[1m0s\u001b[0m 29ms/step - accuracy: 1.0000 - loss: 4.7170e-05 - val_accuracy: 0.9829 - val_loss: 0.1323\n",
            "Epoch 75/150\n",
            "\u001b[1m9/9\u001b[0m \u001b[32m━━━━━━━━━━━━━━━━━━━━\u001b[0m\u001b[37m\u001b[0m \u001b[1m0s\u001b[0m 30ms/step - accuracy: 1.0000 - loss: 4.5706e-05 - val_accuracy: 0.9829 - val_loss: 0.1326\n",
            "Epoch 76/150\n",
            "\u001b[1m9/9\u001b[0m \u001b[32m━━━━━━━━━━━━━━━━━━━━\u001b[0m\u001b[37m\u001b[0m \u001b[1m0s\u001b[0m 29ms/step - accuracy: 1.0000 - loss: 4.4306e-05 - val_accuracy: 0.9829 - val_loss: 0.1330\n",
            "Epoch 77/150\n",
            "\u001b[1m9/9\u001b[0m \u001b[32m━━━━━━━━━━━━━━━━━━━━\u001b[0m\u001b[37m\u001b[0m \u001b[1m0s\u001b[0m 33ms/step - accuracy: 1.0000 - loss: 4.2968e-05 - val_accuracy: 0.9829 - val_loss: 0.1333\n",
            "Epoch 78/150\n",
            "\u001b[1m9/9\u001b[0m \u001b[32m━━━━━━━━━━━━━━━━━━━━\u001b[0m\u001b[37m\u001b[0m \u001b[1m0s\u001b[0m 31ms/step - accuracy: 1.0000 - loss: 4.1688e-05 - val_accuracy: 0.9829 - val_loss: 0.1337\n",
            "Epoch 79/150\n",
            "\u001b[1m9/9\u001b[0m \u001b[32m━━━━━━━━━━━━━━━━━━━━\u001b[0m\u001b[37m\u001b[0m \u001b[1m0s\u001b[0m 29ms/step - accuracy: 1.0000 - loss: 4.0462e-05 - val_accuracy: 0.9829 - val_loss: 0.1340\n",
            "Epoch 80/150\n",
            "\u001b[1m9/9\u001b[0m \u001b[32m━━━━━━━━━━━━━━━━━━━━\u001b[0m\u001b[37m\u001b[0m \u001b[1m0s\u001b[0m 29ms/step - accuracy: 1.0000 - loss: 3.9287e-05 - val_accuracy: 0.9829 - val_loss: 0.1344\n",
            "Epoch 81/150\n",
            "\u001b[1m9/9\u001b[0m \u001b[32m━━━━━━━━━━━━━━━━━━━━\u001b[0m\u001b[37m\u001b[0m \u001b[1m0s\u001b[0m 33ms/step - accuracy: 1.0000 - loss: 3.8161e-05 - val_accuracy: 0.9829 - val_loss: 0.1347\n",
            "Epoch 82/150\n",
            "\u001b[1m9/9\u001b[0m \u001b[32m━━━━━━━━━━━━━━━━━━━━\u001b[0m\u001b[37m\u001b[0m \u001b[1m0s\u001b[0m 31ms/step - accuracy: 1.0000 - loss: 3.7081e-05 - val_accuracy: 0.9829 - val_loss: 0.1351\n",
            "Epoch 83/150\n",
            "\u001b[1m9/9\u001b[0m \u001b[32m━━━━━━━━━━━━━━━━━━━━\u001b[0m\u001b[37m\u001b[0m \u001b[1m0s\u001b[0m 29ms/step - accuracy: 1.0000 - loss: 3.6046e-05 - val_accuracy: 0.9829 - val_loss: 0.1354\n",
            "Epoch 84/150\n",
            "\u001b[1m9/9\u001b[0m \u001b[32m━━━━━━━━━━━━━━━━━━━━\u001b[0m\u001b[37m\u001b[0m \u001b[1m0s\u001b[0m 29ms/step - accuracy: 1.0000 - loss: 3.5052e-05 - val_accuracy: 0.9829 - val_loss: 0.1357\n",
            "Epoch 85/150\n",
            "\u001b[1m9/9\u001b[0m \u001b[32m━━━━━━━━━━━━━━━━━━━━\u001b[0m\u001b[37m\u001b[0m \u001b[1m0s\u001b[0m 34ms/step - accuracy: 1.0000 - loss: 3.4096e-05 - val_accuracy: 0.9829 - val_loss: 0.1360\n",
            "Epoch 86/150\n",
            "\u001b[1m9/9\u001b[0m \u001b[32m━━━━━━━━━━━━━━━━━━━━\u001b[0m\u001b[37m\u001b[0m \u001b[1m0s\u001b[0m 30ms/step - accuracy: 1.0000 - loss: 3.3177e-05 - val_accuracy: 0.9829 - val_loss: 0.1364\n",
            "Epoch 87/150\n",
            "\u001b[1m9/9\u001b[0m \u001b[32m━━━━━━━━━━━━━━━━━━━━\u001b[0m\u001b[37m\u001b[0m \u001b[1m0s\u001b[0m 29ms/step - accuracy: 1.0000 - loss: 3.2294e-05 - val_accuracy: 0.9829 - val_loss: 0.1367\n",
            "Epoch 88/150\n",
            "\u001b[1m9/9\u001b[0m \u001b[32m━━━━━━━━━━━━━━━━━━━━\u001b[0m\u001b[37m\u001b[0m \u001b[1m0s\u001b[0m 34ms/step - accuracy: 1.0000 - loss: 3.1444e-05 - val_accuracy: 0.9829 - val_loss: 0.1370\n",
            "Epoch 89/150\n",
            "\u001b[1m9/9\u001b[0m \u001b[32m━━━━━━━━━━━━━━━━━━━━\u001b[0m\u001b[37m\u001b[0m \u001b[1m0s\u001b[0m 30ms/step - accuracy: 1.0000 - loss: 3.0626e-05 - val_accuracy: 0.9829 - val_loss: 0.1373\n",
            "Epoch 90/150\n",
            "\u001b[1m9/9\u001b[0m \u001b[32m━━━━━━━━━━━━━━━━━━━━\u001b[0m\u001b[37m\u001b[0m \u001b[1m0s\u001b[0m 33ms/step - accuracy: 1.0000 - loss: 2.9839e-05 - val_accuracy: 0.9829 - val_loss: 0.1376\n",
            "Epoch 91/150\n",
            "\u001b[1m9/9\u001b[0m \u001b[32m━━━━━━━━━━━━━━━━━━━━\u001b[0m\u001b[37m\u001b[0m \u001b[1m0s\u001b[0m 33ms/step - accuracy: 1.0000 - loss: 2.9080e-05 - val_accuracy: 0.9829 - val_loss: 0.1379\n",
            "Epoch 92/150\n",
            "\u001b[1m9/9\u001b[0m \u001b[32m━━━━━━━━━━━━━━━━━━━━\u001b[0m\u001b[37m\u001b[0m \u001b[1m0s\u001b[0m 33ms/step - accuracy: 1.0000 - loss: 2.8350e-05 - val_accuracy: 0.9829 - val_loss: 0.1382\n",
            "Epoch 93/150\n",
            "\u001b[1m9/9\u001b[0m \u001b[32m━━━━━━━━━━━━━━━━━━━━\u001b[0m\u001b[37m\u001b[0m \u001b[1m0s\u001b[0m 30ms/step - accuracy: 1.0000 - loss: 2.7646e-05 - val_accuracy: 0.9829 - val_loss: 0.1385\n",
            "Epoch 94/150\n",
            "\u001b[1m9/9\u001b[0m \u001b[32m━━━━━━━━━━━━━━━━━━━━\u001b[0m\u001b[37m\u001b[0m \u001b[1m0s\u001b[0m 29ms/step - accuracy: 1.0000 - loss: 2.6966e-05 - val_accuracy: 0.9829 - val_loss: 0.1388\n",
            "Epoch 95/150\n",
            "\u001b[1m9/9\u001b[0m \u001b[32m━━━━━━━━━━━━━━━━━━━━\u001b[0m\u001b[37m\u001b[0m \u001b[1m0s\u001b[0m 30ms/step - accuracy: 1.0000 - loss: 2.6311e-05 - val_accuracy: 0.9829 - val_loss: 0.1391\n",
            "Epoch 96/150\n",
            "\u001b[1m9/9\u001b[0m \u001b[32m━━━━━━━━━━━━━━━━━━━━\u001b[0m\u001b[37m\u001b[0m \u001b[1m0s\u001b[0m 34ms/step - accuracy: 1.0000 - loss: 2.5678e-05 - val_accuracy: 0.9829 - val_loss: 0.1394\n",
            "Epoch 97/150\n",
            "\u001b[1m9/9\u001b[0m \u001b[32m━━━━━━━━━━━━━━━━━━━━\u001b[0m\u001b[37m\u001b[0m \u001b[1m0s\u001b[0m 29ms/step - accuracy: 1.0000 - loss: 2.5067e-05 - val_accuracy: 0.9829 - val_loss: 0.1397\n",
            "Epoch 98/150\n",
            "\u001b[1m9/9\u001b[0m \u001b[32m━━━━━━━━━━━━━━━━━━━━\u001b[0m\u001b[37m\u001b[0m \u001b[1m0s\u001b[0m 33ms/step - accuracy: 1.0000 - loss: 2.4477e-05 - val_accuracy: 0.9829 - val_loss: 0.1399\n",
            "Epoch 99/150\n",
            "\u001b[1m9/9\u001b[0m \u001b[32m━━━━━━━━━━━━━━━━━━━━\u001b[0m\u001b[37m\u001b[0m \u001b[1m0s\u001b[0m 30ms/step - accuracy: 1.0000 - loss: 2.3907e-05 - val_accuracy: 0.9829 - val_loss: 0.1402\n",
            "Epoch 100/150\n",
            "\u001b[1m9/9\u001b[0m \u001b[32m━━━━━━━━━━━━━━━━━━━━\u001b[0m\u001b[37m\u001b[0m \u001b[1m0s\u001b[0m 29ms/step - accuracy: 1.0000 - loss: 2.3356e-05 - val_accuracy: 0.9829 - val_loss: 0.1405\n",
            "Epoch 101/150\n",
            "\u001b[1m9/9\u001b[0m \u001b[32m━━━━━━━━━━━━━━━━━━━━\u001b[0m\u001b[37m\u001b[0m \u001b[1m0s\u001b[0m 29ms/step - accuracy: 1.0000 - loss: 2.2823e-05 - val_accuracy: 0.9829 - val_loss: 0.1407\n",
            "Epoch 102/150\n",
            "\u001b[1m9/9\u001b[0m \u001b[32m━━━━━━━━━━━━━━━━━━━━\u001b[0m\u001b[37m\u001b[0m \u001b[1m0s\u001b[0m 29ms/step - accuracy: 1.0000 - loss: 2.2308e-05 - val_accuracy: 0.9829 - val_loss: 0.1410\n",
            "Epoch 103/150\n",
            "\u001b[1m9/9\u001b[0m \u001b[32m━━━━━━━━━━━━━━━━━━━━\u001b[0m\u001b[37m\u001b[0m \u001b[1m0s\u001b[0m 30ms/step - accuracy: 1.0000 - loss: 2.1808e-05 - val_accuracy: 0.9829 - val_loss: 0.1413\n",
            "Epoch 104/150\n",
            "\u001b[1m9/9\u001b[0m \u001b[32m━━━━━━━━━━━━━━━━━━━━\u001b[0m\u001b[37m\u001b[0m \u001b[1m0s\u001b[0m 29ms/step - accuracy: 1.0000 - loss: 2.1325e-05 - val_accuracy: 0.9829 - val_loss: 0.1415\n",
            "Epoch 105/150\n",
            "\u001b[1m9/9\u001b[0m \u001b[32m━━━━━━━━━━━━━━━━━━━━\u001b[0m\u001b[37m\u001b[0m \u001b[1m0s\u001b[0m 35ms/step - accuracy: 1.0000 - loss: 2.0858e-05 - val_accuracy: 0.9829 - val_loss: 0.1418\n",
            "Epoch 106/150\n",
            "\u001b[1m9/9\u001b[0m \u001b[32m━━━━━━━━━━━━━━━━━━━━\u001b[0m\u001b[37m\u001b[0m \u001b[1m1s\u001b[0m 39ms/step - accuracy: 1.0000 - loss: 2.0405e-05 - val_accuracy: 0.9829 - val_loss: 0.1421\n",
            "Epoch 107/150\n",
            "\u001b[1m9/9\u001b[0m \u001b[32m━━━━━━━━━━━━━━━━━━━━\u001b[0m\u001b[37m\u001b[0m \u001b[1m1s\u001b[0m 40ms/step - accuracy: 1.0000 - loss: 1.9966e-05 - val_accuracy: 0.9829 - val_loss: 0.1423\n",
            "Epoch 108/150\n",
            "\u001b[1m9/9\u001b[0m \u001b[32m━━━━━━━━━━━━━━━━━━━━\u001b[0m\u001b[37m\u001b[0m \u001b[1m1s\u001b[0m 30ms/step - accuracy: 1.0000 - loss: 1.9540e-05 - val_accuracy: 0.9829 - val_loss: 0.1426\n",
            "Epoch 109/150\n",
            "\u001b[1m9/9\u001b[0m \u001b[32m━━━━━━━━━━━━━━━━━━━━\u001b[0m\u001b[37m\u001b[0m \u001b[1m0s\u001b[0m 29ms/step - accuracy: 1.0000 - loss: 1.9127e-05 - val_accuracy: 0.9829 - val_loss: 0.1428\n",
            "Epoch 110/150\n",
            "\u001b[1m9/9\u001b[0m \u001b[32m━━━━━━━━━━━━━━━━━━━━\u001b[0m\u001b[37m\u001b[0m \u001b[1m0s\u001b[0m 30ms/step - accuracy: 1.0000 - loss: 1.8727e-05 - val_accuracy: 0.9829 - val_loss: 0.1430\n",
            "Epoch 111/150\n",
            "\u001b[1m9/9\u001b[0m \u001b[32m━━━━━━━━━━━━━━━━━━━━\u001b[0m\u001b[37m\u001b[0m \u001b[1m0s\u001b[0m 30ms/step - accuracy: 1.0000 - loss: 1.8338e-05 - val_accuracy: 0.9829 - val_loss: 0.1433\n",
            "Epoch 112/150\n",
            "\u001b[1m9/9\u001b[0m \u001b[32m━━━━━━━━━━━━━━━━━━━━\u001b[0m\u001b[37m\u001b[0m \u001b[1m0s\u001b[0m 30ms/step - accuracy: 1.0000 - loss: 1.7960e-05 - val_accuracy: 0.9829 - val_loss: 0.1435\n",
            "Epoch 113/150\n",
            "\u001b[1m9/9\u001b[0m \u001b[32m━━━━━━━━━━━━━━━━━━━━\u001b[0m\u001b[37m\u001b[0m \u001b[1m0s\u001b[0m 31ms/step - accuracy: 1.0000 - loss: 1.7593e-05 - val_accuracy: 0.9829 - val_loss: 0.1438\n",
            "Epoch 114/150\n",
            "\u001b[1m9/9\u001b[0m \u001b[32m━━━━━━━━━━━━━━━━━━━━\u001b[0m\u001b[37m\u001b[0m \u001b[1m0s\u001b[0m 34ms/step - accuracy: 1.0000 - loss: 1.7237e-05 - val_accuracy: 0.9829 - val_loss: 0.1440\n",
            "Epoch 115/150\n",
            "\u001b[1m9/9\u001b[0m \u001b[32m━━━━━━━━━━━━━━━━━━━━\u001b[0m\u001b[37m\u001b[0m \u001b[1m0s\u001b[0m 33ms/step - accuracy: 1.0000 - loss: 1.6891e-05 - val_accuracy: 0.9829 - val_loss: 0.1442\n",
            "Epoch 116/150\n",
            "\u001b[1m9/9\u001b[0m \u001b[32m━━━━━━━━━━━━━━━━━━━━\u001b[0m\u001b[37m\u001b[0m \u001b[1m0s\u001b[0m 33ms/step - accuracy: 1.0000 - loss: 1.6554e-05 - val_accuracy: 0.9829 - val_loss: 0.1445\n",
            "Epoch 117/150\n",
            "\u001b[1m9/9\u001b[0m \u001b[32m━━━━━━━━━━━━━━━━━━━━\u001b[0m\u001b[37m\u001b[0m \u001b[1m0s\u001b[0m 34ms/step - accuracy: 1.0000 - loss: 1.6225e-05 - val_accuracy: 0.9829 - val_loss: 0.1447\n",
            "Epoch 118/150\n",
            "\u001b[1m9/9\u001b[0m \u001b[32m━━━━━━━━━━━━━━━━━━━━\u001b[0m\u001b[37m\u001b[0m \u001b[1m1s\u001b[0m 34ms/step - accuracy: 1.0000 - loss: 1.5905e-05 - val_accuracy: 0.9829 - val_loss: 0.1449\n",
            "Epoch 119/150\n",
            "\u001b[1m9/9\u001b[0m \u001b[32m━━━━━━━━━━━━━━━━━━━━\u001b[0m\u001b[37m\u001b[0m \u001b[1m0s\u001b[0m 33ms/step - accuracy: 1.0000 - loss: 1.5593e-05 - val_accuracy: 0.9829 - val_loss: 0.1452\n",
            "Epoch 120/150\n",
            "\u001b[1m9/9\u001b[0m \u001b[32m━━━━━━━━━━━━━━━━━━━━\u001b[0m\u001b[37m\u001b[0m \u001b[1m0s\u001b[0m 30ms/step - accuracy: 1.0000 - loss: 1.5288e-05 - val_accuracy: 0.9829 - val_loss: 0.1454\n",
            "Epoch 121/150\n",
            "\u001b[1m9/9\u001b[0m \u001b[32m━━━━━━━━━━━━━━━━━━━━\u001b[0m\u001b[37m\u001b[0m \u001b[1m0s\u001b[0m 33ms/step - accuracy: 1.0000 - loss: 1.4990e-05 - val_accuracy: 0.9829 - val_loss: 0.1456\n",
            "Epoch 122/150\n",
            "\u001b[1m9/9\u001b[0m \u001b[32m━━━━━━━━━━━━━━━━━━━━\u001b[0m\u001b[37m\u001b[0m \u001b[1m1s\u001b[0m 30ms/step - accuracy: 1.0000 - loss: 1.4699e-05 - val_accuracy: 0.9829 - val_loss: 0.1459\n",
            "Epoch 123/150\n",
            "\u001b[1m9/9\u001b[0m \u001b[32m━━━━━━━━━━━━━━━━━━━━\u001b[0m\u001b[37m\u001b[0m \u001b[1m0s\u001b[0m 34ms/step - accuracy: 1.0000 - loss: 1.4414e-05 - val_accuracy: 0.9829 - val_loss: 0.1461\n",
            "Epoch 124/150\n",
            "\u001b[1m9/9\u001b[0m \u001b[32m━━━━━━━━━━━━━━━━━━━━\u001b[0m\u001b[37m\u001b[0m \u001b[1m1s\u001b[0m 30ms/step - accuracy: 1.0000 - loss: 1.4136e-05 - val_accuracy: 0.9829 - val_loss: 0.1463\n",
            "Epoch 125/150\n",
            "\u001b[1m9/9\u001b[0m \u001b[32m━━━━━━━━━━━━━━━━━━━━\u001b[0m\u001b[37m\u001b[0m \u001b[1m0s\u001b[0m 30ms/step - accuracy: 1.0000 - loss: 1.3866e-05 - val_accuracy: 0.9829 - val_loss: 0.1465\n",
            "Epoch 126/150\n",
            "\u001b[1m9/9\u001b[0m \u001b[32m━━━━━━━━━━━━━━━━━━━━\u001b[0m\u001b[37m\u001b[0m \u001b[1m0s\u001b[0m 30ms/step - accuracy: 1.0000 - loss: 1.3602e-05 - val_accuracy: 0.9829 - val_loss: 0.1467\n",
            "Epoch 127/150\n",
            "\u001b[1m9/9\u001b[0m \u001b[32m━━━━━━━━━━━━━━━━━━━━\u001b[0m\u001b[37m\u001b[0m \u001b[1m0s\u001b[0m 29ms/step - accuracy: 1.0000 - loss: 1.3346e-05 - val_accuracy: 0.9829 - val_loss: 0.1470\n",
            "Epoch 128/150\n",
            "\u001b[1m9/9\u001b[0m \u001b[32m━━━━━━━━━━━━━━━━━━━━\u001b[0m\u001b[37m\u001b[0m \u001b[1m0s\u001b[0m 30ms/step - accuracy: 1.0000 - loss: 1.3095e-05 - val_accuracy: 0.9829 - val_loss: 0.1472\n",
            "Epoch 129/150\n",
            "\u001b[1m9/9\u001b[0m \u001b[32m━━━━━━━━━━━━━━━━━━━━\u001b[0m\u001b[37m\u001b[0m \u001b[1m0s\u001b[0m 29ms/step - accuracy: 1.0000 - loss: 1.2852e-05 - val_accuracy: 0.9829 - val_loss: 0.1474\n",
            "Epoch 130/150\n",
            "\u001b[1m9/9\u001b[0m \u001b[32m━━━━━━━━━━━━━━━━━━━━\u001b[0m\u001b[37m\u001b[0m \u001b[1m0s\u001b[0m 30ms/step - accuracy: 1.0000 - loss: 1.2615e-05 - val_accuracy: 0.9829 - val_loss: 0.1475\n",
            "Epoch 131/150\n",
            "\u001b[1m9/9\u001b[0m \u001b[32m━━━━━━━━━━━━━━━━━━━━\u001b[0m\u001b[37m\u001b[0m \u001b[1m0s\u001b[0m 31ms/step - accuracy: 1.0000 - loss: 1.2385e-05 - val_accuracy: 0.9829 - val_loss: 0.1477\n",
            "Epoch 132/150\n",
            "\u001b[1m9/9\u001b[0m \u001b[32m━━━━━━━━━━━━━━━━━━━━\u001b[0m\u001b[37m\u001b[0m \u001b[1m0s\u001b[0m 29ms/step - accuracy: 1.0000 - loss: 1.2161e-05 - val_accuracy: 0.9829 - val_loss: 0.1479\n",
            "Epoch 133/150\n",
            "\u001b[1m9/9\u001b[0m \u001b[32m━━━━━━━━━━━━━━━━━━━━\u001b[0m\u001b[37m\u001b[0m \u001b[1m0s\u001b[0m 29ms/step - accuracy: 1.0000 - loss: 1.1942e-05 - val_accuracy: 0.9829 - val_loss: 0.1481\n",
            "Epoch 134/150\n",
            "\u001b[1m9/9\u001b[0m \u001b[32m━━━━━━━━━━━━━━━━━━━━\u001b[0m\u001b[37m\u001b[0m \u001b[1m0s\u001b[0m 34ms/step - accuracy: 1.0000 - loss: 1.1730e-05 - val_accuracy: 0.9829 - val_loss: 0.1482\n",
            "Epoch 135/150\n",
            "\u001b[1m9/9\u001b[0m \u001b[32m━━━━━━━━━━━━━━━━━━━━\u001b[0m\u001b[37m\u001b[0m \u001b[1m0s\u001b[0m 30ms/step - accuracy: 1.0000 - loss: 1.1522e-05 - val_accuracy: 0.9829 - val_loss: 0.1484\n",
            "Epoch 136/150\n",
            "\u001b[1m9/9\u001b[0m \u001b[32m━━━━━━━━━━━━━━━━━━━━\u001b[0m\u001b[37m\u001b[0m \u001b[1m0s\u001b[0m 33ms/step - accuracy: 1.0000 - loss: 1.1311e-05 - val_accuracy: 0.9829 - val_loss: 0.1485\n",
            "Epoch 137/150\n",
            "\u001b[1m9/9\u001b[0m \u001b[32m━━━━━━━━━━━━━━━━━━━━\u001b[0m\u001b[37m\u001b[0m \u001b[1m0s\u001b[0m 33ms/step - accuracy: 1.0000 - loss: 1.1093e-05 - val_accuracy: 0.9829 - val_loss: 0.1486\n",
            "Epoch 138/150\n",
            "\u001b[1m9/9\u001b[0m \u001b[32m━━━━━━━━━━━━━━━━━━━━\u001b[0m\u001b[37m\u001b[0m \u001b[1m1s\u001b[0m 63ms/step - accuracy: 1.0000 - loss: 1.0880e-05 - val_accuracy: 0.9838 - val_loss: 0.1488\n",
            "Epoch 139/150\n",
            "\u001b[1m9/9\u001b[0m \u001b[32m━━━━━━━━━━━━━━━━━━━━\u001b[0m\u001b[37m\u001b[0m \u001b[1m0s\u001b[0m 43ms/step - accuracy: 1.0000 - loss: 1.0674e-05 - val_accuracy: 0.9838 - val_loss: 0.1489\n",
            "Epoch 140/150\n",
            "\u001b[1m9/9\u001b[0m \u001b[32m━━━━━━━━━━━━━━━━━━━━\u001b[0m\u001b[37m\u001b[0m \u001b[1m1s\u001b[0m 40ms/step - accuracy: 1.0000 - loss: 1.0475e-05 - val_accuracy: 0.9838 - val_loss: 0.1491\n",
            "Epoch 141/150\n",
            "\u001b[1m9/9\u001b[0m \u001b[32m━━━━━━━━━━━━━━━━━━━━\u001b[0m\u001b[37m\u001b[0m \u001b[1m1s\u001b[0m 53ms/step - accuracy: 1.0000 - loss: 1.0283e-05 - val_accuracy: 0.9838 - val_loss: 0.1492\n",
            "Epoch 142/150\n",
            "\u001b[1m9/9\u001b[0m \u001b[32m━━━━━━━━━━━━━━━━━━━━\u001b[0m\u001b[37m\u001b[0m \u001b[1m0s\u001b[0m 35ms/step - accuracy: 1.0000 - loss: 1.0113e-05 - val_accuracy: 0.9838 - val_loss: 0.1493\n",
            "Epoch 143/150\n",
            "\u001b[1m9/9\u001b[0m \u001b[32m━━━━━━━━━━━━━━━━━━━━\u001b[0m\u001b[37m\u001b[0m \u001b[1m1s\u001b[0m 30ms/step - accuracy: 1.0000 - loss: 9.9532e-06 - val_accuracy: 0.9838 - val_loss: 0.1494\n",
            "Epoch 144/150\n",
            "\u001b[1m9/9\u001b[0m \u001b[32m━━━━━━━━━━━━━━━━━━━━\u001b[0m\u001b[37m\u001b[0m \u001b[1m0s\u001b[0m 34ms/step - accuracy: 1.0000 - loss: 9.7963e-06 - val_accuracy: 0.9838 - val_loss: 0.1494\n",
            "Epoch 145/150\n",
            "\u001b[1m9/9\u001b[0m \u001b[32m━━━━━━━━━━━━━━━━━━━━\u001b[0m\u001b[37m\u001b[0m \u001b[1m1s\u001b[0m 30ms/step - accuracy: 1.0000 - loss: 9.6404e-06 - val_accuracy: 0.9838 - val_loss: 0.1494\n",
            "Epoch 146/150\n",
            "\u001b[1m9/9\u001b[0m \u001b[32m━━━━━━━━━━━━━━━━━━━━\u001b[0m\u001b[37m\u001b[0m \u001b[1m0s\u001b[0m 34ms/step - accuracy: 1.0000 - loss: 9.4868e-06 - val_accuracy: 0.9838 - val_loss: 0.1494\n",
            "Epoch 147/150\n",
            "\u001b[1m9/9\u001b[0m \u001b[32m━━━━━━━━━━━━━━━━━━━━\u001b[0m\u001b[37m\u001b[0m \u001b[1m0s\u001b[0m 30ms/step - accuracy: 1.0000 - loss: 9.3373e-06 - val_accuracy: 0.9838 - val_loss: 0.1494\n",
            "Epoch 148/150\n",
            "\u001b[1m9/9\u001b[0m \u001b[32m━━━━━━━━━━━━━━━━━━━━\u001b[0m\u001b[37m\u001b[0m \u001b[1m0s\u001b[0m 33ms/step - accuracy: 1.0000 - loss: 9.1919e-06 - val_accuracy: 0.9838 - val_loss: 0.1493\n",
            "Epoch 149/150\n",
            "\u001b[1m9/9\u001b[0m \u001b[32m━━━━━━━━━━━━━━━━━━━━\u001b[0m\u001b[37m\u001b[0m \u001b[1m0s\u001b[0m 30ms/step - accuracy: 1.0000 - loss: 9.0496e-06 - val_accuracy: 0.9838 - val_loss: 0.1492\n",
            "Epoch 150/150\n",
            "\u001b[1m9/9\u001b[0m \u001b[32m━━━━━━━━━━━━━━━━━━━━\u001b[0m\u001b[37m\u001b[0m \u001b[1m0s\u001b[0m 34ms/step - accuracy: 1.0000 - loss: 8.9103e-06 - val_accuracy: 0.9838 - val_loss: 0.1491\n"
          ]
        }
      ]
    },
    {
      "cell_type": "markdown",
      "source": [
        "## **Evaluate the model**"
      ],
      "metadata": {
        "id": "TXyw81fu0btp"
      }
    },
    {
      "cell_type": "code",
      "source": [
        "loss, acc = model.evaluate(val_ds)\n",
        "print(f\"\\nValidation Loss: {loss:.4f}\")\n",
        "print(f\"Validation Accuracy: {acc:.4f}\")"
      ],
      "metadata": {
        "colab": {
          "base_uri": "https://localhost:8080/"
        },
        "id": "RLstSq2T0b2w",
        "outputId": "6ec8f187-b8d0-4300-9927-efbedc996030"
      },
      "execution_count": 348,
      "outputs": [
        {
          "output_type": "stream",
          "name": "stdout",
          "text": [
            "\u001b[1m3/3\u001b[0m \u001b[32m━━━━━━━━━━━━━━━━━━━━\u001b[0m\u001b[37m\u001b[0m \u001b[1m0s\u001b[0m 10ms/step - accuracy: 0.9826 - loss: 0.1596\n",
            "\n",
            "Validation Loss: 0.1491\n",
            "Validation Accuracy: 0.9838\n"
          ]
        }
      ]
    },
    {
      "cell_type": "markdown",
      "source": [
        "## **Plot accuracy & loss curves**"
      ],
      "metadata": {
        "id": "HLx-jOxU0kjv"
      }
    },
    {
      "cell_type": "code",
      "source": [
        "history_dict = history.history\n",
        "acc = history_dict[\"accuracy\"]\n",
        "val_acc = history_dict[\"val_accuracy\"]\n",
        "loss = history_dict[\"loss\"]\n",
        "val_loss = history_dict[\"val_loss\"]\n",
        "epochs = range(1, len(acc) + 1)\n",
        "\n",
        "# Plot training history\n",
        "plt.figure(figsize=(12,5))\n",
        "\n",
        "plt.subplot(1,2,1)\n",
        "plt.plot(epochs, acc, \"bo-\", label=\"Training acc\")\n",
        "plt.plot(epochs, val_acc, \"ro-\", label=\"Validation acc\")\n",
        "plt.title(\"Training vs Validation Accuracy\")\n",
        "plt.xlabel(\"Epochs\")\n",
        "plt.ylabel(\"Accuracy\")\n",
        "plt.legend()\n",
        "plt.grid()\n",
        "\n",
        "plt.subplot(1,2,2)\n",
        "plt.plot(epochs, loss, \"bo-\", label=\"Training loss\")\n",
        "plt.plot(epochs, val_loss, \"ro-\", label=\"Validation loss\")\n",
        "plt.title(\"Training vs Validation Loss\")\n",
        "plt.xlabel(\"Epochs\")\n",
        "plt.ylabel(\"Loss\")\n",
        "plt.legend()\n",
        "plt.grid()\n",
        "\n",
        "plt.show()"
      ],
      "metadata": {
        "colab": {
          "base_uri": "https://localhost:8080/",
          "height": 487
        },
        "id": "blJtf0-x0ksI",
        "outputId": "60612869-d6b9-4e9f-ebec-d223e45c34ee"
      },
      "execution_count": 349,
      "outputs": [
        {
          "output_type": "display_data",
          "data": {
            "text/plain": [
              "<Figure size 1200x500 with 2 Axes>"
            ],
            "image/png": "[encoded data removed]"
          },
          "metadata": {}
        }
      ]
    },
    {
      "cell_type": "markdown",
      "metadata": {
        "id": "KCoA6qwqP836"
      },
      "source": [
        "## **Save Embeddings for Visualization**\n",
        "The embeddings are stored inside the Embedding layer. We can extract them and save them in two files:\n",
        "\n",
        "*   vectors.tsv → the actual numbers\n",
        "*   metadata.tsv → the words"
      ]
    },
    {
      "cell_type": "code",
      "source": [
        "# Get the first Embedding layer by type\n",
        "embedding_layer = [layer for layer in model.layers if isinstance(layer, tf.keras.layers.Embedding)][0]\n",
        "weights = embedding_layer.get_weights()[0]\n",
        "vocab = vectorize_layer.get_vocabulary()\n",
        "\n",
        "out_v = io.open('vectors.tsv', 'w', encoding='utf-8')\n",
        "out_m = io.open('metadata.tsv', 'w', encoding='utf-8')\n",
        "\n",
        "for index, word in enumerate(vocab):\n",
        "    if index == 0:\n",
        "        continue\n",
        "    vec = weights[index]\n",
        "    out_v.write('\\t'.join([str(x) for x in vec]) + \"\\n\")\n",
        "    out_m.write(word + \"\\n\")\n",
        "\n",
        "out_v.close()\n",
        "out_m.close()"
      ],
      "metadata": {
        "collapsed": true,
        "id": "ZHD7WcdjaCM0"
      },
      "execution_count": 350,
      "outputs": []
    },
    {
      "cell_type": "markdown",
      "source": [
        "## **Test on custom messages**"
      ],
      "metadata": {
        "id": "6_TvbV63ybXc"
      }
    },
    {
      "cell_type": "code",
      "source": [
        "examples = [\"Congratulations! You have won a $1000 Walmart gift card. Call now!\",\n",
        "            \"Hey, are we still meeting for lunch today?\",\n",
        "            \"Free entry in a weekly competition to win tickets!\",\n",
        "            \"Ok bro, call me when you reach.\",\n",
        "            \"URGENT! Your mobile number has won 2,000,000 pounds!\"]\n",
        "\n",
        "# Convert list of strings → tf.constant\n",
        "example_tensor = tf.constant(examples)\n",
        "predictions = model.predict(example_tensor)\n",
        "for msg, pred in zip(examples, predictions):\n",
        "    label = \"SPAM\" if pred[0] > 0.5 else \"HAM\"\n",
        "    print(f\"{msg} --> {label} ({pred[0]:.4f})\")"
      ],
      "metadata": {
        "colab": {
          "base_uri": "https://localhost:8080/"
        },
        "id": "o4q4A3WFpm1_",
        "outputId": "5d88f912-2a83-4b20-d4ba-efa2040251ab"
      },
      "execution_count": 351,
      "outputs": [
        {
          "output_type": "stream",
          "name": "stdout",
          "text": [
            "\u001b[1m1/1\u001b[0m \u001b[32m━━━━━━━━━━━━━━━━━━━━\u001b[0m\u001b[37m\u001b[0m \u001b[1m0s\u001b[0m 225ms/step\n",
            "Congratulations! You have won a $1000 Walmart gift card. Call now! --> SPAM (1.0000)\n",
            "Hey, are we still meeting for lunch today? --> HAM (0.0000)\n",
            "Free entry in a weekly competition to win tickets! --> SPAM (1.0000)\n",
            "Ok bro, call me when you reach. --> HAM (0.0000)\n",
            "URGENT! Your mobile number has won 2,000,000 pounds! --> SPAM (1.0000)\n"
          ]
        }
      ]
    }
  ]
}