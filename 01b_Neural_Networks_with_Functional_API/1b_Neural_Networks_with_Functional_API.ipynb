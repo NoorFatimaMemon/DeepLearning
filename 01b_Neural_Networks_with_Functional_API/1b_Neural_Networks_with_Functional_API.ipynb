{
 "cells": [
  {
   "cell_type": "markdown",
   "metadata": {},
   "source": [
    "# **Neural Networks with Functional API**"
   ]
  },
  {
   "cell_type": "markdown",
   "metadata": {},
   "source": [
    "### **1. Import Necessary Libraries**"
   ]
  },
  {
   "cell_type": "code",
   "execution_count": 28,
   "metadata": {},
   "outputs": [],
   "source": [
    "# Import the os module & set TensorFlow to suppress less severe logging messages. This helps reduce clutter in the output.\n",
    "import os\n",
    "os.environ['TF_CPP_MIN_LOG_LEVEL'] = '2'\n",
    "\n",
    "import tensorflow as tf      # for building and training the neural network\n",
    "from tensorflow.keras.datasets import mnist      # for loading the MNIST dataset\n",
    "from tensorflow.keras import layers, models\n",
    "from tensorflow.keras.utils import to_categorical      # for converting labels to one-hot encoding\n",
    "import matplotlib.pyplot as plt      # for plotting and visualizing the data and results"
   ]
  },
  {
   "cell_type": "markdown",
   "metadata": {},
   "source": [
    "### **2. Load the MNIST Dataset**\n",
    "\n",
    "**MNIST Dataset:**\n",
    "The MNIST dataset consists of images of handwritten digits, where each image is labeled with a digit between 0 and 9. Therefore, there are 10 possible classes (one for each digit)."
   ]
  },
  {
   "cell_type": "code",
   "execution_count": 29,
   "metadata": {},
   "outputs": [],
   "source": [
    "(x_train, y_train), (x_test, y_test) = mnist.load_data()"
   ]
  },
  {
   "cell_type": "markdown",
   "metadata": {},
   "source": [
    "### **3. Preprocessing the MNIST Dataset**"
   ]
  },
  {
   "cell_type": "code",
   "execution_count": 30,
   "metadata": {},
   "outputs": [],
   "source": [
    "# Purpose: Reshape the 28x28 pixel images into 1D arrays of size 784 (28*28) and\n",
    "# normalize pixel values to the range [0, 1] by dividing by 255.\n",
    "x_train, x_test = x_train.reshape(-1, 28*28).astype('float32')/255.0, x_test.reshape(-1, 28*28).astype('float32')/255.0"
   ]
  },
  {
   "cell_type": "code",
   "execution_count": 31,
   "metadata": {},
   "outputs": [],
   "source": [
    "# Convert labels to one-hot encoding\n",
    "y_train, y_test = to_categorical(y_train), to_categorical(y_test)"
   ]
  },
  {
   "cell_type": "markdown",
   "metadata": {},
   "source": [
    "### **4. Building and Using a Functional Model**"
   ]
  },
  {
   "cell_type": "code",
   "execution_count": 32,
   "metadata": {},
   "outputs": [],
   "source": [
    "# Define input layer with shape (784,)\n",
    "inputs = layers.Input(shape=(28*28,))\n",
    "\n",
    "# Add a Dense (fully connected) layer with 512 units and ReLU activation.\n",
    "x = layers.Dense(512, activation='relu')(inputs)\n",
    "\n",
    "# Add another Dense layer with 256 units and ReLU activation.\n",
    "x = layers.Dense(256, activation='relu')(x)\n",
    "\n",
    "# Add a final Dense layer with 10 units and softmax activation for classification.\n",
    "outputs = layers.Dense(10, activation='softmax')(x)\n",
    "\n",
    "# Create the model using the inputs and outputs.\n",
    "model = models.Model(inputs=inputs, outputs=outputs)"
   ]
  },
  {
   "cell_type": "markdown",
   "metadata": {},
   "source": [
    "### **5. Compile the Model**"
   ]
  },
  {
   "cell_type": "code",
   "execution_count": 33,
   "metadata": {},
   "outputs": [],
   "source": [
    "# Compile the model with a loss function, optimizer, and metrics.\n",
    "model.compile(optimizer='adam', \n",
    "              loss='categorical_crossentropy', \n",
    "              metrics=['accuracy'])"
   ]
  },
  {
   "cell_type": "markdown",
   "metadata": {},
   "source": [
    "### **6. Train the Model**"
   ]
  },
  {
   "cell_type": "code",
   "execution_count": 34,
   "metadata": {},
   "outputs": [
    {
     "name": "stdout",
     "output_type": "stream",
     "text": [
      "Epoch 1/5\n",
      "1500/1500 [==============================] - 7s 5ms/step - loss: 0.2035 - accuracy: 0.9383 - val_loss: 0.1105 - val_accuracy: 0.9660\n",
      "Epoch 2/5\n",
      "1500/1500 [==============================] - 8s 5ms/step - loss: 0.0834 - accuracy: 0.9738 - val_loss: 0.0858 - val_accuracy: 0.9727\n",
      "Epoch 3/5\n",
      "1500/1500 [==============================] - 9s 6ms/step - loss: 0.0551 - accuracy: 0.9826 - val_loss: 0.0941 - val_accuracy: 0.9739\n",
      "Epoch 4/5\n",
      "1500/1500 [==============================] - 10s 7ms/step - loss: 0.0442 - accuracy: 0.9854 - val_loss: 0.0926 - val_accuracy: 0.9749\n",
      "Epoch 5/5\n",
      "1500/1500 [==============================] - 8s 5ms/step - loss: 0.0341 - accuracy: 0.9887 - val_loss: 0.1038 - val_accuracy: 0.9729\n"
     ]
    }
   ],
   "source": [
    "# Train the model with training data.\n",
    "history = model.fit(x_train, y_train, epochs=5, batch_size=32, validation_split=0.2)\n"
   ]
  },
  {
   "cell_type": "markdown",
   "metadata": {},
   "source": [
    "### **7. Evaluate the Model**"
   ]
  },
  {
   "cell_type": "code",
   "execution_count": 35,
   "metadata": {},
   "outputs": [
    {
     "name": "stdout",
     "output_type": "stream",
     "text": [
      "313/313 [==============================] - 1s 2ms/step - loss: 0.0909 - accuracy: 0.9755\n",
      "Test Loss: 0.090947225689888\n",
      "Test Accuracy: 0.9754999876022339\n"
     ]
    }
   ],
   "source": [
    "# Evaluate the model on the test data.\n",
    "test_loss, test_accuracy = model.evaluate(x_test, y_test)\n",
    "print(f\"Test Loss: {test_loss}\")\n",
    "print(f\"Test Accuracy: {test_accuracy}\")"
   ]
  },
  {
   "cell_type": "markdown",
   "metadata": {},
   "source": [
    "### **8. Plot Training and Validation Metrics**"
   ]
  },
  {
   "cell_type": "code",
   "execution_count": 36,
   "metadata": {},
   "outputs": [
    {
     "data": {
      "image/png": "[encoded data removed]",
      "text/plain": [
       "<Figure size 640x480 with 1 Axes>"
      ]
     },
     "metadata": {},
     "output_type": "display_data"
    }
   ],
   "source": [
    "# Plot training & validation accuracy values\n",
    "plt.plot(history.history['accuracy'])\n",
    "plt.plot(history.history['val_accuracy'])\n",
    "plt.title('Model accuracy')\n",
    "plt.xlabel('Epoch')\n",
    "plt.ylabel('Accuracy')\n",
    "plt.legend(['Train', 'Test'], loc='upper left')\n",
    "plt.grid()\n",
    "plt.show()"
   ]
  },
  {
   "cell_type": "markdown",
   "metadata": {},
   "source": [
    "### **9. Make Predictions with the Model**"
   ]
  },
  {
   "cell_type": "code",
   "execution_count": 37,
   "metadata": {},
   "outputs": [
    {
     "name": "stdout",
     "output_type": "stream",
     "text": [
      "1875/1875 [==============================] - 4s 2ms/step\n",
      "(60000, 256)\n"
     ]
    }
   ],
   "source": [
    "# Predict features from the training data and print the shape of the output.\n",
    "# Note: You can use `model.predict` to get predictions, but for features, we use the intermediate model.\n",
    "feature_model = models.Model(inputs=inputs, outputs=model.layers[-2].output)\n",
    "feature = feature_model.predict(x_train)\n",
    "print(feature.shape)"
   ]
  }
 ],
 "metadata": {
  "kernelspec": {
   "display_name": "Python 3",
   "language": "python",
   "name": "python3"
  },
  "language_info": {
   "codemirror_mode": {
    "name": "ipython",
    "version": 3
   },
   "file_extension": ".py",
   "mimetype": "text/x-python",
   "name": "python",
   "nbconvert_exporter": "python",
   "pygments_lexer": "ipython3",
   "version": "3.11.9"
  }
 },
 "nbformat": 4,
 "nbformat_minor": 2
}
