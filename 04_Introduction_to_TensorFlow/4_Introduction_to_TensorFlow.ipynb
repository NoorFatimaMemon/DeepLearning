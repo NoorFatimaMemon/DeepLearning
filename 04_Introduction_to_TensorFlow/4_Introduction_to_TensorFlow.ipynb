{
 "cells": [
  {
   "cell_type": "markdown",
   "metadata": {},
   "source": [
    "# **Introduction to Tensorflow**\n",
    "\n",
    "## **What is Tensor?**\n",
    "\n",
    "+ A tensor is an N-dimensional or multi-dimensional arrays of numbers that represent complex data. \n",
    "\n",
    "+ They are the fundamental data structures used in machine learning and deep learning frameworks like TensorFlow and PyTorch.\n"
   ]
  },
  {
   "cell_type": "markdown",
   "metadata": {},
   "source": [
    "## **Beginner’s Guide to TensorFlow**\n",
    "\n",
    "### **Importing TensorFlow**\n",
    "\n",
    "To get started with TensorFlow, import the library and check its version:"
   ]
  },
  {
   "cell_type": "code",
   "execution_count": 74,
   "metadata": {},
   "outputs": [
    {
     "name": "stdout",
     "output_type": "stream",
     "text": [
      "2.15.1\n",
      "1.26.4\n"
     ]
    }
   ],
   "source": [
    "import tensorflow as tf\n",
    "print(tf.__version__)\n",
    "\n",
    "import numpy as np\n",
    "print(np.__version__)"
   ]
  },
  {
   "cell_type": "markdown",
   "metadata": {},
   "source": [
    "### **1. Setup and Importing Libraries**\n",
    "\n",
    "You can configure TensorFlow to minimize logging and set GPU memory growth"
   ]
  },
  {
   "cell_type": "code",
   "execution_count": 75,
   "metadata": {},
   "outputs": [],
   "source": [
    "import os\n",
    "os.environ['TF_CPP_MIN_LOG_LEVEL'] = '2'  # Suppresses TensorFlow warnings\n",
    "import tensorflow as tf\n",
    "from tensorflow.python.framework import dtypes"
   ]
  },
  {
   "cell_type": "markdown",
   "metadata": {},
   "source": [
    "### **2. Checking GPU Availability**\n",
    "\n",
    "If you have a GPU available, TensorFlow can utilize it. Let’s check and configure it"
   ]
  },
  {
   "cell_type": "code",
   "execution_count": 76,
   "metadata": {},
   "outputs": [],
   "source": [
    "# Checking GPU Availability\n",
    "physical_devices = tf.config.list_physical_devices(\"GPU\")\n",
    "if physical_devices:\n",
    "    tf.config.experimental.set_memory_growth(physical_devices[0], True)"
   ]
  },
  {
   "cell_type": "markdown",
   "metadata": {},
   "source": [
    "### **3. Basic Tensor Operations**\n",
    "\n",
    "#### **Creating Tensors**\n",
    "\n",
    "Scalar Tensor: A tensor with a single value."
   ]
  },
  {
   "cell_type": "code",
   "execution_count": 77,
   "metadata": {},
   "outputs": [
    {
     "name": "stdout",
     "output_type": "stream",
     "text": [
      "tf.Tensor(5, shape=(), dtype=int16)\n"
     ]
    }
   ],
   "source": [
    "print(tf.constant(5, shape=(), dtype=tf.int16))  # Scalar tensor"
   ]
  },
  {
   "cell_type": "markdown",
   "metadata": {},
   "source": [
    "Matrix Tensors: Creating tensors with specific shapes."
   ]
  },
  {
   "cell_type": "code",
   "execution_count": 78,
   "metadata": {},
   "outputs": [
    {
     "name": "stdout",
     "output_type": "stream",
     "text": [
      "tf.Tensor(\n",
      "[[1 1]\n",
      " [1 1]], shape=(2, 2), dtype=int16)\n",
      "tf.Tensor(\n",
      "[[0 0]\n",
      " [0 0]], shape=(2, 2), dtype=int16)\n",
      "tf.Tensor(\n",
      "[[1 0 0]\n",
      " [0 1 0]\n",
      " [0 0 1]], shape=(3, 3), dtype=int16)\n"
     ]
    }
   ],
   "source": [
    "print(tf.ones(shape=(2,2), dtype=tf.int16))\n",
    "print(tf.zeros(shape=(2,2), dtype=tf.int16))\n",
    "print(tf.eye(3, dtype=tf.int16))"
   ]
  },
  {
   "cell_type": "markdown",
   "metadata": {},
   "source": [
    "Random Tensors: Generating tensors with random values."
   ]
  },
  {
   "cell_type": "code",
   "execution_count": 98,
   "metadata": {},
   "outputs": [
    {
     "name": "stdout",
     "output_type": "stream",
     "text": [
      "tf.Tensor(\n",
      "[[ 2.4355896   1.1195979   0.24019867]\n",
      " [ 1.5534406   2.2625694  -0.65558326]\n",
      " [ 0.4914506   0.83300495 -0.10441971]], shape=(3, 3), dtype=float32) \n",
      "\n",
      "tf.Tensor(\n",
      "[[0.6636393  2.3590326  2.4731355 ]\n",
      " [2.3254073  1.2064445  4.159667  ]\n",
      " [0.81051767 2.27095    2.0422025 ]], shape=(3, 3), dtype=float32)\n"
     ]
    }
   ],
   "source": [
    "print(tf.random.normal((3,3), mean=1, stddev=1, dtype=dtypes.float32), \"\\n\")\n",
    "print(tf.random.uniform((3,3), minval=0, maxval=5))"
   ]
  },
  {
   "cell_type": "markdown",
   "metadata": {},
   "source": [
    "Range Tensors: Creating a tensor with a range of values."
   ]
  },
  {
   "cell_type": "code",
   "execution_count": 80,
   "metadata": {},
   "outputs": [
    {
     "name": "stdout",
     "output_type": "stream",
     "text": [
      "tf.Tensor([0 1 2 3 4 5], shape=(6,), dtype=int32)\n",
      "tf.Tensor([ 1  4  7 10 13 16 19 22], shape=(8,), dtype=int32)\n"
     ]
    }
   ],
   "source": [
    "print(tf.range(6))\n",
    "print(tf.range(start=1, limit=23, delta=3))"
   ]
  },
  {
   "cell_type": "markdown",
   "metadata": {},
   "source": [
    "#### **Casting Tensors**\n",
    "\n",
    "Type Casting: Changing the data type of a tensor."
   ]
  },
  {
   "cell_type": "code",
   "execution_count": 81,
   "metadata": {},
   "outputs": [
    {
     "name": "stdout",
     "output_type": "stream",
     "text": [
      "tf.Tensor([1.8 2.2], shape=(2,), dtype=float16)\n",
      "tf.Tensor([1.8 2.2], shape=(2,), dtype=float32)\n",
      "tf.Tensor([1.79999995 2.20000005], shape=(2,), dtype=float64)\n"
     ]
    }
   ],
   "source": [
    "x = tf.constant([1.8, 2.2], dtype=tf.float32)\n",
    "print(tf.dtypes.cast(x, tf.float16))\n",
    "print(tf.dtypes.cast(x, tf.float32))\n",
    "print(tf.dtypes.cast(x, tf.float64))"
   ]
  },
  {
   "cell_type": "markdown",
   "metadata": {},
   "source": [
    "#### **Tensor Arithmetic**\n",
    "\n",
    "Basic Arithmetic Operations: Adding, multiplying, and tensor dot product."
   ]
  },
  {
   "cell_type": "code",
   "execution_count": 82,
   "metadata": {},
   "outputs": [
    {
     "name": "stdout",
     "output_type": "stream",
     "text": [
      "tf.Tensor([7 4 7], shape=(3,), dtype=int32)\n",
      "tf.Tensor([7 4 7], shape=(3,), dtype=int32)\n",
      "tf.Tensor(16, shape=(), dtype=int32)\n",
      "tf.Tensor([ 1  4 36], shape=(3,), dtype=int32)\n"
     ]
    }
   ],
   "source": [
    "x = tf.constant([1, 2, 6])\n",
    "y = tf.constant([6, 2, 1])\n",
    "print(tf.add(x, y))  # Element-wise addition\n",
    "print(x + y)\n",
    "z = tf.tensordot(a=x, b=y, axes=0)  # Tensor dot product\n",
    "z = tf.tensordot(a=x, b=y, axes=1)\n",
    "z = tf.reduce_sum(x * y, axis=0)  # Element-wise multiplication and sum\n",
    "print(z)\n",
    "print(tf.constant([1, 2, 6]) ** 2)  # Element-wise power"
   ]
  },
  {
   "cell_type": "markdown",
   "metadata": {},
   "source": [
    "#### **Matrix Operations** \n",
    "\n",
    "Matrix Multiplication: Multiplying two matrices."
   ]
  },
  {
   "cell_type": "code",
   "execution_count": 83,
   "metadata": {},
   "outputs": [
    {
     "name": "stdout",
     "output_type": "stream",
     "text": [
      "Result with axes=0:\n",
      " [[[[ 5  6]\n",
      "   [ 7  8]]\n",
      "\n",
      "  [[10 12]\n",
      "   [14 16]]]\n",
      "\n",
      "\n",
      " [[[15 18]\n",
      "   [21 24]]\n",
      "\n",
      "  [[20 24]\n",
      "   [28 32]]]]\n",
      "tf.Tensor(\n",
      "[[ 0.9358213  -4.8121014   1.7402996  -5.1349573   0.9170374  -1.0839933 ]\n",
      " [-1.7571661  -1.8712229   1.0116435  -1.6953175   1.266397    2.7498155 ]\n",
      " [ 3.1763268  -0.9387059  -0.15105757 -3.5904245  -1.5653743  -0.8021634 ]], shape=(3, 6), dtype=float32) \n",
      "\n",
      "\n",
      " tf.Tensor(\n",
      "[[ 0.9358213  -4.8121014   1.7402996  -5.1349573   0.9170374  -1.0839933 ]\n",
      " [-1.7571661  -1.8712229   1.0116435  -1.6953175   1.266397    2.7498155 ]\n",
      " [ 3.1763268  -0.9387059  -0.15105757 -3.5904245  -1.5653743  -0.8021634 ]], shape=(3, 6), dtype=float32)\n"
     ]
    }
   ],
   "source": [
    "a = tf.constant([[1, 2],[3, 4]])\n",
    "b = tf.constant([[5, 6], [7, 8]])\n",
    "result = tf.tensordot(a, b, axes=0)\n",
    "print(\"Result with axes=0:\\n\", result.numpy())\n",
    "\n",
    "a = tf.random.normal((3, 5))\n",
    "b = tf.random.normal((5, 6))\n",
    "z = tf.matmul(a, b)\n",
    "c = a @ b\n",
    "print(z, '\\n\\n\\n', c)"
   ]
  },
  {
   "cell_type": "markdown",
   "metadata": {},
   "source": [
    "### **4. Tensor Slicing and Indexing**\n",
    "\n",
    "#### **Indexing and Slicing**\n",
    "\n",
    "Basic Indexing and Slicing:"
   ]
  },
  {
   "cell_type": "code",
   "execution_count": 84,
   "metadata": {},
   "outputs": [
    {
     "name": "stdout",
     "output_type": "stream",
     "text": [
      "tf.Tensor([2.2 3.5 2.2], shape=(3,), dtype=float32)\n",
      "tf.Tensor([1.8 3.5 2.1], shape=(3,), dtype=float32)\n",
      "tf.Tensor([9.  2.2 2.2], shape=(3,), dtype=float32)\n"
     ]
    }
   ],
   "source": [
    "x = tf.constant([1.8, 2.2, 3.5, 2.2, 2.1, 9.0], dtype=tf.float32)\n",
    "print(x[1:4])\n",
    "print(x[::2])\n",
    "print(x[::-2])"
   ]
  },
  {
   "cell_type": "markdown",
   "metadata": {},
   "source": [
    "Gathering Values:"
   ]
  },
  {
   "cell_type": "code",
   "execution_count": 85,
   "metadata": {},
   "outputs": [
    {
     "name": "stdout",
     "output_type": "stream",
     "text": [
      "tf.Tensor([2.2 3.5], shape=(2,), dtype=float32)\n"
     ]
    }
   ],
   "source": [
    "indices = tf.constant([1, 2])\n",
    "print(tf.gather(x, indices))"
   ]
  },
  {
   "cell_type": "markdown",
   "metadata": {},
   "source": [
    "Multi-dimensional Indexing:"
   ]
  },
  {
   "cell_type": "code",
   "execution_count": 86,
   "metadata": {},
   "outputs": [
    {
     "name": "stdout",
     "output_type": "stream",
     "text": [
      "tf.Tensor([7 8], shape=(2,), dtype=int32)\n",
      "tf.Tensor(\n",
      "[[3 4]\n",
      " [5 6]], shape=(2, 2), dtype=int32)\n",
      "tf.Tensor(\n",
      "[[0 2 4]\n",
      " [1 3 5]], shape=(2, 3), dtype=int32)\n"
     ]
    }
   ],
   "source": [
    "a = tf.constant([[1, 2],[3, 4],[5, 6],[7, 8]])\n",
    "print(a[3, :])\n",
    "print(a[1:3, :])\n",
    "x = tf.range(6)\n",
    "x = tf.reshape(x, (3, 2))\n",
    "print(tf.transpose(x, perm=[1, 0]))"
   ]
  },
  {
   "cell_type": "markdown",
   "metadata": {},
   "source": [
    "### **5. Introduction to Tensors**\n",
    "\n",
    "#### **Understanding Tensor Shapes**\n",
    "\n",
    "Scalars, Vectors, and Matrices:"
   ]
  },
  {
   "cell_type": "code",
   "execution_count": 87,
   "metadata": {},
   "outputs": [
    {
     "name": "stdout",
     "output_type": "stream",
     "text": [
      "tf.Tensor(4, shape=(), dtype=int32)\n",
      "tf.Tensor([2. 3. 4.], shape=(3,), dtype=float32)\n",
      "tf.Tensor(\n",
      "[[1. 2.]\n",
      " [3. 4.]\n",
      " [5. 6.]], shape=(3, 2), dtype=float32)\n"
     ]
    }
   ],
   "source": [
    "print(tf.constant(4))  # Scalar\n",
    "print(tf.constant([2.0, 3.0, 4.0]))  # Vector\n",
    "print(tf.constant([[1, 2], [3, 4], [5, 6]], dtype=float))  # Matrix"
   ]
  },
  {
   "cell_type": "markdown",
   "metadata": {},
   "source": [
    "Higher Dimensional Tensors:"
   ]
  },
  {
   "cell_type": "code",
   "execution_count": 88,
   "metadata": {},
   "outputs": [
    {
     "name": "stdout",
     "output_type": "stream",
     "text": [
      "tf.Tensor(\n",
      "[[[ 0  1  2  3  4]\n",
      "  [ 5  6  7  8  9]]\n",
      "\n",
      " [[10 11 12 13 14]\n",
      "  [15 16 17 18 19]]\n",
      "\n",
      " [[20 21 22 23 24]\n",
      "  [25 26 27 28 29]]], shape=(3, 2, 5), dtype=int32)\n"
     ]
    }
   ],
   "source": [
    "rank_3_tensor = tf.constant([\n",
    "  [[0, 1, 2, 3, 4],\n",
    "   [5, 6, 7, 8, 9]],\n",
    "  [[10, 11, 12, 13, 14],\n",
    "   [15, 16, 17, 18, 19]],\n",
    "  [[20, 21, 22, 23, 24],\n",
    "   [25, 26, 27, 28, 29]],\n",
    "])\n",
    "print(rank_3_tensor)"
   ]
  },
  {
   "cell_type": "markdown",
   "metadata": {},
   "source": [
    "#### **Converting Tensors to NumPy Arrays**\n",
    "\n",
    "Conversion Methods:"
   ]
  },
  {
   "cell_type": "code",
   "execution_count": 89,
   "metadata": {},
   "outputs": [
    {
     "name": "stdout",
     "output_type": "stream",
     "text": [
      "[[1. 2.]\n",
      " [3. 4.]\n",
      " [5. 6.]]\n"
     ]
    }
   ],
   "source": [
    "np.array(tf.constant([[1, 2], [3, 4], [5, 6]], dtype=float))\n",
    "print(tf.constant([[1, 2], [3, 4], [5, 6]], dtype=float).numpy())"
   ]
  },
  {
   "cell_type": "markdown",
   "metadata": {},
   "source": [
    "### **6. Tensor Operations**\n",
    "\n",
    "#### **Basic Math Operations**\n",
    "\n",
    "Addition, Multiplication, and Matrix Multiplication:"
   ]
  },
  {
   "cell_type": "code",
   "execution_count": 90,
   "metadata": {},
   "outputs": [
    {
     "name": "stdout",
     "output_type": "stream",
     "text": [
      "tf.Tensor(\n",
      "[[2 3]\n",
      " [4 5]], shape=(2, 2), dtype=int32)\n",
      "tf.Tensor(\n",
      "[[1 2]\n",
      " [3 4]], shape=(2, 2), dtype=int32)\n",
      "tf.Tensor(\n",
      "[[3 3]\n",
      " [7 7]], shape=(2, 2), dtype=int32)\n",
      "tf.Tensor(\n",
      "[[2 3]\n",
      " [4 5]], shape=(2, 2), dtype=int32)\n",
      "tf.Tensor(\n",
      "[[1 2]\n",
      " [3 4]], shape=(2, 2), dtype=int32)\n",
      "tf.Tensor(\n",
      "[[3 3]\n",
      " [7 7]], shape=(2, 2), dtype=int32)\n"
     ]
    }
   ],
   "source": [
    "a = tf.constant([[1, 2], [3, 4]])\n",
    "b = tf.constant([[1, 1], [1, 1]])\n",
    "print(tf.add(a, b))  # Addition\n",
    "print(tf.multiply(a, b))  # Element-wise multiplication\n",
    "print(tf.matmul(a, b))  # Matrix multiplication\n",
    "print(a + b)  # Element-wise addition\n",
    "print(a * b)  # Element-wise multiplication\n",
    "print(a @ b)  # Matrix multiplication"
   ]
  },
  {
   "cell_type": "markdown",
   "metadata": {},
   "source": [
    "Finding Maximum and Argmax:"
   ]
  },
  {
   "cell_type": "code",
   "execution_count": 91,
   "metadata": {},
   "outputs": [
    {
     "name": "stdout",
     "output_type": "stream",
     "text": [
      "tf.Tensor(10.0, shape=(), dtype=float32)\n",
      "tf.Tensor([1 0], shape=(2,), dtype=int64)\n",
      "tf.Tensor(\n",
      "[[2.6894143e-01 7.3105854e-01]\n",
      " [9.9987662e-01 1.2339458e-04]], shape=(2, 2), dtype=float32)\n"
     ]
    }
   ],
   "source": [
    "c = tf.constant([[4.0, 5.0], [10.0, 1.0]])\n",
    "print(tf.reduce_max(c))  # Maximum value\n",
    "print(tf.math.argmax(c))  # Index of maximum value\n",
    "print(tf.nn.softmax(c))  # Softmax function"
   ]
  },
  {
   "cell_type": "markdown",
   "metadata": {},
   "source": [
    "### **7. Tensor Shapes and Reshaping**\n",
    "\n",
    "#### **Understanding Shapes and Reshaping**\n",
    "\n",
    "Shape Attributes:"
   ]
  },
  {
   "cell_type": "code",
   "execution_count": 92,
   "metadata": {},
   "outputs": [
    {
     "name": "stdout",
     "output_type": "stream",
     "text": [
      "Type of every element: <dtype: 'float32'>\n",
      "Number of dimensions: 4\n",
      "Shape of tensor: (3, 2, 4, 5)\n",
      "Elements along axis 0 of tensor: 3\n",
      "Elements along the last axis of tensor: 5\n",
      "Total number of elements (3*2*4*5):  120\n"
     ]
    }
   ],
   "source": [
    "rank_4_tensor = tf.zeros([3, 2, 4, 5])\n",
    "print(\"Type of every element:\", rank_4_tensor.dtype)\n",
    "print(\"Number of dimensions:\", rank_4_tensor.ndim)\n",
    "print(\"Shape of tensor:\", rank_4_tensor.shape)\n",
    "print(\"Elements along axis 0 of tensor:\", rank_4_tensor.shape[0])\n",
    "print(\"Elements along the last axis of tensor:\", rank_4_tensor.shape[-1])\n",
    "print(\"Total number of elements (3*2*4*5): \", tf.size(rank_4_tensor).numpy())"
   ]
  },
  {
   "cell_type": "markdown",
   "metadata": {},
   "source": [
    "#### **Reshaping Tensors**\n",
    "\n",
    "Reshape Operations:"
   ]
  },
  {
   "cell_type": "code",
   "execution_count": 99,
   "metadata": {},
   "outputs": [
    {
     "name": "stdout",
     "output_type": "stream",
     "text": [
      "(3, 1)\n",
      "[3, 1]\n",
      "(1, 3)\n"
     ]
    }
   ],
   "source": [
    "var_x = tf.Variable(tf.constant([[1], [2], [3]]))\n",
    "print(var_x.shape)\n",
    "print(var_x.shape.as_list())\n",
    "reshaped = tf.reshape(var_x, [1, 3])\n",
    "print(reshaped.shape)"
   ]
  },
  {
   "cell_type": "code",
   "execution_count": 100,
   "metadata": {},
   "outputs": [
    {
     "name": "stdout",
     "output_type": "stream",
     "text": [
      "tf.Tensor(\n",
      "[ 0  1  2  3  4  5  6  7  8  9 10 11 12 13 14 15 16 17 18 19 20 21 22 23\n",
      " 24 25 26 27 28 29], shape=(30,), dtype=int32) \n",
      "\n",
      "tf.Tensor(\n",
      "[[ 0  1  2  3  4]\n",
      " [ 5  6  7  8  9]\n",
      " [10 11 12 13 14]\n",
      " [15 16 17 18 19]\n",
      " [20 21 22 23 24]\n",
      " [25 26 27 28 29]], shape=(6, 5), dtype=int32) \n",
      "\n",
      "tf.Tensor(\n",
      "[[ 0  1  2  3  4  5  6  7  8  9]\n",
      " [10 11 12 13 14 15 16 17 18 19]\n",
      " [20 21 22 23 24 25 26 27 28 29]], shape=(3, 10), dtype=int32)\n"
     ]
    }
   ],
   "source": [
    "print(tf.reshape(rank_3_tensor, [-1]), \"\\n\")  # Flatten the tensor\n",
    "print(tf.reshape(rank_3_tensor, [3 * 2, 5]), \"\\n\")\n",
    "print(tf.reshape(rank_3_tensor, [3, -1]))"
   ]
  },
  {
   "cell_type": "markdown",
   "metadata": {},
   "source": [
    "### **8. Broadcasting**\n",
    "\n",
    "#### **Understanding Broadcasting**\n",
    "\n",
    "Broadcasting Basics:"
   ]
  },
  {
   "cell_type": "code",
   "execution_count": 95,
   "metadata": {},
   "outputs": [
    {
     "name": "stdout",
     "output_type": "stream",
     "text": [
      "tf.Tensor([2 4 6], shape=(3,), dtype=int32)\n",
      "tf.Tensor([2 4 6], shape=(3,), dtype=int32)\n",
      "tf.Tensor([2 4 6], shape=(3,), dtype=int32)\n"
     ]
    }
   ],
   "source": [
    "x = tf.constant([1, 2, 3])\n",
    "y = tf.constant(2)\n",
    "z = tf.constant([2, 2, 2])\n",
    "print(tf.multiply(x, 2))\n",
    "print(x * y)\n",
    "print(x * z)"
   ]
  },
  {
   "cell_type": "markdown",
   "metadata": {},
   "source": [
    "Broadcasting in Higher Dimensions:"
   ]
  },
  {
   "cell_type": "code",
   "execution_count": 96,
   "metadata": {},
   "outputs": [
    {
     "name": "stdout",
     "output_type": "stream",
     "text": [
      "tf.Tensor(\n",
      "[[1]\n",
      " [2]\n",
      " [3]], shape=(3, 1), dtype=int32) \n",
      "\n",
      "tf.Tensor([1 2 3 4], shape=(4,), dtype=int32) \n",
      "\n",
      "tf.Tensor(\n",
      "[[ 1  2  3  4]\n",
      " [ 2  4  6  8]\n",
      " [ 3  6  9 12]], shape=(3, 4), dtype=int32)\n"
     ]
    }
   ],
   "source": [
    "x = tf.reshape(x, [3, 1])\n",
    "y = tf.range(1, 5)\n",
    "print(x, \"\\n\")\n",
    "print(y, \"\\n\")\n",
    "print(tf.multiply(x, y))"
   ]
  },
  {
   "cell_type": "markdown",
   "metadata": {},
   "source": [
    "Manual Broadcasting"
   ]
  },
  {
   "cell_type": "code",
   "execution_count": 97,
   "metadata": {},
   "outputs": [
    {
     "name": "stdout",
     "output_type": "stream",
     "text": [
      "tf.Tensor(\n",
      "[[ 1  2  3  4]\n",
      " [ 2  4  6  8]\n",
      " [ 3  6  9 12]], shape=(3, 4), dtype=int32)\n",
      "tf.Tensor(\n",
      "[[1 2 3]\n",
      " [1 2 3]\n",
      " [1 2 3]], shape=(3, 3), dtype=int32)\n"
     ]
    }
   ],
   "source": [
    "x_stretch = tf.constant([[1, 1, 1, 1], [2, 2, 2, 2], [3, 3, 3, 3]])\n",
    "y_stretch = tf.constant([[1, 2, 3, 4], [1, 2, 3, 4], [1, 2, 3, 4]])\n",
    "print(x_stretch * y_stretch)  # Element-wise multiplication\n",
    "print(tf.broadcast_to(tf.constant([1, 2, 3]), [3, 3]))"
   ]
  },
  {
   "cell_type": "markdown",
   "metadata": {},
   "source": [
    "This guide covers the basics of TensorFlow and provides a foundation for more advanced topics. Feel free to experiment with these snippets to deepen your understanding of TensorFlow and tensor operations."
   ]
  }
 ],
 "metadata": {
  "kernelspec": {
   "display_name": "Python 3",
   "language": "python",
   "name": "python3"
  },
  "language_info": {
   "codemirror_mode": {
    "name": "ipython",
    "version": 3
   },
   "file_extension": ".py",
   "mimetype": "text/x-python",
   "name": "python",
   "nbconvert_exporter": "python",
   "pygments_lexer": "ipython3",
   "version": "3.11.9"
  }
 },
 "nbformat": 4,
 "nbformat_minor": 2
}
