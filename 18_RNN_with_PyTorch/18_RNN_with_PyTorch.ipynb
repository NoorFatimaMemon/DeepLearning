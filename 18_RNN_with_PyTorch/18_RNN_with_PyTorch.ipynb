{
 "cells": [
  {
   "cell_type": "markdown",
   "metadata": {},
   "source": [
    "# **Recurrent Neural Network (RNN): Classifying Names with a Character-Level RNN**\n",
    "\n",
    "+ **Character-Level RNN**: Analyzes names one character at a time to identify language or category.\n",
    "\n",
    "+ **Fine-Grained Patterns**: Captures intricate patterns by examining character sequences and learning to classify names into predefined categories (e.g., \"English\", \"Portuguese\", \"Finnish\")."
   ]
  },
  {
   "cell_type": "markdown",
   "metadata": {},
   "source": [
    "### **Importing Libraries**"
   ]
  },
  {
   "cell_type": "code",
   "execution_count": 12,
   "metadata": {},
   "outputs": [],
   "source": [
    "import torch\n",
    "import torch.nn as nn\n",
    "import random\n",
    "import string\n",
    "import matplotlib.pyplot as plt\n",
    "import glob\n",
    "import os\n",
    "import unicodedata\n",
    "import time\n",
    "import math"
   ]
  },
  {
   "cell_type": "markdown",
   "metadata": {},
   "source": [
    "### **Creating the Dataset**"
   ]
  },
  {
   "cell_type": "code",
   "execution_count": 2,
   "metadata": {},
   "outputs": [],
   "source": [
    "data = {\n",
    "    'English': ['Jöhn', 'Ròbert', 'Michäel', 'Wïlliam', 'Davíd', 'Rïchard', 'Jöseph', 'Chärles', 'Thomås', 'Jämes'],\n",
    "    'Spanish': ['Jósé', 'Cárlos', 'Luís', 'Francíscó', 'Jävier', 'Migüel', 'António', 'Manuël', 'Francïsça', 'Mária'],\n",
    "    'French': ['Jeàn', 'Pièrre', 'Jäcques', 'Mïchel', 'Claûde', 'Loùis', 'Hènri', 'Pàul', 'Ròbert', 'Dâniel'],\n",
    "    'German': ['Häns', 'Frîedrïch', 'Wïlhelm', 'Kärl', 'Jòhann', 'Jákob', 'Lùdwîg', 'Hermänn', 'Òtto', 'Álfred'],\n",
    "    'Italian': ['Gïuseppe', 'Giôvanni', 'Antônio', 'Giûlia', 'Francesçä', 'Alëssandro', 'Mâtteo', 'Màrco', 'Päolo', 'Lücïa'],\n",
    "    'Russian': ['Ívan', 'Alëxeï', 'Dmîtri', 'Sergeï', 'Vládi̥mir', 'Anastäsia', 'Nátàlia', 'Ôlga', 'Ïrina', 'Svetlänä'],\n",
    "    'Chinese': ['Wèi', 'Xiäo', 'Lî', 'Wâng', 'Chèn', 'Yäng', 'Zhâng', 'Lïu', 'Huáng', 'Zhào'],\n",
    "    'Japanese': ['Yüki', 'Hiröshi', 'Kënji', 'Miyüki', 'Sakürä', 'Tärô', 'Yôko', 'Käzuki', 'Näoko', 'Hïkaru'],\n",
    "    'Korean': ['Jïn', 'Häe', 'Mïn', 'Sôo', 'Jüng', 'Yôon', 'Häna', 'Seôk', 'Kyunğ', 'Ëun'],\n",
    "    'Arabic': ['Âhmed', 'Fätïma', 'Möhammed', 'Äisha', 'Ömar', 'Zäïnáb', 'Alî', 'Hässän', 'Hüssein', 'Sälmä'],\n",
    "    'Turkish': ['Ähmet', 'Mehmet', 'Âyşe', 'Fatmä', 'Müstafä', 'Ëmine', 'Âlî', 'Hüseyin', 'Hätice', 'Bûrcü'],\n",
    "    'Portuguese': ['Migüel', 'Âna', 'Joãö', 'Märîa', 'Pëdro', 'Cârlos', 'Lücia', 'Luîs', 'Fërnända', 'Ricárdo'],\n",
    "    'Dutch': ['Jân', 'Piéter', 'Ânna', 'Klääs', 'Marîa', 'Hëndrik', 'Èls', 'Johân', 'Söfïe', 'Gërri̥t'],\n",
    "    'Swedish': ['Êrik', 'Ânna', 'Lårs', 'Mariâ', 'Karîn', 'Ôlof', 'Ëva', 'Për', 'Ingrîd', 'Jôhan'],\n",
    "    'Danish': ['Hâns', 'Kîrsten', 'Lárs', 'Ânna', 'Mörtën', 'Sôfîe', 'Jëns', 'Îda', 'Mïkkel', 'Hëlle'],\n",
    "    'Norwegian': ['Ôle', 'Ïngrid', 'Bjørn', 'Sÿnnøve', 'Èrik', 'Sölveig', 'Kjetîl', 'Hïlde', 'Tôre', 'Lîv'],\n",
    "    'Finnish': ['Mïkko', 'Kätri', 'Pëkka', 'Ëlina', 'Jãri', 'Hëli', 'Mätti', 'Lèena', 'Kàlle', 'Päula'],\n",
    "    'Polish': ['Jàkub', 'Àgnie̥szka', 'Päwel', 'Mârtâ', 'Jän', 'Ânna', 'Krÿsztof', 'Ëwa', 'Märîusz', 'Beàta'],\n",
    "    'Czech': ['Jàn', 'Ëva', 'Pêtr', 'Marïe', 'Jïří', 'Lucïe', 'Martîn', 'Katerïna', 'Tômaš', 'Pâvla'],\n",
    "    'Hungarian': ['Lászlô', 'Kâtḁlin', 'Jánôs', 'Ërzsébet', 'Gâbor', 'Ânna', 'Mïklôs', 'Zsûzsanna', 'Ïstvân', 'Máriä'],\n",
    "    'Romanian': ['Ïon', 'Marîa', 'Geörge', 'Ëlëna', 'Mïhai', 'Ioàna', 'Stëfan', 'Adrïâna', 'Vlâd', 'Mônica'],\n",
    "    'Greek': ['Níkos', 'Marîa', 'Geôrgë', 'Käte̥rina', 'Yïánnïs', 'Êleni', 'Dimitris', 'Ânna', 'Ândreas', 'Vâsiliki'],\n",
    "    'Hebrew': ['Dâvid', 'Miriäm', 'Yôsëf', 'Räçhël', 'Isàac', 'Särah', 'Ábraham', 'Lëah', 'Jäcob', 'Ësther'],\n",
    "    'Thai': ['Sômchai', 'Südä', 'Anándä', 'Mänêe', 'Näi', 'Präpa', 'Sômchai', 'Nông', 'Chäi', 'Jït'],\n",
    "    'Vietnamese': ['Ngüyën', 'Thï', 'Mïnh', 'Län', 'Ánh', 'Bînh', 'Thâo', 'Hânh', 'Tûan', 'Dûng'],\n",
    "    'Hindi': ['Räj', 'Pôoja', 'Âmit', 'Sünïta', 'Râvi', 'Anjäli', 'Râkesh', 'Prïya', 'Vïjay', 'Nêha'],\n",
    "    'Punjabi': ['Härpreet', 'Jaspréet', 'Bäljit', 'Amrît', 'Gürpreet', 'Sïmran', 'Räjinder', 'Pärmïnder', 'Mänpreet', 'Kîran'],\n",
    "    'Bengali': ['Âmit', 'Prïya', 'Sänjay', 'Ânjali', 'Räjesh', 'Rïna', 'Subràta', 'Käjal', 'Râvi', 'Mïtâ'],\n",
    "    'Malay': ['Âhmad', 'Sïtï', 'Mohd', 'Nür', 'Âli', 'Âisyah', 'Jämil', 'Fätïmah', 'Räni', 'Shäh'],\n",
    "    'Swahili': ['Jüma', 'Âmanï', 'Nïa', 'Zürï', 'Jäbärï', 'Âsha', 'Kwame', 'Nïä', 'Hakïm', 'Mwanä'],\n",
    "    'Xhosa': ['Thäbo', 'Zöla', 'Lïndiwe', 'Sïpho', 'Nölwazi', 'Mkhïze', 'Nändï', 'Bôngani', 'Sänële', 'Thêmbi'],\n",
    "    'Zulu': ['Môsës', 'Zänele', 'Thûlanï', 'Nömsa', 'Lindï', 'Sïphïwe', 'Bongânï', 'Dïneo', 'Khanÿi', 'Jäbulanï'],\n",
    "    'Afrikaans': ['Pïëter', 'Ânna', 'Jân', 'Märïa', 'Hërman', 'Pëtra', 'Hëndrîk', 'Ëlïze', 'Köbus', 'Êlsie'],\n",
    "    'Armenian': ['Ära', 'Lüsïnë', 'Vardân', 'Ânahit', 'Gëvörg', 'Ârpîne', 'Tïgran', 'Häsmik', 'Näre̥k', 'Mariäm'],\n",
    "    'Georgian': ['Giôrgi', 'Nïno', 'Mïkheïl', 'Tamär', 'Lëvan', 'Këtëvan', 'Väkhẗang', 'Tinätin', 'Zûra', 'Nâtiä']\n",
    "}"
   ]
  },
  {
   "cell_type": "markdown",
   "metadata": {},
   "source": [
    "### **directory for synthetic data**"
   ]
  },
  {
   "cell_type": "code",
   "execution_count": 3,
   "metadata": {},
   "outputs": [
    {
     "name": "stdout",
     "output_type": "stream",
     "text": [
      "Synthetic dataset created.\n"
     ]
    }
   ],
   "source": [
    "data_dir = 'data/names'\n",
    "os.makedirs(data_dir, exist_ok=True)\n",
    "\n",
    "for language, names in data.items():\n",
    "    with open(os.path.join(data_dir, f'{language}.txt'), 'w', encoding='utf-8') as file:\n",
    "        for name in names:\n",
    "            file.write(name + '\\n')\n",
    "\n",
    "print(\"Synthetic dataset created.\")"
   ]
  },
  {
   "cell_type": "markdown",
   "metadata": {},
   "source": [
    "### **Preparing the Dataset**"
   ]
  },
  {
   "cell_type": "code",
   "execution_count": 4,
   "metadata": {},
   "outputs": [
    {
     "name": "stdout",
     "output_type": "stream",
     "text": [
      "52\n"
     ]
    }
   ],
   "source": [
    "all_letters = string.ascii_letters\n",
    "n_letters = len(all_letters)\n",
    "print(n_letters)"
   ]
  },
  {
   "cell_type": "code",
   "execution_count": 5,
   "metadata": {},
   "outputs": [],
   "source": [
    "# Turn a Unicode string to plain ASCII\n",
    "def unicodeToAscii(s):\n",
    "    return ''.join(\n",
    "        c for c in unicodedata.normalize('NFD', s) \n",
    "        if unicodedata.category(c) != 'Mn'\n",
    "        and c in all_letters\n",
    "    )"
   ]
  },
  {
   "cell_type": "code",
   "execution_count": 6,
   "metadata": {},
   "outputs": [],
   "source": [
    "# below function read the names from a file, convert them to ASCII, and return them as a list.\n",
    "def readLines(filename):\n",
    "    with open(filename, encoding='utf-8') as file:\n",
    "        lines = file.read().strip().split('\\n')\n",
    "    return [unicodeToAscii(line) for line in lines]"
   ]
  },
  {
   "cell_type": "code",
   "execution_count": 7,
   "metadata": {},
   "outputs": [],
   "source": [
    "# to create dictionary to map each language (category) to a list of names\n",
    "def createCategoryLines():\n",
    "    language_lines, all_languages= {}, []\n",
    "    for filename in glob.glob(os.path.join(data_dir, '*.txt')):\n",
    "        language = os.path.splitext(os.path.basename(filename))[0]\n",
    "        all_languages.append(language)\n",
    "        lines = readLines(filename)\n",
    "        language_lines[language] = lines\n",
    "    return language_lines, all_languages"
   ]
  },
  {
   "cell_type": "code",
   "execution_count": 8,
   "metadata": {},
   "outputs": [],
   "source": [
    "language_lines, all_languages = createCategoryLines()\n",
    "n_categories = len(all_languages)"
   ]
  },
  {
   "cell_type": "code",
   "execution_count": 9,
   "metadata": {},
   "outputs": [
    {
     "data": {
      "text/plain": [
       "{'Afrikaans': ['Pieter',\n",
       "  'Anna',\n",
       "  'Jan',\n",
       "  'Maria',\n",
       "  'Herman',\n",
       "  'Petra',\n",
       "  'Hendrik',\n",
       "  'Elize',\n",
       "  'Kobus',\n",
       "  'Elsie'],\n",
       " 'Arabic': ['Ahmed',\n",
       "  'Fatima',\n",
       "  'Mohammed',\n",
       "  'Aisha',\n",
       "  'Omar',\n",
       "  'Zainab',\n",
       "  'Ali',\n",
       "  'Hassan',\n",
       "  'Hussein',\n",
       "  'Salma'],\n",
       " 'Armenian': ['Ara',\n",
       "  'Lusine',\n",
       "  'Vardan',\n",
       "  'Anahit',\n",
       "  'Gevorg',\n",
       "  'Arpine',\n",
       "  'Tigran',\n",
       "  'Hasmik',\n",
       "  'Narek',\n",
       "  'Mariam'],\n",
       " 'Bengali': ['Amit',\n",
       "  'Priya',\n",
       "  'Sanjay',\n",
       "  'Anjali',\n",
       "  'Rajesh',\n",
       "  'Rina',\n",
       "  'Subrata',\n",
       "  'Kajal',\n",
       "  'Ravi',\n",
       "  'Mita'],\n",
       " 'Chinese': ['Wei',\n",
       "  'Xiao',\n",
       "  'Li',\n",
       "  'Wang',\n",
       "  'Chen',\n",
       "  'Yang',\n",
       "  'Zhang',\n",
       "  'Liu',\n",
       "  'Huang',\n",
       "  'Zhao'],\n",
       " 'Czech': ['Jan',\n",
       "  'Eva',\n",
       "  'Petr',\n",
       "  'Marie',\n",
       "  'Jiri',\n",
       "  'Lucie',\n",
       "  'Martin',\n",
       "  'Katerina',\n",
       "  'Tomas',\n",
       "  'Pavla'],\n",
       " 'Danish': ['Hans',\n",
       "  'Kirsten',\n",
       "  'Lars',\n",
       "  'Anna',\n",
       "  'Morten',\n",
       "  'Sofie',\n",
       "  'Jens',\n",
       "  'Ida',\n",
       "  'Mikkel',\n",
       "  'Helle'],\n",
       " 'Dutch': ['Jan',\n",
       "  'Pieter',\n",
       "  'Anna',\n",
       "  'Klaas',\n",
       "  'Maria',\n",
       "  'Hendrik',\n",
       "  'Els',\n",
       "  'Johan',\n",
       "  'Sofie',\n",
       "  'Gerrit'],\n",
       " 'English': ['John',\n",
       "  'Robert',\n",
       "  'Michael',\n",
       "  'William',\n",
       "  'David',\n",
       "  'Richard',\n",
       "  'Joseph',\n",
       "  'Charles',\n",
       "  'Thomas',\n",
       "  'James'],\n",
       " 'Finnish': ['Mikko',\n",
       "  'Katri',\n",
       "  'Pekka',\n",
       "  'Elina',\n",
       "  'Jari',\n",
       "  'Heli',\n",
       "  'Matti',\n",
       "  'Leena',\n",
       "  'Kalle',\n",
       "  'Paula'],\n",
       " 'French': ['Jean',\n",
       "  'Pierre',\n",
       "  'Jacques',\n",
       "  'Michel',\n",
       "  'Claude',\n",
       "  'Louis',\n",
       "  'Henri',\n",
       "  'Paul',\n",
       "  'Robert',\n",
       "  'Daniel'],\n",
       " 'Georgian': ['Giorgi',\n",
       "  'Nino',\n",
       "  'Mikheil',\n",
       "  'Tamar',\n",
       "  'Levan',\n",
       "  'Ketevan',\n",
       "  'Vakhtang',\n",
       "  'Tinatin',\n",
       "  'Zura',\n",
       "  'Natia'],\n",
       " 'German': ['Hans',\n",
       "  'Friedrich',\n",
       "  'Wilhelm',\n",
       "  'Karl',\n",
       "  'Johann',\n",
       "  'Jakob',\n",
       "  'Ludwig',\n",
       "  'Hermann',\n",
       "  'Otto',\n",
       "  'Alfred'],\n",
       " 'Greek': ['Nikos',\n",
       "  'Maria',\n",
       "  'George',\n",
       "  'Katerina',\n",
       "  'Yiannis',\n",
       "  'Eleni',\n",
       "  'Dimitris',\n",
       "  'Anna',\n",
       "  'Andreas',\n",
       "  'Vasiliki'],\n",
       " 'Hebrew': ['David',\n",
       "  'Miriam',\n",
       "  'Yosef',\n",
       "  'Rachel',\n",
       "  'Isaac',\n",
       "  'Sarah',\n",
       "  'Abraham',\n",
       "  'Leah',\n",
       "  'Jacob',\n",
       "  'Esther'],\n",
       " 'Hindi': ['Raj',\n",
       "  'Pooja',\n",
       "  'Amit',\n",
       "  'Sunita',\n",
       "  'Ravi',\n",
       "  'Anjali',\n",
       "  'Rakesh',\n",
       "  'Priya',\n",
       "  'Vijay',\n",
       "  'Neha'],\n",
       " 'Hungarian': ['Laszlo',\n",
       "  'Katalin',\n",
       "  'Janos',\n",
       "  'Erzsebet',\n",
       "  'Gabor',\n",
       "  'Anna',\n",
       "  'Miklos',\n",
       "  'Zsuzsanna',\n",
       "  'Istvan',\n",
       "  'Maria'],\n",
       " 'Italian': ['Giuseppe',\n",
       "  'Giovanni',\n",
       "  'Antonio',\n",
       "  'Giulia',\n",
       "  'Francesca',\n",
       "  'Alessandro',\n",
       "  'Matteo',\n",
       "  'Marco',\n",
       "  'Paolo',\n",
       "  'Lucia'],\n",
       " 'Japanese': ['Yuki',\n",
       "  'Hiroshi',\n",
       "  'Kenji',\n",
       "  'Miyuki',\n",
       "  'Sakura',\n",
       "  'Taro',\n",
       "  'Yoko',\n",
       "  'Kazuki',\n",
       "  'Naoko',\n",
       "  'Hikaru'],\n",
       " 'Korean': ['Jin',\n",
       "  'Hae',\n",
       "  'Min',\n",
       "  'Soo',\n",
       "  'Jung',\n",
       "  'Yoon',\n",
       "  'Hana',\n",
       "  'Seok',\n",
       "  'Kyung',\n",
       "  'Eun'],\n",
       " 'Malay': ['Ahmad',\n",
       "  'Siti',\n",
       "  'Mohd',\n",
       "  'Nur',\n",
       "  'Ali',\n",
       "  'Aisyah',\n",
       "  'Jamil',\n",
       "  'Fatimah',\n",
       "  'Rani',\n",
       "  'Shah'],\n",
       " 'Norwegian': ['Ole',\n",
       "  'Ingrid',\n",
       "  'Bjrn',\n",
       "  'Synnve',\n",
       "  'Erik',\n",
       "  'Solveig',\n",
       "  'Kjetil',\n",
       "  'Hilde',\n",
       "  'Tore',\n",
       "  'Liv'],\n",
       " 'Polish': ['Jakub',\n",
       "  'Agnieszka',\n",
       "  'Pawel',\n",
       "  'Marta',\n",
       "  'Jan',\n",
       "  'Anna',\n",
       "  'Krysztof',\n",
       "  'Ewa',\n",
       "  'Mariusz',\n",
       "  'Beata'],\n",
       " 'Portuguese': ['Miguel',\n",
       "  'Ana',\n",
       "  'Joao',\n",
       "  'Maria',\n",
       "  'Pedro',\n",
       "  'Carlos',\n",
       "  'Lucia',\n",
       "  'Luis',\n",
       "  'Fernanda',\n",
       "  'Ricardo'],\n",
       " 'Punjabi': ['Harpreet',\n",
       "  'Jaspreet',\n",
       "  'Baljit',\n",
       "  'Amrit',\n",
       "  'Gurpreet',\n",
       "  'Simran',\n",
       "  'Rajinder',\n",
       "  'Parminder',\n",
       "  'Manpreet',\n",
       "  'Kiran'],\n",
       " 'Romanian': ['Ion',\n",
       "  'Maria',\n",
       "  'George',\n",
       "  'Elena',\n",
       "  'Mihai',\n",
       "  'Ioana',\n",
       "  'Stefan',\n",
       "  'Adriana',\n",
       "  'Vlad',\n",
       "  'Monica'],\n",
       " 'Russian': ['Ivan',\n",
       "  'Alexei',\n",
       "  'Dmitri',\n",
       "  'Sergei',\n",
       "  'Vladimir',\n",
       "  'Anastasia',\n",
       "  'Natalia',\n",
       "  'Olga',\n",
       "  'Irina',\n",
       "  'Svetlana'],\n",
       " 'Spanish': ['Jose',\n",
       "  'Carlos',\n",
       "  'Luis',\n",
       "  'Francisco',\n",
       "  'Javier',\n",
       "  'Miguel',\n",
       "  'Antonio',\n",
       "  'Manuel',\n",
       "  'Francisca',\n",
       "  'Maria'],\n",
       " 'Swahili': ['Juma',\n",
       "  'Amani',\n",
       "  'Nia',\n",
       "  'Zuri',\n",
       "  'Jabari',\n",
       "  'Asha',\n",
       "  'Kwame',\n",
       "  'Nia',\n",
       "  'Hakim',\n",
       "  'Mwana'],\n",
       " 'Swedish': ['Erik',\n",
       "  'Anna',\n",
       "  'Lars',\n",
       "  'Maria',\n",
       "  'Karin',\n",
       "  'Olof',\n",
       "  'Eva',\n",
       "  'Per',\n",
       "  'Ingrid',\n",
       "  'Johan'],\n",
       " 'Thai': ['Somchai',\n",
       "  'Suda',\n",
       "  'Ananda',\n",
       "  'Manee',\n",
       "  'Nai',\n",
       "  'Prapa',\n",
       "  'Somchai',\n",
       "  'Nong',\n",
       "  'Chai',\n",
       "  'Jit'],\n",
       " 'Turkish': ['Ahmet',\n",
       "  'Mehmet',\n",
       "  'Ayse',\n",
       "  'Fatma',\n",
       "  'Mustafa',\n",
       "  'Emine',\n",
       "  'Ali',\n",
       "  'Huseyin',\n",
       "  'Hatice',\n",
       "  'Burcu'],\n",
       " 'Vietnamese': ['Nguyen',\n",
       "  'Thi',\n",
       "  'Minh',\n",
       "  'Lan',\n",
       "  'Anh',\n",
       "  'Binh',\n",
       "  'Thao',\n",
       "  'Hanh',\n",
       "  'Tuan',\n",
       "  'Dung'],\n",
       " 'Xhosa': ['Thabo',\n",
       "  'Zola',\n",
       "  'Lindiwe',\n",
       "  'Sipho',\n",
       "  'Nolwazi',\n",
       "  'Mkhize',\n",
       "  'Nandi',\n",
       "  'Bongani',\n",
       "  'Sanele',\n",
       "  'Thembi'],\n",
       " 'Zulu': ['Moses',\n",
       "  'Zanele',\n",
       "  'Thulani',\n",
       "  'Nomsa',\n",
       "  'Lindi',\n",
       "  'Siphiwe',\n",
       "  'Bongani',\n",
       "  'Dineo',\n",
       "  'Khanyi',\n",
       "  'Jabulani']}"
      ]
     },
     "execution_count": 9,
     "metadata": {},
     "output_type": "execute_result"
    }
   ],
   "source": [
    "language_lines "
   ]
  },
  {
   "cell_type": "code",
   "execution_count": 10,
   "metadata": {},
   "outputs": [
    {
     "data": {
      "text/plain": [
       "['Afrikaans',\n",
       " 'Arabic',\n",
       " 'Armenian',\n",
       " 'Bengali',\n",
       " 'Chinese',\n",
       " 'Czech',\n",
       " 'Danish',\n",
       " 'Dutch',\n",
       " 'English',\n",
       " 'Finnish',\n",
       " 'French',\n",
       " 'Georgian',\n",
       " 'German',\n",
       " 'Greek',\n",
       " 'Hebrew',\n",
       " 'Hindi',\n",
       " 'Hungarian',\n",
       " 'Italian',\n",
       " 'Japanese',\n",
       " 'Korean',\n",
       " 'Malay',\n",
       " 'Norwegian',\n",
       " 'Polish',\n",
       " 'Portuguese',\n",
       " 'Punjabi',\n",
       " 'Romanian',\n",
       " 'Russian',\n",
       " 'Spanish',\n",
       " 'Swahili',\n",
       " 'Swedish',\n",
       " 'Thai',\n",
       " 'Turkish',\n",
       " 'Vietnamese',\n",
       " 'Xhosa',\n",
       " 'Zulu']"
      ]
     },
     "execution_count": 10,
     "metadata": {},
     "output_type": "execute_result"
    }
   ],
   "source": [
    "all_languages"
   ]
  },
  {
   "cell_type": "markdown",
   "metadata": {},
   "source": [
    "### **Building the model**"
   ]
  },
  {
   "cell_type": "code",
   "execution_count": 11,
   "metadata": {},
   "outputs": [],
   "source": [
    "class RNN(nn.Module):\n",
    "    def __init__(self, input_size, hidden_size, output_size):\n",
    "        super(RNN, self).__init__()\n",
    "        self.hidden_size = hidden_size\n",
    "        self.i2h = nn.Linear(input_size + hidden_size, hidden_size)\n",
    "        self.i2o = nn.Linear(input_size + hidden_size, output_size)\n",
    "        self.softmax = nn.LogSoftmax(dim=1)\n",
    "\n",
    "    def forward(self, input, hidden):\n",
    "        combined = torch.cat((input, hidden), 1)\n",
    "        hidden = self.i2h(combined)\n",
    "        output = self.i2o(combined)\n",
    "        output = self.softmax(output)\n",
    "        return output, hidden\n",
    "\n",
    "    def initHidden(self):\n",
    "        return torch.zeros(1, self.hidden_size)"
   ]
  },
  {
   "cell_type": "markdown",
   "metadata": {},
   "source": [
    "Example: If the input is a tensor representing the letter \"J\", the model will output the probabilities of each language (e.g., 0.7 for \"English\")."
   ]
  },
  {
   "cell_type": "markdown",
   "metadata": {},
   "source": [
    "### ****Turning Names into Tensors****"
   ]
  },
  {
   "cell_type": "code",
   "execution_count": 13,
   "metadata": {},
   "outputs": [
    {
     "data": {
      "text/plain": [
       "1"
      ]
     },
     "execution_count": 13,
     "metadata": {},
     "output_type": "execute_result"
    }
   ],
   "source": [
    "# Converts a letter to its index in `all_letters`.\n",
    "def letterToIndex(letter):\n",
    "    return all_letters.find(letter)\n",
    "\n",
    "letterToIndex('b')"
   ]
  },
  {
   "cell_type": "code",
   "execution_count": 14,
   "metadata": {},
   "outputs": [
    {
     "data": {
      "text/plain": [
       "tensor([[0., 1., 0., 0., 0., 0., 0., 0., 0., 0., 0., 0., 0., 0., 0., 0., 0., 0.,\n",
       "         0., 0., 0., 0., 0., 0., 0., 0., 0., 0., 0., 0., 0., 0., 0., 0., 0., 0.,\n",
       "         0., 0., 0., 0., 0., 0., 0., 0., 0., 0., 0., 0., 0., 0., 0., 0.]])"
      ]
     },
     "execution_count": 14,
     "metadata": {},
     "output_type": "execute_result"
    }
   ],
   "source": [
    "# Converts a letter to a one-hot encoded tensor.\n",
    "def letterToTensor(letter):\n",
    "    tensor = torch.zeros(1, n_letters)\n",
    "    tensor[0][letterToIndex(letter)] = 1\n",
    "    return tensor\n",
    "\n",
    "letterToTensor('b')"
   ]
  },
  {
   "cell_type": "code",
   "execution_count": 15,
   "metadata": {},
   "outputs": [
    {
     "data": {
      "text/plain": [
       "tensor([[[0., 0., 0., 0., 0., 0., 0., 0., 0., 0., 0., 0., 0., 0., 0., 0., 0.,\n",
       "          0., 0., 0., 0., 0., 0., 0., 0., 0., 0., 1., 0., 0., 0., 0., 0., 0.,\n",
       "          0., 0., 0., 0., 0., 0., 0., 0., 0., 0., 0., 0., 0., 0., 0., 0., 0.,\n",
       "          0.]],\n",
       "\n",
       "        [[0., 0., 0., 0., 0., 0., 0., 0., 0., 0., 0., 0., 0., 0., 1., 0., 0.,\n",
       "          0., 0., 0., 0., 0., 0., 0., 0., 0., 0., 0., 0., 0., 0., 0., 0., 0.,\n",
       "          0., 0., 0., 0., 0., 0., 0., 0., 0., 0., 0., 0., 0., 0., 0., 0., 0.,\n",
       "          0.]],\n",
       "\n",
       "        [[0., 1., 0., 0., 0., 0., 0., 0., 0., 0., 0., 0., 0., 0., 0., 0., 0.,\n",
       "          0., 0., 0., 0., 0., 0., 0., 0., 0., 0., 0., 0., 0., 0., 0., 0., 0.,\n",
       "          0., 0., 0., 0., 0., 0., 0., 0., 0., 0., 0., 0., 0., 0., 0., 0., 0.,\n",
       "          0.]]])"
      ]
     },
     "execution_count": 15,
     "metadata": {},
     "output_type": "execute_result"
    }
   ],
   "source": [
    "# Converts a line (name) to a tensor of one-hot encoded letters.\n",
    "def lineToTensor(line):\n",
    "    tensor = torch.zeros(len(line), 1, n_letters)\n",
    "    for li, letter in enumerate(line):\n",
    "        tensor[li][0][letterToIndex(letter)] = 1\n",
    "    return tensor\n",
    "\n",
    "lineToTensor('Bob')"
   ]
  },
  {
   "cell_type": "code",
   "execution_count": 16,
   "metadata": {},
   "outputs": [],
   "source": [
    "def randomChoice(all_languages):\n",
    "    return all_languages[random.randint(0, len(all_languages) - 1)]\n",
    "\n",
    "# Randomly selects a language and a corresponding name, and prepares their tensors.\n",
    "def randomTrainingExample():\n",
    "    category = randomChoice(all_languages)\n",
    "    line = randomChoice(language_lines[category])\n",
    "    category_tensor = torch.tensor([all_languages.index(category)], dtype=torch.long)\n",
    "    line_tensor = lineToTensor(line)\n",
    "    return category, line, category_tensor, line_tensor"
   ]
  },
  {
   "cell_type": "markdown",
   "metadata": {},
   "source": [
    "### **Time Calculation**"
   ]
  },
  {
   "cell_type": "code",
   "execution_count": 17,
   "metadata": {},
   "outputs": [],
   "source": [
    "def timeSince(since):\n",
    "    now = time.time()\n",
    "    s = now - since\n",
    "    m = math.floor(s / 60)\n",
    "    s -= m * 60\n",
    "    return '%dm %ds' % (m, s)"
   ]
  },
  {
   "cell_type": "code",
   "execution_count": 18,
   "metadata": {},
   "outputs": [],
   "source": [
    "n_hidden = 128\n",
    "rnn = RNN(n_letters, n_hidden, n_categories)\n",
    "criterion = nn.NLLLoss()\n",
    "learning_rate = 0.005"
   ]
  },
  {
   "cell_type": "markdown",
   "metadata": {},
   "source": [
    "### **Training Function**"
   ]
  },
  {
   "cell_type": "code",
   "execution_count": 19,
   "metadata": {},
   "outputs": [],
   "source": [
    "def train(category_tensor, line_tensor):\n",
    "    hidden = rnn.initHidden()\n",
    "    rnn.zero_grad()\n",
    "\n",
    "    for i in range(line_tensor.size()[0]):\n",
    "        output, hidden = rnn(line_tensor[i], hidden)\n",
    "\n",
    "    loss = criterion(output, category_tensor)\n",
    "    loss.backward()\n",
    "\n",
    "    for p in rnn.parameters():\n",
    "        p.data.add_(p.grad.data, alpha=-learning_rate)\n",
    "\n",
    "    return output, loss.item()\n"
   ]
  },
  {
   "cell_type": "markdown",
   "metadata": {},
   "source": [
    "### **Evaluation and Extractor Category from Output Functions**"
   ]
  },
  {
   "cell_type": "code",
   "execution_count": 20,
   "metadata": {},
   "outputs": [],
   "source": [
    "def evaluate(line_tensor):\n",
    "    hidden = rnn.initHidden()\n",
    "    for i in range(line_tensor.size()[0]):\n",
    "        output, hidden = rnn(line_tensor[i], hidden)\n",
    "    return output\n",
    "\n",
    "def categoryFromOutput(output):\n",
    "    top_n, top_i = output.topk(1)\n",
    "    category_i = top_i[0].item()\n",
    "    return all_languages[category_i], category_i"
   ]
  },
  {
   "cell_type": "markdown",
   "metadata": {},
   "source": [
    "### **Accuracy Calculation**"
   ]
  },
  {
   "cell_type": "code",
   "execution_count": 21,
   "metadata": {},
   "outputs": [],
   "source": [
    "def calculate_accuracy():\n",
    "    correct = 0\n",
    "    total = 0\n",
    "    for category in all_languages:\n",
    "        for name in language_lines[category]:\n",
    "            category_tensor = torch.tensor([all_languages.index(category)], dtype=torch.long)\n",
    "            line_tensor = lineToTensor(name)\n",
    "            output = evaluate(line_tensor)\n",
    "            _, predicted = torch.max(output, 1)\n",
    "            if predicted.item() == all_languages.index(category):\n",
    "                correct += 1\n",
    "            total += 1\n",
    "    return correct / total"
   ]
  },
  {
   "cell_type": "markdown",
   "metadata": {},
   "source": [
    "### **Training**"
   ]
  },
  {
   "cell_type": "code",
   "execution_count": 22,
   "metadata": {},
   "outputs": [
    {
     "name": "stdout",
     "output_type": "stream",
     "text": [
      "5000 10% (0m 19s) 3.1438 Liv / Norwegian ✓\n",
      "10000 20% (0m 36s) 2.9509 Marta / Portuguese ✗ (Polish)\n",
      "15000 30% (0m 54s) 1.0446 Juma / Swahili ✓\n",
      "20000 40% (1m 12s) 0.0878 Somchai / Thai ✓\n",
      "25000 50% (1m 30s) 0.0153 Erzsebet / Hungarian ✓\n",
      "30000 60% (1m 45s) 0.4106 Wei / Chinese ✓\n",
      "35000 70% (2m 0s) 0.0005 Krysztof / Polish ✓\n",
      "40000 80% (2m 15s) 0.5017 Jamil / Malay ✓\n",
      "45000 90% (2m 31s) 0.3574 Priya / Hindi ✓\n",
      "50000 100% (2m 48s) 0.0650 Paula / Finnish ✓\n"
     ]
    },
    {
     "data": {
      "image/png": "[encoded data removed]",
      "text/plain": [
       "<Figure size 640x480 with 1 Axes>"
      ]
     },
     "metadata": {},
     "output_type": "display_data"
    }
   ],
   "source": [
    "def train_model(n_iters=50000, print_every=5000, plot_every=1000):\n",
    "    current_loss = 0\n",
    "    all_losses = []\n",
    "    start = time.time()\n",
    "\n",
    "    for iter in range(1, n_iters + 1):\n",
    "        category, line, category_tensor, line_tensor = randomTrainingExample()\n",
    "        output, loss = train(category_tensor, line_tensor)\n",
    "        current_loss += loss\n",
    "\n",
    "        if iter % print_every == 0:\n",
    "            guess, guess_i = categoryFromOutput(output)\n",
    "            correct = '✓' if guess == category else '✗ (%s)' % category\n",
    "            print('%d %d%% (%s) %.4f %s / %s %s' % (iter, iter / n_iters * 100, timeSince(start), loss, line, guess, correct))\n",
    "\n",
    "        if iter % plot_every == 0:\n",
    "            all_losses.append(current_loss / plot_every)\n",
    "            current_loss = 0\n",
    "\n",
    "    plt.figure()\n",
    "    plt.plot(all_losses)\n",
    "    plt.title('Training Loss')\n",
    "    plt.xlabel('Iterations')\n",
    "    plt.ylabel('Loss')\n",
    "    plt.show()\n",
    "\n",
    "train_model()\n"
   ]
  },
  {
   "cell_type": "code",
   "execution_count": 23,
   "metadata": {},
   "outputs": [
    {
     "name": "stdout",
     "output_type": "stream",
     "text": [
      "Validation Accuracy: 85.14%\n"
     ]
    }
   ],
   "source": [
    "print('Validation Accuracy: {:.2f}%'.format(calculate_accuracy() * 100))"
   ]
  }
 ],
 "metadata": {
  "kernelspec": {
   "display_name": "Python 3",
   "language": "python",
   "name": "python3"
  },
  "language_info": {
   "codemirror_mode": {
    "name": "ipython",
    "version": 3
   },
   "file_extension": ".py",
   "mimetype": "text/x-python",
   "name": "python",
   "nbconvert_exporter": "python",
   "pygments_lexer": "ipython3",
   "version": "3.9.7"
  }
 },
 "nbformat": 4,
 "nbformat_minor": 2
}
