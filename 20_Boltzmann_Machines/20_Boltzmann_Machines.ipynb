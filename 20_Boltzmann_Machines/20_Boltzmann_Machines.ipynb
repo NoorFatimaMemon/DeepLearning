{
  "cells": [
    {
      "cell_type": "markdown",
      "metadata": {
        "id": "zg2c3t118Ou8"
      },
      "source": [
        "# **RESTRICTED BOLTZMANN MACHINES**"
      ]
    },
    {
      "cell_type": "markdown",
      "metadata": {},
      "source": [
        "### **Load Required Libraries**"
      ]
    },
    {
      "cell_type": "code",
      "execution_count": 1,
      "metadata": {
        "id": "-TJqWS8U8OvA"
      },
      "outputs": [
        {
          "name": "stdout",
          "output_type": "stream",
          "text": [
            "WARNING:tensorflow:From C:\\Users\\Noor\\AppData\\Roaming\\Python\\Python39\\site-packages\\keras\\src\\losses.py:2976: The name tf.losses.sparse_softmax_cross_entropy is deprecated. Please use tf.compat.v1.losses.sparse_softmax_cross_entropy instead.\n",
            "\n"
          ]
        }
      ],
      "source": [
        "import tensorflow as tf\n",
        "from sklearn.datasets import load_iris\n",
        "from sklearn.preprocessing import StandardScaler\n",
        "import matplotlib.pyplot as plt"
      ]
    },
    {
      "cell_type": "markdown",
      "metadata": {},
      "source": [
        "### **Load and Preprocess the Iris Dataset**\n",
        "\n",
        "In this dataset:\n",
        "+ **Iris features**: 4 features (sepal length, sepal width, petal length, petal width)\n",
        "+ **Number of classes**: 3 (but we will ignore class information for RBM training)"
      ]
    },
    {
      "cell_type": "code",
      "execution_count": 2,
      "metadata": {},
      "outputs": [],
      "source": [
        "iris = load_iris()\n",
        "data = iris.data\n",
        "target = iris.target\n",
        "\n",
        "scaler = StandardScaler()\n",
        "data = scaler.fit_transform(data)\n",
        "\n",
        "data = tf.constant(data, dtype=tf.float32)"
      ]
    },
    {
      "cell_type": "markdown",
      "metadata": {},
      "source": [
        "### **Define RBM Layers**"
      ]
    },
    {
      "cell_type": "code",
      "execution_count": 3,
      "metadata": {},
      "outputs": [],
      "source": [
        "V = 4  # Number of features in data\n",
        "H = 3  # Number of hidden units\n",
        "\n",
        "# biases and weights\n",
        "v_bias = tf.Variable(tf.zeros([V]), tf.float32) # Bias for visible units (features).\n",
        "h_bias = tf.Variable(tf.zeros([H]), tf.float32) # Bias for hidden units.\n",
        "W = tf.Variable(tf.random.normal([V, H], stddev=1.0, dtype=tf.float32))"
      ]
    },
    {
      "cell_type": "markdown",
      "metadata": {},
      "source": [
        "### **Define Forward and Backward Pass Functions**"
      ]
    },
    {
      "cell_type": "code",
      "execution_count": 4,
      "metadata": {},
      "outputs": [],
      "source": [
        "def hidden_layer(v0_state, W, hb):\n",
        "    h0_prob = tf.nn.sigmoid(tf.matmul(v0_state, W) + hb)\n",
        "    h0_state = tf.nn.relu(tf.sign(h0_prob - tf.random.uniform(tf.shape(h0_prob))))\n",
        "    return h0_state\n",
        "\n",
        "def reconstructed_output(h0_state, W, vb):\n",
        "    v1_prob = tf.nn.sigmoid(tf.matmul(h0_state, tf.transpose(W)) + vb)\n",
        "    v1_state = tf.nn.relu(tf.sign(v1_prob - tf.random.uniform(tf.shape(v1_prob))))\n",
        "    return v1_state"
      ]
    },
    {
      "cell_type": "markdown",
      "metadata": {},
      "source": [
        "hidden_layer: Calculates probabilities of hidden layer units given the visible units.\n",
        "+ h0_prob: Probability of hidden units being active.\n",
        "+ h0_state: Binary state of hidden units (activated or not).\n",
        "\n",
        "reconstructed_output: Reconstructs the visible layer from the hidden layer.\n",
        "+ v1_prob: Probability of visible units being active after reconstruction.\n",
        "+ v1_state: Binary state of reconstructed visible units."
      ]
    },
    {
      "cell_type": "markdown",
      "metadata": {},
      "source": [
        "### **Define the Error Function**\n",
        "\n",
        "Computes the reconstruction error between the original visible state and the reconstructed visible state. This is used to gauge the performance of the RBM."
      ]
    },
    {
      "cell_type": "code",
      "execution_count": 5,
      "metadata": {},
      "outputs": [],
      "source": [
        "def error(v0_state, v1_state):\n",
        "    return tf.reduce_mean(tf.square(v0_state - v1_state))"
      ]
    },
    {
      "cell_type": "markdown",
      "metadata": {},
      "source": [
        "### **Training the Model**"
      ]
    },
    {
      "cell_type": "code",
      "execution_count": 6,
      "metadata": {},
      "outputs": [
        {
          "name": "stdout",
          "output_type": "stream",
          "text": [
            "Epoch: 0 sample #: 29 reconstruction error: 4.114938\n",
            "Epoch: 0 sample #: 29 reconstruction error: 1.641178\n",
            "Epoch: 0 sample #: 29 reconstruction error: 1.720338\n",
            "Epoch: 0 sample #: 29 reconstruction error: 2.332407\n",
            "Epoch: 0 sample #: 29 reconstruction error: 0.346549\n",
            "Epoch: 1 sample #: 29 reconstruction error: 2.264539\n",
            "Epoch: 1 sample #: 29 reconstruction error: 0.979894\n",
            "Epoch: 1 sample #: 29 reconstruction error: 1.720338\n",
            "Epoch: 1 sample #: 29 reconstruction error: 2.332407\n",
            "Epoch: 1 sample #: 29 reconstruction error: 0.030559\n"
          ]
        }
      ],
      "source": [
        "learning_rate = 0.001\n",
        "epochs = 2\n",
        "batchsize = 30 \n",
        "K = 1   # No. of Gibbs sampling steps\n",
        "errors = []\n",
        "\n",
        "# Creating dataset from the Iris data and batching it.\n",
        "train_ds = tf.data.Dataset.from_tensor_slices(data).batch(batchsize)\n",
        "\n",
        "for epoch in range(epochs):\n",
        "    for batch_x in train_ds:\n",
        "        for i_sample in range(batchsize):\n",
        "            for k in range(K):\n",
        "                v0_state = batch_x[i_sample:i_sample+1] # Original visible layer.\n",
        "                h0_state = hidden_layer(v0_state, W, h_bias)\n",
        "                v1_state = reconstructed_output(h0_state, W, v_bias)    # Reconstructed visible state.\n",
        "                h1_state = hidden_layer(v1_state, W, h_bias)\n",
        "\n",
        "                delta_W = tf.matmul(tf.transpose(v0_state), h0_state) - tf.matmul(tf.transpose(v1_state), h1_state)\n",
        "                W.assign_add(learning_rate * delta_W)\n",
        "\n",
        "                v_bias.assign_add(learning_rate * tf.reduce_mean(v0_state - v1_state, 0))\n",
        "                h_bias.assign_add(learning_rate * tf.reduce_mean(h0_state - h1_state, 0))\n",
        "\n",
        "                v0_state = v1_state\n",
        "\n",
        "            if i_sample == batchsize-1:\n",
        "                err = error(batch_x[i_sample:i_sample+1], v1_state)\n",
        "                errors.append(err.numpy())\n",
        "                print('Epoch: %d' % epoch, 'sample #: %i' % i_sample, 'reconstruction error: %f' % err.numpy())"
      ]
    },
    {
      "cell_type": "markdown",
      "metadata": {},
      "source": [
        "### **Visualize Training Errors**"
      ]
    },
    {
      "cell_type": "code",
      "execution_count": 7,
      "metadata": {},
      "outputs": [
        {
          "data": {
            "image/png": "[encoded data removed]",
            "text/plain": [
              "<Figure size 640x480 with 1 Axes>"
            ]
          },
          "metadata": {},
          "output_type": "display_data"
        }
      ],
      "source": [
        "plt.plot(errors)\n",
        "plt.xlabel(\"Batch Number\")\n",
        "plt.ylabel(\"Error\")\n",
        "plt.grid()\n",
        "plt.show()"
      ]
    }
  ],
  "metadata": {
    "accelerator": "GPU",
    "colab": {
      "name": "18_Boltzmann_Machines.ipynb",
      "provenance": []
    },
    "kernelspec": {
      "display_name": "Python 3",
      "name": "python3"
    },
    "language_info": {
      "codemirror_mode": {
        "name": "ipython",
        "version": 3
      },
      "file_extension": ".py",
      "mimetype": "text/x-python",
      "name": "python",
      "nbconvert_exporter": "python",
      "pygments_lexer": "ipython3",
      "version": "3.9.7"
    }
  },
  "nbformat": 4,
  "nbformat_minor": 0
}
